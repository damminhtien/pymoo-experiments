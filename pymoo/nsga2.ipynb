{
 "cells": [
  {
   "cell_type": "code",
   "execution_count": 1,
   "metadata": {},
   "outputs": [],
   "source": [
    "import numpy as np\n",
    "import matplotlib.pyplot as plt"
   ]
  },
  {
   "cell_type": "code",
   "execution_count": 2,
   "metadata": {},
   "outputs": [],
   "source": [
    "from core.problem import ElementwiseProblem\n",
    "from algorithms.moo.nsga2 import NSGA2\n",
    "from constraints.as_obj import ConstraintsAsObjective\n",
    "# from constraints.as_obj import ModifiedConstraintsAsObjective\n",
    "from constraints.from_bounds import ConstraintsFromBounds\n",
    "from constraints.as_penalty import ConstraintsAsPenalty\n",
    "from gradient.automatic import MyAutomaticDifferentiation\n",
    "from operators.survival.rank_and_crowding.classes import RankAndCrowding\n",
    "from optimize import minimize\n",
    "from visualization.scatter import Scatter\n",
    "\n",
    "from pymoo.core.survival import Survival\n",
    "from pymoo.operators.survival.rank_and_crowding.metrics import (\n",
    "    calc_crowding_distance,\n",
    "    get_crowding_function,\n",
    ")\n",
    "from pymoo.util.nds.non_dominated_sorting import NonDominatedSorting\n",
    "from pymoo.problems import get_problem\n",
    "from pymoo.util.plotting import plot"
   ]
  },
  {
   "cell_type": "code",
   "execution_count": 3,
   "metadata": {},
   "outputs": [],
   "source": [
    "class ConstraintAsObjectiveSurvival(Survival):\n",
    "    def __init__(self, nds=None, crowding_func=\"cd\"):\n",
    "        \"\"\"\n",
    "        A generalization of the NSGA-II survival operator that ranks individuals by dominance criteria\n",
    "        and sorts the last front by some user-specified crowding metric. The default is NSGA-II's crowding distances\n",
    "        although others might be more effective.\n",
    "\n",
    "        For many-objective problems, try using 'mnn' or '2nn'.\n",
    "\n",
    "        For Bi-objective problems, 'pcd' is very effective.\n",
    "\n",
    "        Parameters\n",
    "        ----------\n",
    "        nds : str or None, optional\n",
    "            Pymoo type of non-dominated sorting. Defaults to None.\n",
    "\n",
    "        crowding_func : str or callable, optional\n",
    "            Crowding metric. Options are:\n",
    "\n",
    "                - 'cd': crowding distances\n",
    "                - 'pcd' or 'pruning-cd': improved pruning based on crowding distances\n",
    "                - 'ce': crowding entropy\n",
    "                - 'mnn': M-Nearest Neighbors\n",
    "                - '2nn': 2-Nearest Neighbors\n",
    "\n",
    "            If callable, it has the form ``fun(F, filter_out_duplicates=None, n_remove=None, **kwargs)``\n",
    "            in which F (n, m) and must return metrics in a (n,) array.\n",
    "\n",
    "            The options 'pcd', 'cd', and 'ce' are recommended for two-objective problems, whereas 'mnn' and '2nn' for many objective.\n",
    "            When using 'pcd', 'mnn', or '2nn', individuals are already eliminated in a 'single' manner.\n",
    "            Due to Cython implementation, they are as fast as the corresponding 'cd', 'mnn-fast', or '2nn-fast',\n",
    "            although they can singnificantly improve diversity of solutions.\n",
    "            Defaults to 'cd'.\n",
    "        \"\"\"\n",
    "\n",
    "        crowding_func_ = get_crowding_function(crowding_func)\n",
    "\n",
    "        super().__init__(filter_infeasible=True)\n",
    "        self.nds = nds if nds is not None else NonDominatedSorting()\n",
    "        self.crowding_func = crowding_func_\n",
    "        self.ranking = RankAndCrowding(nds=nds, crowding_func=crowding_func)\n",
    "\n",
    "    def _do(self, problem, pop, n_survive, algorithm=None, **kwargs):\n",
    "        # Extract objective values and constraint violation values\n",
    "        F = pop.get(\"F\").astype(float, copy=False)\n",
    "\n",
    "        CV = F[:, -1]  # assuming CV is the last column in F\n",
    "        true_objectives = F[:, :-1]  # all but the last column\n",
    "\n",
    "        # Split population based on feasibility\n",
    "        is_feasible = CV <= 0\n",
    "        feasible = pop[is_feasible]\n",
    "        infeasible = pop[np.logical_not(is_feasible)]\n",
    "\n",
    "        # Perform non-dominated sorting and crowding distance calculation on feasible solutions\n",
    "        if len(feasible) > 0:\n",
    "            fronts = self.nds.do(\n",
    "                true_objectives[is_feasible], n_stop_if_ranked=n_survive\n",
    "            )\n",
    "            feasible = self.sort_by_fronts(\n",
    "                feasible, true_objectives[is_feasible], fronts, n_survive\n",
    "            )\n",
    "\n",
    "        # Directly sort infeasible solutions by their constraint violation in ascending order\n",
    "        if len(infeasible) > 0:\n",
    "            infeasible_indices = np.argsort(CV[np.logical_not(is_feasible)])\n",
    "            infeasible = infeasible[infeasible_indices[: n_survive - len(feasible)]]\n",
    "\n",
    "        # Merge feasible and infeasible solutions based on their ranking and constraint handling\n",
    "        survivors = pop.create(np.concatenate([feasible, infeasible]))\n",
    "        return survivors\n",
    "\n",
    "    def sort_by_fronts(self, pop, objectives, fronts, n_survive):\n",
    "        survivors = []\n",
    "        for front in fronts:\n",
    "            if len(survivors) + len(front) > n_survive:\n",
    "                # Calculate crowding distance within the front\n",
    "                distances = calc_crowding_distance(objectives[front])\n",
    "                # Choose the best based on crowding distance\n",
    "                selected = np.argsort(-distances)[: n_survive - len(survivors)]\n",
    "                survivors.extend(pop[front][selected])\n",
    "                break\n",
    "            survivors.extend(pop[front])\n",
    "        return survivors\n",
    "\n",
    "    def _do(self, problem, pop, *args, n_survive=None, **kwargs):\n",
    "\n",
    "        if n_survive is None:\n",
    "            n_survive = len(pop)\n",
    "\n",
    "        n_survive = min(n_survive, len(pop))\n",
    "\n",
    "        # If the split should be done beforehand\n",
    "        if problem.n_constr > 0:\n",
    "\n",
    "            # Split by feasibility\n",
    "            feas, infeas = split_by_feasibility(\n",
    "                pop, sort_infeas_by_cv=True, sort_feas_by_obj=False, return_pop=False\n",
    "            )\n",
    "\n",
    "            # Obtain len of feasible\n",
    "            n_feas = len(feas)\n",
    "\n",
    "            # Assure there is at least_one survivor\n",
    "            if n_feas == 0:\n",
    "                survivors = Population()\n",
    "            else:\n",
    "                survivors = self.ranking.do(\n",
    "                    problem,\n",
    "                    pop[feas],\n",
    "                    *args,\n",
    "                    n_survive=min(len(feas), n_survive),\n",
    "                    **kwargs\n",
    "                )\n",
    "\n",
    "            # Calculate how many individuals are still remaining to be filled up with infeasible ones\n",
    "            n_remaining = n_survive - len(survivors)\n",
    "\n",
    "            # If infeasible solutions need to be added\n",
    "            if n_remaining > 0:\n",
    "\n",
    "                # Constraints to new ranking\n",
    "                G = pop[infeas].get(\"G\")\n",
    "                G = np.maximum(G, 0)\n",
    "                H = pop[infeas].get(\"H\")\n",
    "                H = np.absolute(H)\n",
    "                C = np.column_stack((G, H))\n",
    "\n",
    "                # Fronts in infeasible population\n",
    "                infeas_fronts = self.nds.do(C, n_stop_if_ranked=n_remaining)\n",
    "\n",
    "                # Iterate over fronts\n",
    "                for k, front in enumerate(infeas_fronts):\n",
    "\n",
    "                    # Save ranks\n",
    "                    pop[infeas][front].set(\"cv_rank\", k)\n",
    "\n",
    "                    # Current front sorted by CV\n",
    "                    if len(survivors) + len(front) > n_survive:\n",
    "\n",
    "                        # Obtain CV of front\n",
    "                        CV = pop[infeas][front].get(\"CV\").flatten()\n",
    "                        I = randomized_argsort(CV, order=\"ascending\", method=\"numpy\")\n",
    "                        I = I[: (n_survive - len(survivors))]\n",
    "\n",
    "                    # Otherwise take the whole front unsorted\n",
    "                    else:\n",
    "                        I = np.arange(len(front))\n",
    "\n",
    "                    # extend the survivors by all or selected individuals\n",
    "                    survivors = Population.merge(survivors, pop[infeas][front[I]])\n",
    "\n",
    "        else:\n",
    "            survivors = self.ranking.do(\n",
    "                problem, pop, *args, n_survive=n_survive, **kwargs\n",
    "            )\n",
    "\n",
    "        return survivors"
   ]
  },
  {
   "cell_type": "code",
   "execution_count": 3,
   "metadata": {},
   "outputs": [],
   "source": [
    "algorithm = NSGA2(\n",
    "    pop_size=100,\n",
    "    # pcd, mnn, 2nn implementation are in Cython (cannot run directly on Jupyter notebook)\n",
    "    survival=RankAndCrowding()\n",
    ")\n",
    "\n",
    "# algorithm2 = NSGA2(\n",
    "#     pop_size=100,\n",
    "# pcd, mnn, 2nn implementation are in Cython (cannot run directly on Jupyter notebook)\n",
    "#     survival=ConstraintAsObjectiveSurvival()\n",
    "# )"
   ]
  },
  {
   "cell_type": "code",
   "execution_count": 4,
   "metadata": {},
   "outputs": [],
   "source": [
    "import time\n",
    "\n",
    "\n",
    "def performance_timer(func):\n",
    "    \"\"\"\n",
    "    A decorator to measure and print the execution time of a function.\n",
    "    \"\"\"\n",
    "    def wrapper(*args, **kwargs):\n",
    "        start_time = time.time()  # Capture the start time\n",
    "        result = func(*args, **kwargs)  # Execute the function\n",
    "        end_time = time.time()  # Capture the end time\n",
    "        duration = end_time - start_time  # Calculate duration\n",
    "        print(f\"{func.__name__} executed in {duration:.6f} seconds\")\n",
    "        return result\n",
    "    return wrapper\n",
    "\n",
    "\n",
    "@performance_timer\n",
    "def minimize_(*args, **kwargs):\n",
    "    return minimize(*args, **kwargs)"
   ]
  },
  {
   "cell_type": "code",
   "execution_count": 5,
   "metadata": {},
   "outputs": [],
   "source": [
    "from constraints.as_obj import CVRAsObjective, WCVFAsObjective\n",
    "\n",
    "\n",
    "@performance_timer\n",
    "def compare_on(problem, n_gen=300):\n",
    "    res0 = minimize_(problem,\n",
    "                     algorithm,\n",
    "                     ('n_gen', n_gen),\n",
    "                     seed=1,\n",
    "                     verbose=False)\n",
    "\n",
    "    res1 = minimize_(ConstraintsAsObjective(problem),\n",
    "                     algorithm,\n",
    "                     ('n_gen', n_gen),\n",
    "                     seed=1,\n",
    "                     verbose=False)\n",
    "\n",
    "    res2 = minimize_(CVRAsObjective(problem),\n",
    "                     algorithm,\n",
    "                     ('n_gen', n_gen),\n",
    "                     seed=1,\n",
    "                     verbose=False)\n",
    "\n",
    "    res3 = minimize_(WCVFAsObjective(problem),\n",
    "                     algorithm,\n",
    "                     ('n_gen', n_gen),\n",
    "                     seed=1,\n",
    "                     verbose=False)\n",
    "\n",
    "    # res2 = minimize_(ConstraintsAsObjective(problem, config=dict(\n",
    "    #     cache=True,\n",
    "    #     cv_eps=0.0,\n",
    "    #     cv_ieq=dict(scale=None, eps=0.0, pow=None, func=np.max),\n",
    "    #     cv_eq=dict(scale=None, eps=1e-4, pow=None, func=np.max),\n",
    "    # )),\n",
    "    #     algorithm,\n",
    "    #     ('n_gen', n_gen),\n",
    "    #     seed=1,\n",
    "    #     verbose=False)\n",
    "\n",
    "    # res3 = minimize_(CVRAsObjective(problem, config=dict(\n",
    "    #     cache=True,\n",
    "    #     cv_eps=0.0,\n",
    "    #     cv_ieq=dict(scale=None, eps=0.0, pow=None, func=np.median),\n",
    "    #     cv_eq=dict(scale=None, eps=1e-4, pow=None, func=np.median), # mean, sum of square, count of violation\n",
    "    # )),\n",
    "    #     algorithm,\n",
    "    #     ('n_gen', n_gen),\n",
    "    #     seed=1,\n",
    "    #     verbose=False)\n",
    "\n",
    "    return res0, res1, res2, res3"
   ]
  },
  {
   "cell_type": "markdown",
   "metadata": {},
   "source": [
    "# Custom problem\n"
   ]
  },
  {
   "cell_type": "code",
   "execution_count": 6,
   "metadata": {},
   "outputs": [],
   "source": [
    "class ConstrainedProblem(ElementwiseProblem):\n",
    "\n",
    "    def __init__(self, **kwargs):\n",
    "        super().__init__(n_var=2, n_obj=1, n_ieq_constr=1,\n",
    "                         n_eq_constr=0, xl=0, xu=2, **kwargs)\n",
    "\n",
    "    def _evaluate(self, x, out, *args, **kwargs):\n",
    "        out[\"F\"] = x[0] ** 2 + x[1] ** 2\n",
    "        out[\"G\"] = 1.0 - (x[0] + x[1])"
   ]
  },
  {
   "cell_type": "code",
   "execution_count": null,
   "metadata": {},
   "outputs": [],
   "source": [
    "problem = ConstrainedProblem()\n",
    "\n",
    "res0, res1, res2, res3 = compare_on(problem)\n",
    "\n",
    "plot = Scatter()\n",
    "plot.add(problem.pareto_front(), marker=\"*\",\n",
    "         color=\"orange\", label='Pareto front')\n",
    "plot.add(res0.F, marker=\"x\", color=\"red\", label='Death penalty')\n",
    "plot.add(res1.F[:, :-1], marker=\"+\", color=\"green\", label='Baseline CV_as_obj')\n",
    "plot.add(res2.F[:, :-1], marker=\"1\", color=\"blue\", label='Our CV_as_obj')\n",
    "plot.add(res3.F[:, :-1], marker=\"2\", color=\"purple\", label='Our CV_as_obj')\n",
    "plot.show()"
   ]
  },
  {
   "cell_type": "code",
   "execution_count": null,
   "metadata": {},
   "outputs": [],
   "source": [
    "# print(f'F1-F2: {sum(res1.F - res2.F)}   F2-F3{sum(res2.F - res3.F)}   F1-F3{sum(res1.F - res3.F)}')"
   ]
  },
  {
   "cell_type": "code",
   "execution_count": null,
   "metadata": {},
   "outputs": [],
   "source": [
    "res1.F"
   ]
  },
  {
   "cell_type": "code",
   "execution_count": null,
   "metadata": {},
   "outputs": [],
   "source": [
    "# from pymoo.core.evaluator import Evaluator\n",
    "# from pymoo.core.individual import Individual\n",
    "\n",
    "# cv = res1.F[:, 0]\n",
    "# least_infeas = cv.argmin()\n",
    "# x = res1.X[least_infeas]\n",
    "\n",
    "# sol = Individual(X=x)\n",
    "# Evaluator().eval(problem, sol)\n",
    "\n",
    "# print(\"Best solution found: \\nX = %s\\nF = %s\\nCV = %s\" % (sol.X, sol.F, sol.CV))"
   ]
  },
  {
   "cell_type": "code",
   "execution_count": null,
   "metadata": {},
   "outputs": [],
   "source": [
    "# cv = res2.F[:, 0]\n",
    "# least_infeas = cv.argmin()\n",
    "# x = res2.X[least_infeas]\n",
    "\n",
    "# sol = Individual(X=x)\n",
    "# Evaluator().eval(problem, sol)\n",
    "\n",
    "# print(\"Best solution found: \\nX = %s\\nF = %s\\nCV = %s\" % (sol.X, sol.F, sol.CV))"
   ]
  },
  {
   "cell_type": "markdown",
   "metadata": {},
   "source": [
    "# BNH\n"
   ]
  },
  {
   "cell_type": "code",
   "execution_count": null,
   "metadata": {},
   "outputs": [],
   "source": [
    "problem_bnh = get_problem(\"bnh\")\n",
    "problem = problem_bnh\n",
    "print(f'Problem {problem.name}: n_var={problem.n_var} n_obj={problem.n_obj} n_ieq_constr={problem.n_ieq_constr} n_eq_constr={problem.n_eq_constr}')\n",
    "\n",
    "res0, res1, res2, res3 = compare_on(problem)\n",
    "print(f'F1-F2: {sum(res1.F - res2.F)}   F2-F3{sum(res2.F - res3.F)}   F1-F3{sum(res1.F - res3.F)}')\n",
    "\n",
    "plot = Scatter()\n",
    "plot.add(problem.pareto_front(), marker=\"*\",\n",
    "         color=\"orange\", label='Pareto front')\n",
    "plot.add(res0.F, marker=\"x\", color=\"red\", label='Death penalty')\n",
    "plot.add(res1.F[:, :-1], marker=\"+\", color=\"green\", label='Baseline CV_as_obj')\n",
    "plot.add(res2.F[:, :-1], marker=\"1\", color=\"blue\", label='Our CV_as_obj')\n",
    "plot.add(res3.F[:, :-1], marker=\"1\", color=\"purple\", label='Our CV_as_obj')\n",
    "plot.show()"
   ]
  },
  {
   "cell_type": "code",
   "execution_count": null,
   "metadata": {},
   "outputs": [],
   "source": [
    "plot = Scatter()\n",
    "plot.add(problem.pareto_front(), marker=\"*\",\n",
    "         color=\"orange\", label='Pareto front')\n",
    "# plot.add(res0.F, marker=\"x\", color=\"red\", label='Death penalty')\n",
    "# plot.add(res1.F[:, :-1], marker=\"+\", color=\"green\", label='Baseline CV_as_obj')\n",
    "# plot.add(res2.F[:, :-1], marker=\"1\", color=\"blue\", label='Our CV_as_obj')\n",
    "plot.add(res3.F[:, :-1], marker=\"1\", color=\"purple\", label='Our CV_as_obj')\n",
    "plot.show()"
   ]
  },
  {
   "cell_type": "markdown",
   "metadata": {},
   "source": [
    "# ZDT\n"
   ]
  },
  {
   "cell_type": "code",
   "execution_count": null,
   "metadata": {},
   "outputs": [],
   "source": [
    "problem_zdt1 = get_problem(\"zdt1\")\n",
    "problem = problem_zdt1\n",
    "print(f'Problem {problem.name}: n_var={problem.n_var} n_obj={problem.n_obj} n_ieq_constr={problem.n_ieq_constr} n_eq_constr={problem.n_eq_constr}')\n",
    "\n",
    "res0, res1, res2, res3 = compare_on(problem)\n",
    "print(f'F1-F2: {sum(res1.F - res2.F)}   F2-F3{sum(res2.F - res3.F)}   F1-F3{sum(res1.F - res3.F)}')\n",
    "\n",
    "plot = Scatter()\n",
    "plot.add(problem.pareto_front(), marker=\"*\",\n",
    "         color=\"orange\", label='Pareto front')\n",
    "plot.add(res0.F, marker=\"x\", color=\"red\", label='Death penalty')\n",
    "plot.add(res1.F[:, :-1], marker=\"+\", color=\"green\", label='Baseline CV_as_obj')\n",
    "plot.add(res2.F[:, :-1], marker=\"1\", color=\"blue\", label='Our CV_as_obj')\n",
    "plot.add(res3.F[:, :-1], marker=\"1\", color=\"purple\", label='Our CV_as_obj')\n",
    "plot.show()"
   ]
  },
  {
   "cell_type": "code",
   "execution_count": null,
   "metadata": {},
   "outputs": [],
   "source": [
    "problem_zdt2 = get_problem(\"zdt2\")\n",
    "\n",
    "res0, res1, res2, res3 = compare_on(problem_zdt2)\n",
    "\n",
    "plot = Scatter()\n",
    "plot.add(problem_zdt2.pareto_front(), marker=\"*\",\n",
    "         color=\"orange\", label='Pareto front')\n",
    "plot.add(res0.F, marker=\"x\", color=\"red\", label='Death penalty')\n",
    "plot.add(res1.F[:, :-1], marker=\"+\", color=\"green\", label='Baseline CV_as_obj')\n",
    "plot.add(res2.F[:, :-1], marker=\"1\", color=\"blue\", label='Our CV_as_obj')\n",
    "plot.add(res3.F[:, :-1], marker=\"1\", color=\"purple\", label='Our CV_as_obj')\n",
    "plot.show()"
   ]
  },
  {
   "cell_type": "code",
   "execution_count": null,
   "metadata": {},
   "outputs": [],
   "source": [
    "print(\n",
    "    f\"F1-F2: {sum(res1.F - res2.F)}   F2-F3{sum(res2.F - res3.F)}   F1-F3{sum(res1.F - res3.F)}\"\n",
    ")"
   ]
  },
  {
   "cell_type": "code",
   "execution_count": null,
   "metadata": {},
   "outputs": [],
   "source": [
    "problem_zdt3 = get_problem(\"zdt3\")\n",
    "\n",
    "res0, res1, res2, res3 = compare_on(problem_zdt3)\n",
    "\n",
    "plot = Scatter()\n",
    "plot.add(problem_zdt3.pareto_front(), marker=\"*\",\n",
    "         color=\"orange\", label='Pareto front')\n",
    "plot.add(res0.F, marker=\"x\", color=\"red\", label='Death penalty')\n",
    "plot.add(res1.F[:, :-1], marker=\"+\", color=\"green\", label='Baseline CV_as_obj')\n",
    "plot.add(res2.F[:, :-1], marker=\"1\", color=\"blue\", label='Our CV_as_obj')\n",
    "plot.add(res3.F[:, :-1], marker=\"1\", color=\"purple\", label='Our CV_as_obj')\n",
    "plot.show()"
   ]
  },
  {
   "cell_type": "code",
   "execution_count": null,
   "metadata": {},
   "outputs": [],
   "source": [
    "print(\n",
    "    f\"F1-F2: {sum(res1.F - res2.F)}   F2-F3{sum(res2.F - res3.F)}   F1-F3{sum(res1.F - res3.F)}\"\n",
    ")"
   ]
  },
  {
   "cell_type": "code",
   "execution_count": null,
   "metadata": {},
   "outputs": [],
   "source": [
    "problem_zdt4 = get_problem(\"zdt4\")\n",
    "\n",
    "res0, res1, res2, res3 = compare_on(problem_zdt4)\n",
    "print(f'F1-F2: {sum(res1.F - res2.F)}   F2-F3{sum(res2.F - res3.F)}   F1-F3{sum(res1.F - res3.F)}')\n",
    "\n",
    "plot = Scatter()\n",
    "plot.add(problem_zdt4.pareto_front(), marker=\"*\",\n",
    "         color=\"orange\", label='Pareto front')\n",
    "plot.add(res0.F, marker=\"x\", color=\"red\", label='Death penalty')\n",
    "plot.add(res1.F[:, :-1], marker=\"+\", color=\"green\", label='Baseline CV_as_obj')\n",
    "plot.add(res2.F[:, :-1], marker=\"1\", color=\"blue\", label='Our CV_as_obj')\n",
    "plot.add(res3.F[:, :-1], marker=\"1\", color=\"purple\", label='Our CV_as_obj')\n",
    "plot.show()"
   ]
  },
  {
   "cell_type": "code",
   "execution_count": null,
   "metadata": {},
   "outputs": [],
   "source": [
    "plot = Scatter()\n",
    "plot.add(res1.F, facecolor=\"none\", edgecolor=\"green\")\n",
    "plot.add(res2.F, facecolor=\"none\", edgecolor=\"blue\")\n",
    "plot.add(res3.F, facecolor=\"none\", edgecolor=\"purple\")\n",
    "plot.show()"
   ]
  },
  {
   "cell_type": "code",
   "execution_count": null,
   "metadata": {},
   "outputs": [],
   "source": [
    "problem_zdt5 = get_problem(\"zdt5\", normalize=False)\n",
    "\n",
    "res0, res1, res2, res3 = compare_on(problem_zdt5, n_gen=3000)\n",
    "print(f'F1-F2: {sum(res1.F - res2.F)}   F2-F3{sum(res2.F - res3.F)}   F1-F3{sum(res1.F - res3.F)}')\n",
    "\n",
    "plot = Scatter()\n",
    "plot.add(problem_zdt5.pareto_front(), marker=\"*\",\n",
    "         color=\"orange\", label='Pareto front')\n",
    "plot.add(res0.F, marker=\"x\", color=\"red\", label='Death penalty')\n",
    "plot.add(res1.F[:, :-1], marker=\"+\", color=\"green\", label='Baseline CV_as_obj')\n",
    "plot.add(res2.F[:, :-1], marker=\"1\", color=\"blue\", label='Our CV_as_obj')\n",
    "plot.add(res3.F[:, :-1], marker=\"1\", color=\"purple\", label='Our CV_as_obj')\n",
    "plot.show()"
   ]
  },
  {
   "cell_type": "code",
   "execution_count": null,
   "metadata": {},
   "outputs": [],
   "source": [
    "problem_zdt6 = get_problem(\"zdt6\")\n",
    "\n",
    "res0, res1, res2, res3 = compare_on(problem_zdt6)\n",
    "print(f'F1-F2: {sum(res1.F - res2.F)}   F2-F3{sum(res2.F - res3.F)}   F1-F3{sum(res1.F - res3.F)}')\n",
    "\n",
    "plot = Scatter()\n",
    "plot.add(problem_zdt6.pareto_front(), marker=\"*\",\n",
    "         color=\"orange\", label='Pareto front')\n",
    "plot.add(res0.F, marker=\"x\", color=\"red\", label='Death penalty')\n",
    "plot.add(res1.F[:, :-1], marker=\"+\", color=\"green\", label='Baseline CV_as_obj')\n",
    "plot.add(res2.F[:, :-1], marker=\"1\", color=\"blue\", label='Our CV_as_obj')\n",
    "plot.add(res3.F[:, :-1], marker=\"1\", color=\"purple\", label='Our CV_as_obj')\n",
    "plot.show()"
   ]
  },
  {
   "cell_type": "code",
   "execution_count": null,
   "metadata": {},
   "outputs": [],
   "source": [
    "# cv = res3.F[:, 0]\n",
    "# least_infeas = cv.argmin()\n",
    "# x = res3.X[least_infeas]\n",
    "\n",
    "# sol = Individual(X=x)\n",
    "# Evaluator().eval(problem2, sol)\n",
    "\n",
    "# print(\"Best solution found: \\nX = %s\\nF = %s\\nCV = %s\" % (sol.X, sol.F, sol.CV))"
   ]
  },
  {
   "cell_type": "code",
   "execution_count": null,
   "metadata": {},
   "outputs": [],
   "source": [
    "# plot = Scatter()\n",
    "# plot.add(problem2.pareto_front(), marker=\"*\", color=\"black\", alpha=0.7, s=100)\n",
    "# plot.add(res3.F[:,1:], facecolor=\"none\", edgecolor=\"red\")\n",
    "# plot.show()"
   ]
  },
  {
   "cell_type": "code",
   "execution_count": null,
   "metadata": {},
   "outputs": [],
   "source": [
    "# X, F = res3.opt.get(\"X\", \"F\")\n",
    "# hist = res3.history\n",
    "# print(len(hist))"
   ]
  },
  {
   "cell_type": "code",
   "execution_count": null,
   "metadata": {},
   "outputs": [],
   "source": [
    "# n_evals = []             # corresponding number of function evaluations\\\n",
    "# hist_F = []              # the objective space values in each generation\n",
    "# hist_cv = []             # constraint violation in each generation\n",
    "# hist_cv_avg = []         # average constraint violation in the whole population\n",
    "\n",
    "# for algo in hist:\n",
    "\n",
    "#     # store the number of function evaluations\n",
    "#     n_evals.append(algo.evaluator.n_eval)\n",
    "\n",
    "#     # retrieve the optimum from the algorithm\n",
    "#     opt = algo.opt\n",
    "\n",
    "#     # store the least contraint violation and the average in each population\n",
    "#     hist_cv.append(opt.get(\"CV\").min())\n",
    "#     hist_cv_avg.append(algo.pop.get(\"CV\").mean())\n",
    "\n",
    "#     # filter out only the feasible and append and objective space values\n",
    "#     feas = np.where(opt.get(\"feasible\"))[0]\n",
    "#     hist_F.append(opt.get(\"F\")[feas])"
   ]
  },
  {
   "cell_type": "code",
   "execution_count": null,
   "metadata": {},
   "outputs": [],
   "source": [
    "# k = np.where(np.array(hist_cv) <= 0.0)[0].min()\n",
    "# print(f\"At least one feasible solution in Generation {k} after {n_evals[k]} evaluations.\")"
   ]
  },
  {
   "cell_type": "code",
   "execution_count": null,
   "metadata": {},
   "outputs": [],
   "source": [
    "# # replace this line by `hist_cv` if you like to analyze the least feasible optimal solution and not the population\n",
    "# vals = hist_cv_avg\n",
    "\n",
    "# k = np.where(np.array(vals) <= 0.0)[0].min()\n",
    "# print(f\"Whole population feasible in Generation {k} after {n_evals[k]} evaluations.\")\n",
    "\n",
    "# plt.figure(figsize=(7, 5))\n",
    "# plt.plot(n_evals, vals,  color='black', lw=0.7, label=\"Avg. CV of Pop\")\n",
    "# plt.scatter(n_evals, vals,  facecolor=\"none\", edgecolor='black', marker=\"p\")\n",
    "# plt.axvline(n_evals[k], color=\"red\", label=\"All Feasible\", linestyle=\"--\")\n",
    "# plt.title(\"Convergence\")\n",
    "# plt.xlabel(\"Function Evaluations\")\n",
    "# plt.ylabel(\"Hypervolume\")\n",
    "# plt.legend()\n",
    "# plt.show()"
   ]
  },
  {
   "cell_type": "code",
   "execution_count": null,
   "metadata": {},
   "outputs": [],
   "source": [
    "# approx_ideal = F[:,-2:].min(axis=0)\n",
    "# approx_nadir = F[:,-2:].max(axis=0)\n",
    "# approx_ideal, approx_nadir"
   ]
  },
  {
   "cell_type": "code",
   "execution_count": null,
   "metadata": {},
   "outputs": [],
   "source": [
    "# from pymoo.indicators.hv import Hypervolume\n",
    "\n",
    "# metric = Hypervolume(ref_point=np.array([0.1, 0.1]),\n",
    "#                      norm_ref_point=False,\n",
    "#                      zero_to_one=True,\n",
    "#                      ideal=approx_ideal,\n",
    "#                      nadir=approx_nadir)\n",
    "\n",
    "# hv = [metric.do(_F[:, -2:]) for _F in hist_F]\n",
    "\n",
    "# plt.figure(figsize=(7, 5))\n",
    "# plt.plot(n_evals, hv, color='black', lw=0.7, label=\"Avg. CV of Pop\")\n",
    "# plt.scatter(n_evals, hv, facecolor=\"none\", edgecolor='black', marker=\"p\")\n",
    "# plt.title(\"Convergence\")\n",
    "# plt.xlabel(\"Function Evaluations\")\n",
    "# plt.ylabel(\"Hypervolume\")\n",
    "# plt.show()"
   ]
  },
  {
   "cell_type": "code",
   "execution_count": null,
   "metadata": {},
   "outputs": [],
   "source": [
    "# from pymoo.util.running_metric import RunningMetricAnimation\n",
    "\n",
    "# running = RunningMetricAnimation(delta_gen=5,\n",
    "#                         n_plots=3,\n",
    "#                         key_press=False,\n",
    "#                         do_show=True)\n",
    "\n",
    "# for algorithm in res3.history[:50]:\n",
    "#     running.update(algorithm)"
   ]
  },
  {
   "cell_type": "code",
   "execution_count": null,
   "metadata": {},
   "outputs": [],
   "source": [
    "# from pymoo.indicators.igd import IGD\n",
    "\n",
    "# metric = IGD(pf, zero_to_one=True)\n",
    "\n",
    "# igd = [metric.do(_F) for _F in hist_F]\n",
    "\n",
    "# plt.plot(n_evals, igd,  color='black', lw=0.7, label=\"Avg. CV of Pop\")\n",
    "# plt.scatter(n_evals, igd,  facecolor=\"none\", edgecolor='black', marker=\"p\")\n",
    "# plt.axhline(10**-2, color=\"red\", label=\"10^-2\", linestyle=\"--\")\n",
    "# plt.title(\"Convergence\")\n",
    "# plt.xlabel(\"Function Evaluations\")\n",
    "# plt.ylabel(\"IGD\")\n",
    "# plt.yscale(\"log\")\n",
    "# plt.legend()\n",
    "# plt.show()"
   ]
  },
  {
   "cell_type": "markdown",
   "metadata": {},
   "source": [
    "# OSY\n"
   ]
  },
  {
   "cell_type": "code",
   "execution_count": null,
   "metadata": {},
   "outputs": [],
   "source": [
    "problem_osy = get_problem(\"osy\")\n",
    "problem = problem_osy\n",
    "print(f'Problem {problem.name}: n_var={problem.n_var} n_obj={problem.n_obj} n_ieq_constr={problem.n_ieq_constr} n_eq_constr={problem.n_eq_constr}')\n",
    "\n",
    "res0, res1, res2, res3 = compare_on(problem)\n",
    "print(f'F1-F2: {sum(res1.F - res2.F)}   F2-F3{sum(res2.F - res3.F)}   F1-F3{sum(res1.F - res3.F)}')\n",
    "\n",
    "plot = Scatter()\n",
    "plot.add(problem.pareto_front(), marker=\"*\",\n",
    "         color=\"orange\", label='Pareto front')\n",
    "plot.add(res0.F, marker=\"x\", color=\"red\", label='Death penalty')\n",
    "plot.add(res1.F[:, :-1], marker=\"+\", color=\"green\", label='Baseline CV_as_obj')\n",
    "plot.add(res2.F[:, :-1], marker=\"1\", color=\"blue\", label='Our CV_as_obj')\n",
    "plot.add(res3.F[:, :-1], marker=\"1\", color=\"purple\", label='Our CV_as_obj')\n",
    "plot.show()"
   ]
  },
  {
   "cell_type": "code",
   "execution_count": null,
   "metadata": {},
   "outputs": [],
   "source": [
    "plot = Scatter()\n",
    "plot.add(res1.F, facecolor=\"none\", edgecolor=\"green\")\n",
    "plot.add(res2.F, facecolor=\"none\", edgecolor=\"blue\")\n",
    "plot.add(res3.F, facecolor=\"none\", edgecolor=\"purple\")\n",
    "plot.show()"
   ]
  },
  {
   "cell_type": "code",
   "execution_count": null,
   "metadata": {},
   "outputs": [],
   "source": [
    "plt.hist(res1.F[:, -1:], bins=30, color='green',\n",
    "         alpha=0.7, label='Sum CV_as_obj')\n",
    "plt.hist(res2.F[:, -1:], bins=30, color='blue',\n",
    "         alpha=0.7, label='Max CV_as_obj')\n",
    "plt.hist(res3.F[:, -1:], bins=30, color='purple',\n",
    "         alpha=0.7, label='Median CV_as_obj')\n",
    "\n",
    "# Add labels and title\n",
    "plt.xlabel('Values')\n",
    "plt.ylabel('Frequency')\n",
    "plt.title('Histogram of CV')\n",
    "\n",
    "# Add a legend\n",
    "plt.legend()\n",
    "\n",
    "# Show the plot\n",
    "plt.show()"
   ]
  },
  {
   "cell_type": "markdown",
   "metadata": {},
   "source": [
    "# TNK\n"
   ]
  },
  {
   "cell_type": "code",
   "execution_count": null,
   "metadata": {},
   "outputs": [],
   "source": [
    "problem_tnk = get_problem(\"tnk\")\n",
    "problem = problem_tnk\n",
    "print(f'Problem {problem.name}: n_var={problem.n_var} n_obj={problem.n_obj} n_ieq_constr={problem.n_ieq_constr} n_eq_constr={problem.n_eq_constr}')\n",
    "\n",
    "res0, res1, res2, res3 = compare_on(problem, n_gen=2000)\n",
    "print(f'F1-F2: {sum(res1.F - res2.F)}   F2-F3{sum(res2.F - res3.F)}   F1-F3{sum(res1.F - res3.F)}')\n",
    "\n",
    "plot = Scatter()\n",
    "plot.add(problem.pareto_front(), marker=\"*\",\n",
    "         color=\"orange\", label='Pareto front')\n",
    "plot.add(res0.F, marker=\"x\", color=\"red\", label='Death penalty')\n",
    "plot.add(res1.F[:, :-1], marker=\"+\", color=\"green\", label='Baseline CV_as_obj')\n",
    "plot.add(res2.F[:, :-1], marker=\"1\", color=\"blue\", label='Our CV_as_obj')\n",
    "plot.add(res3.F[:, :-1], marker=\"1\", color=\"purple\", label='Our CV_as_obj')\n",
    "plot.show()"
   ]
  },
  {
   "cell_type": "code",
   "execution_count": null,
   "metadata": {},
   "outputs": [],
   "source": [
    "plot = Scatter()\n",
    "plot.add(res1.F, facecolor=\"none\", edgecolor=\"green\")\n",
    "plot.add(res2.F, facecolor=\"none\", edgecolor=\"blue\")\n",
    "plot.add(res3.F, facecolor=\"none\", edgecolor=\"purple\")\n",
    "plot.show()"
   ]
  },
  {
   "cell_type": "code",
   "execution_count": null,
   "metadata": {},
   "outputs": [],
   "source": [
    "plt.hist(res1.F[:, -1:], bins=30, color='green',\n",
    "         alpha=0.7, label='Sum CV_as_obj')\n",
    "plt.hist(res2.F[:, -1:], bins=30, color='blue',\n",
    "         alpha=0.7, label='Max CV_as_obj')\n",
    "plt.hist(res3.F[:, -1:], bins=30, color='purple',\n",
    "         alpha=0.7, label='Median CV_as_obj')\n",
    "\n",
    "# Add labels and title\n",
    "plt.xlabel('Values')\n",
    "plt.ylabel('Frequency')\n",
    "plt.title('Histogram of CV')\n",
    "\n",
    "# Add a legend\n",
    "plt.legend()\n",
    "\n",
    "# Show the plot\n",
    "plt.show()"
   ]
  },
  {
   "cell_type": "markdown",
   "metadata": {},
   "source": [
    "# Carside\n"
   ]
  },
  {
   "cell_type": "code",
   "execution_count": null,
   "metadata": {},
   "outputs": [],
   "source": [
    "problem_carside = get_problem(\"Carside\")\n",
    "problem = problem_carside\n",
    "print(f'Problem {problem.name}: n_var={problem.n_var} n_obj={problem.n_obj} n_ieq_constr={problem.n_ieq_constr} n_eq_constr={problem.n_eq_constr}')\n",
    "\n",
    "res0, res1, res2, res3 = compare_on(problem, n_gen=2000)\n",
    "print(f'F1-F2: {sum(res1.F - res2.F)}   F2-F3{sum(res2.F - res3.F)}   F1-F3{sum(res1.F - res3.F)}')\n",
    "\n",
    "plot = Scatter()\n",
    "plot.add(problem.pareto_front(), marker=\"*\",\n",
    "         color=\"orange\", label='Pareto front')\n",
    "plot.add(res0.F, marker=\"x\", color=\"red\", label='Death penalty')\n",
    "plot.add(res1.F[:, :-1], marker=\"+\", color=\"green\", label='Baseline CV_as_obj')\n",
    "plot.add(res2.F[:, :-1], marker=\"1\", color=\"blue\", label='Our CV_as_obj')\n",
    "plot.add(res3.F[:, :-1], marker=\"1\", color=\"purple\", label='Our CV_as_obj')\n",
    "plot.show()"
   ]
  },
  {
   "cell_type": "code",
   "execution_count": null,
   "metadata": {},
   "outputs": [],
   "source": [
    "res2.F[:, -1]"
   ]
  },
  {
   "cell_type": "markdown",
   "metadata": {},
   "source": [
    "# Pressure Vessel"
   ]
  },
  {
   "cell_type": "code",
   "execution_count": null,
   "metadata": {},
   "outputs": [],
   "source": [
    "problem_carside = get_problem(\"pressure_vessel\")\n",
    "problem = problem_carside\n",
    "print(f'Problem {problem.name}: n_var={problem.n_var} n_obj={problem.n_obj} n_ieq_constr={problem.n_ieq_constr} n_eq_constr={problem.n_eq_constr}')\n",
    "\n",
    "res0, res1, res2, res3 = compare_on(problem, n_gen=500)\n",
    "# print(f'F1-F2: {sum(res1.F - res2.F)}   F2-F3{sum(res2.F - res3.F)}   F1-F3{sum(res1.F - res3.F)}')\n",
    "\n",
    "plot = Scatter()\n",
    "plot.add(problem.pareto_front(), marker=\"*\",\n",
    "         color=\"orange\", label='Pareto front')\n",
    "plot.add(res0.F, marker=\"x\", color=\"red\", label='Death penalty')\n",
    "plot.add(res1.F[:, :-1], marker=\"+\", color=\"green\", label='Baseline CV_as_obj')\n",
    "plot.add(res2.F[:, :-1], marker=\"1\", color=\"blue\", label='Our CV_as_obj')\n",
    "plot.add(res3.F[:, :-1], marker=\"1\", color=\"purple\", label='Our CV_as_obj')\n",
    "plot.show()"
   ]
  },
  {
   "cell_type": "code",
   "execution_count": 10,
   "metadata": {},
   "outputs": [
    {
     "ename": "NameError",
     "evalue": "name 'res3' is not defined",
     "output_type": "error",
     "traceback": [
      "\u001b[0;31m---------------------------------------------------------------------------\u001b[0m",
      "\u001b[0;31mNameError\u001b[0m                                 Traceback (most recent call last)",
      "Cell \u001b[0;32mIn[10], line 7\u001b[0m\n\u001b[1;32m      2\u001b[0m plot\u001b[38;5;241m.\u001b[39madd(problem\u001b[38;5;241m.\u001b[39mpareto_front(), marker\u001b[38;5;241m=\u001b[39m\u001b[38;5;124m\"\u001b[39m\u001b[38;5;124m*\u001b[39m\u001b[38;5;124m\"\u001b[39m,\n\u001b[1;32m      3\u001b[0m          color\u001b[38;5;241m=\u001b[39m\u001b[38;5;124m\"\u001b[39m\u001b[38;5;124morange\u001b[39m\u001b[38;5;124m\"\u001b[39m, label\u001b[38;5;241m=\u001b[39m\u001b[38;5;124m'\u001b[39m\u001b[38;5;124mPareto front\u001b[39m\u001b[38;5;124m'\u001b[39m)\n\u001b[1;32m      4\u001b[0m \u001b[38;5;66;03m# plot.add(res0.F, marker=\"x\", color=\"red\", label='Death penalty')\u001b[39;00m\n\u001b[1;32m      5\u001b[0m \u001b[38;5;66;03m# plot.add(res1.F[:, :-1], marker=\"+\", color=\"green\", label='Baseline CV_as_obj')\u001b[39;00m\n\u001b[1;32m      6\u001b[0m \u001b[38;5;66;03m# plot.add(res2.F[:, :-1], marker=\"1\", color=\"blue\", label='Our CV_as_obj')\u001b[39;00m\n\u001b[0;32m----> 7\u001b[0m plot\u001b[38;5;241m.\u001b[39madd(\u001b[43mres3\u001b[49m\u001b[38;5;241m.\u001b[39mF[:, :\u001b[38;5;241m-\u001b[39m\u001b[38;5;241m1\u001b[39m], marker\u001b[38;5;241m=\u001b[39m\u001b[38;5;124m\"\u001b[39m\u001b[38;5;124m1\u001b[39m\u001b[38;5;124m\"\u001b[39m, color\u001b[38;5;241m=\u001b[39m\u001b[38;5;124m\"\u001b[39m\u001b[38;5;124mpurple\u001b[39m\u001b[38;5;124m\"\u001b[39m, label\u001b[38;5;241m=\u001b[39m\u001b[38;5;124m'\u001b[39m\u001b[38;5;124mOur CV_as_obj\u001b[39m\u001b[38;5;124m'\u001b[39m)\n\u001b[1;32m      8\u001b[0m plot\u001b[38;5;241m.\u001b[39mshow()\n",
      "\u001b[0;31mNameError\u001b[0m: name 'res3' is not defined"
     ]
    }
   ],
   "source": [
    "plot = Scatter()\n",
    "plot.add(problem.pareto_front(), marker=\"*\",\n",
    "         color=\"orange\", label='Pareto front')\n",
    "# plot.add(res0.F, marker=\"x\", color=\"red\", label='Death penalty')\n",
    "# plot.add(res1.F[:, :-1], marker=\"+\", color=\"green\", label='Baseline CV_as_obj')\n",
    "# plot.add(res2.F[:, :-1], marker=\"1\", color=\"blue\", label='Our CV_as_obj')\n",
    "plot.add(res3.F[:, :-1], marker=\"1\", color=\"purple\", label='Our CV_as_obj')\n",
    "plot.show()"
   ]
  },
  {
   "cell_type": "markdown",
   "metadata": {},
   "source": [
    "# G"
   ]
  },
  {
   "cell_type": "code",
   "execution_count": 7,
   "metadata": {},
   "outputs": [
    {
     "name": "stdout",
     "output_type": "stream",
     "text": [
      "Problem <bound method Problem.name of <pymoo.problems.single.g.G16 object at 0x10acd68b0>>: n_var=5 n_obj=1 n_ieq_constr=38 n_eq_constr=0\n",
      "minimize_ executed in 3.226065 seconds\n",
      "minimize_ executed in 2.498232 seconds\n",
      "minimize_ executed in 2.912326 seconds\n",
      "minimize_ executed in 2.451384 seconds\n",
      "compare_on executed in 11.089332 seconds\n"
     ]
    },
    {
     "ename": "ValueError",
     "evalue": "operands could not be broadcast together with shapes (100,2) (11,2) ",
     "output_type": "error",
     "traceback": [
      "\u001b[0;31m---------------------------------------------------------------------------\u001b[0m",
      "\u001b[0;31mValueError\u001b[0m                                Traceback (most recent call last)",
      "Cell \u001b[0;32mIn[7], line 6\u001b[0m\n\u001b[1;32m      3\u001b[0m \u001b[38;5;28mprint\u001b[39m(\u001b[38;5;124mf\u001b[39m\u001b[38;5;124m'\u001b[39m\u001b[38;5;124mProblem \u001b[39m\u001b[38;5;132;01m{\u001b[39;00mproblem\u001b[38;5;241m.\u001b[39mname\u001b[38;5;132;01m}\u001b[39;00m\u001b[38;5;124m: n_var=\u001b[39m\u001b[38;5;132;01m{\u001b[39;00mproblem\u001b[38;5;241m.\u001b[39mn_var\u001b[38;5;132;01m}\u001b[39;00m\u001b[38;5;124m n_obj=\u001b[39m\u001b[38;5;132;01m{\u001b[39;00mproblem\u001b[38;5;241m.\u001b[39mn_obj\u001b[38;5;132;01m}\u001b[39;00m\u001b[38;5;124m n_ieq_constr=\u001b[39m\u001b[38;5;132;01m{\u001b[39;00mproblem\u001b[38;5;241m.\u001b[39mn_ieq_constr\u001b[38;5;132;01m}\u001b[39;00m\u001b[38;5;124m n_eq_constr=\u001b[39m\u001b[38;5;132;01m{\u001b[39;00mproblem\u001b[38;5;241m.\u001b[39mn_eq_constr\u001b[38;5;132;01m}\u001b[39;00m\u001b[38;5;124m'\u001b[39m)\n\u001b[1;32m      5\u001b[0m res0, res1, res2, res3 \u001b[38;5;241m=\u001b[39m compare_on(problem, n_gen\u001b[38;5;241m=\u001b[39m\u001b[38;5;241m300\u001b[39m)\n\u001b[0;32m----> 6\u001b[0m \u001b[38;5;28mprint\u001b[39m(\u001b[38;5;124mf\u001b[39m\u001b[38;5;124m'\u001b[39m\u001b[38;5;124mF1-F2: \u001b[39m\u001b[38;5;132;01m{\u001b[39;00m\u001b[38;5;28msum\u001b[39m(res1\u001b[38;5;241m.\u001b[39mF\u001b[38;5;250m \u001b[39m\u001b[38;5;241m-\u001b[39m\u001b[38;5;250m \u001b[39mres2\u001b[38;5;241m.\u001b[39mF)\u001b[38;5;132;01m}\u001b[39;00m\u001b[38;5;124m   F2-F3\u001b[39m\u001b[38;5;132;01m{\u001b[39;00m\u001b[38;5;28msum\u001b[39m(res2\u001b[38;5;241m.\u001b[39mF\u001b[38;5;250m \u001b[39m\u001b[38;5;241m-\u001b[39m\u001b[38;5;250m \u001b[39mres3\u001b[38;5;241m.\u001b[39mF)\u001b[38;5;132;01m}\u001b[39;00m\u001b[38;5;124m   F1-F3\u001b[39m\u001b[38;5;132;01m{\u001b[39;00m\u001b[38;5;28msum\u001b[39m(res1\u001b[38;5;241m.\u001b[39mF\u001b[38;5;250m \u001b[39m\u001b[38;5;241m-\u001b[39m\u001b[38;5;250m \u001b[39mres3\u001b[38;5;241m.\u001b[39mF)\u001b[38;5;132;01m}\u001b[39;00m\u001b[38;5;124m'\u001b[39m)\n\u001b[1;32m      8\u001b[0m plot \u001b[38;5;241m=\u001b[39m Scatter()\n\u001b[1;32m      9\u001b[0m plot\u001b[38;5;241m.\u001b[39madd(problem\u001b[38;5;241m.\u001b[39mpareto_front(), marker\u001b[38;5;241m=\u001b[39m\u001b[38;5;124m\"\u001b[39m\u001b[38;5;124m*\u001b[39m\u001b[38;5;124m\"\u001b[39m,\n\u001b[1;32m     10\u001b[0m          color\u001b[38;5;241m=\u001b[39m\u001b[38;5;124m\"\u001b[39m\u001b[38;5;124morange\u001b[39m\u001b[38;5;124m\"\u001b[39m, label\u001b[38;5;241m=\u001b[39m\u001b[38;5;124m'\u001b[39m\u001b[38;5;124mPareto front\u001b[39m\u001b[38;5;124m'\u001b[39m)\n",
      "\u001b[0;31mValueError\u001b[0m: operands could not be broadcast together with shapes (100,2) (11,2) "
     ]
    }
   ],
   "source": [
    "problem_g1 = get_problem(\"g16\")\n",
    "problem = problem_g1\n",
    "print(f'Problem {problem.name}: n_var={problem.n_var} n_obj={problem.n_obj} n_ieq_constr={problem.n_ieq_constr} n_eq_constr={problem.n_eq_constr}')\n",
    "\n",
    "res0, res1, res2, res3 = compare_on(problem, n_gen=300)\n",
    "print(f'F1-F2: {sum(res1.F - res2.F)}   F2-F3{sum(res2.F - res3.F)}   F1-F3{sum(res1.F - res3.F)}')\n",
    "\n",
    "plot = Scatter()\n",
    "plot.add(problem.pareto_front(), marker=\"*\",\n",
    "         color=\"orange\", label='Pareto front')\n",
    "plot.add(res0.F, marker=\"x\", color=\"red\", label='Death penalty')\n",
    "plot.add(res1.F[:, :-1], marker=\"+\", color=\"green\", label='Baseline CV_as_obj')\n",
    "plot.add(res2.F[:, :-1], marker=\"1\", color=\"blue\", label='Our CV_as_obj')\n",
    "plot.add(res3.F[:, :-1], marker=\"1\", color=\"purple\", label='Our CV_as_obj')\n",
    "plot.show()"
   ]
  },
  {
   "cell_type": "code",
   "execution_count": 8,
   "metadata": {},
   "outputs": [
    {
     "data": {
      "text/plain": [
       "((100, 2), (11, 2), (14, 2))"
      ]
     },
     "execution_count": 8,
     "metadata": {},
     "output_type": "execute_result"
    }
   ],
   "source": [
    "res1.F.shape, res2.F.shape, res3.F.shape"
   ]
  },
  {
   "cell_type": "code",
   "execution_count": 9,
   "metadata": {},
   "outputs": [
    {
     "data": {
      "text/plain": [
       "<visualization.scatter.Scatter at 0x1217207c0>"
      ]
     },
     "execution_count": 9,
     "metadata": {},
     "output_type": "execute_result"
    },
    {
     "data": {
      "image/png": "[encoded data removed]",
      "text/plain": [
       "<Figure size 800x600 with 1 Axes>"
      ]
     },
     "metadata": {},
     "output_type": "display_data"
    }
   ],
   "source": [
    "plot = Scatter()\n",
    "plot.add(problem.pareto_front(), marker=\"*\",\n",
    "         color=\"orange\", label='Pareto front')\n",
    "# plot.add(res0.F, marker=\"x\", color=\"red\", label='Death penalty')\n",
    "# plot.add(res1.F[:, :-1], marker=\"+\", color=\"green\", label='Baseline CV_as_obj')\n",
    "# plot.add(res2.F[:, :-1], marker=\"1\", color=\"blue\", label='Our CV_as_obj')\n",
    "plot.add(res3.F[:, :-1], marker=\"1\", color=\"purple\", label='Our CV_as_obj')\n",
    "plot.show()"
   ]
  },
  {
   "cell_type": "code",
   "execution_count": null,
   "metadata": {},
   "outputs": [],
   "source": [
    "problem.pareto_front()"
   ]
  },
  {
   "cell_type": "code",
   "execution_count": null,
   "metadata": {},
   "outputs": [],
   "source": [
    "res0.F"
   ]
  },
  {
   "cell_type": "code",
   "execution_count": null,
   "metadata": {},
   "outputs": [],
   "source": [
    "res3.F[res3.F[:, -1] <= 0.0000001]"
   ]
  },
  {
   "cell_type": "code",
   "execution_count": null,
   "metadata": {},
   "outputs": [],
   "source": [
    "# from pymoo.core.evaluator import Evaluator\n",
    "# from pymoo.core.individual import Individual\n",
    "\n",
    "# cv = res4.F[:, 0]\n",
    "# least_infeas = cv.argmin()\n",
    "# x = res4.X[least_infeas]\n",
    "\n",
    "# sol = Individual(X=x)\n",
    "# Evaluator().eval(problem3, sol)\n",
    "\n",
    "# print(\"Best solution found: \\nX = %s\\nF = %s\\nCV = %s\" % (sol.X, sol.F, sol.CV))"
   ]
  },
  {
   "cell_type": "code",
   "execution_count": null,
   "metadata": {},
   "outputs": [],
   "source": [
    "# res4.F[:,-2:].shape"
   ]
  },
  {
   "cell_type": "code",
   "execution_count": null,
   "metadata": {},
   "outputs": [],
   "source": [
    "# plot = Scatter()\n",
    "# plot.add(problem3.pareto_front(), marker=\"*\", color=\"black\", alpha=0.7, s=100)\n",
    "# plot.add(res4.F[:,-2:], facecolor=\"none\", edgecolor=\"red\")\n",
    "# plot.show()"
   ]
  },
  {
   "cell_type": "code",
   "execution_count": null,
   "metadata": {},
   "outputs": [],
   "source": [
    "terminate_here"
   ]
  },
  {
   "cell_type": "markdown",
   "metadata": {},
   "source": [
    "# Diversity Factor\n"
   ]
  },
  {
   "cell_type": "code",
   "execution_count": null,
   "metadata": {},
   "outputs": [],
   "source": [
    "import numpy as np\n",
    "from pymoo.core.problem import Problem\n",
    "from pymoo.problems import get_problem\n",
    "from scipy.spatial import cKDTree\n",
    "from pymoo.algorithms.moo.nsga2 import NSGA2\n",
    "from pymoo.operators.crossover.sbx import SimulatedBinaryCrossover as SBX\n",
    "from pymoo.operators.mutation.pm import PolynomialMutation as PM\n",
    "from pymoo.operators.sampling.rnd import FloatRandomSampling\n",
    "from pymoo.optimize import minimize\n",
    "from pymoo.core.callback import Callback"
   ]
  },
  {
   "cell_type": "code",
   "execution_count": null,
   "metadata": {},
   "outputs": [],
   "source": [
    "from annoy import AnnoyIndex\n",
    "\n",
    "\n",
    "class DiversityEnhancedProblem(Problem):\n",
    "    def __init__(self, problem, neighbors=5, trees=10):\n",
    "        super().__init__(\n",
    "            n_var=problem.n_var,\n",
    "            n_obj=problem.n_obj + 1,\n",
    "            n_constr=problem.n_constr,\n",
    "            xl=problem.xl,\n",
    "            xu=problem.xu,\n",
    "        )\n",
    "        self.base_problem = problem\n",
    "        self.neighbors = neighbors\n",
    "        self.population = []\n",
    "        self.tree = AnnoyIndex(self.n_var, \"manhattan\")\n",
    "        self.tree_cache = {}  # To store diversity values\n",
    "        self.trees = trees  # Number of trees for Annoy\n",
    "\n",
    "    def update_population(self, pop):\n",
    "        self.population = pop.get(\"X\")\n",
    "        self.tree.unbuild()  # Clear the current tree\n",
    "        for i, x in enumerate(self.population):\n",
    "            self.tree.add_item(i, x.tolist())\n",
    "        self.tree.build(self.trees)\n",
    "        self.tree_cache = {}  # Clear cache after update\n",
    "\n",
    "    def calculate_diversity(self, x):\n",
    "        if len(self.population) > 1:\n",
    "            distances = self.tree.get_nns_by_vector(\n",
    "                x, self.neighbors, include_distances=True\n",
    "            )[1]\n",
    "            return 1.0 / np.mean(distances)\n",
    "        return 0\n",
    "\n",
    "    def _evaluate(self, x, out, *args, **kwargs):\n",
    "        base_out = {}\n",
    "        self.base_problem._evaluate(x, base_out, *args, **kwargs)\n",
    "        f = base_out[\"F\"]\n",
    "        x = np.atleast_2d(x)\n",
    "\n",
    "        # Calculate diversity, using cache if available\n",
    "        diversity = np.array(\n",
    "            [self.tree_cache.get(tuple(xi), self.calculate_diversity(xi)) for xi in x]\n",
    "        )\n",
    "        for xi, div in zip(x, diversity):\n",
    "            self.tree_cache[tuple(xi)] = div  # Update cache\n",
    "\n",
    "        out[\"F\"] = np.column_stack([f, diversity])\n",
    "\n",
    "\n",
    "class DiversityCallback(Callback):\n",
    "    def __init__(self, problem):\n",
    "        super().__init__()\n",
    "        self.problem = problem\n",
    "\n",
    "    def notify(self, algorithm):\n",
    "        self.problem.update_population(algorithm.pop)\n",
    "\n",
    "\n",
    "# Original problem from pymoo\n",
    "original_problem = get_problem(\"zdt2\")\n",
    "\n",
    "# Enhanced problem with diversity objective\n",
    "problem = DiversityEnhancedProblem(original_problem, neighbors=10)\n",
    "\n",
    "# Setup the algorithm\n",
    "algorithm = NSGA2(\n",
    "    pop_size=100,\n",
    "    n_offsprings=10,\n",
    "    sampling=FloatRandomSampling(),\n",
    "    crossover=SBX(prob=0.9, eta=15),\n",
    "    mutation=PM(eta=20),\n",
    "    eliminate_duplicates=True,\n",
    ")\n",
    "\n",
    "# Execute the optimization\n",
    "res1 = minimize(\n",
    "    problem,\n",
    "    algorithm,\n",
    "    (\"n_gen\", 10000),\n",
    "    verbose=True,\n",
    "    seed=1,\n",
    "    callback=DiversityCallback(problem),\n",
    ")\n",
    "\n",
    "res2 = minimize(\n",
    "    original_problem,\n",
    "    algorithm,\n",
    "    (\"n_gen\", 2000),\n",
    "    verbose=False,\n",
    "    seed=0,\n",
    "    # callback=DiversityCallback(problem)\n",
    ")"
   ]
  },
  {
   "cell_type": "code",
   "execution_count": null,
   "metadata": {},
   "outputs": [],
   "source": [
    "print(res1.F.shape, res2.F.shape)"
   ]
  },
  {
   "cell_type": "code",
   "execution_count": null,
   "metadata": {},
   "outputs": [],
   "source": [
    "from visualization.scatter import Scatter\n",
    "\n",
    "plot = Scatter()\n",
    "plot.add(res1.F[:, :-1], facecolor=\"none\", edgecolor=\"red\")\n",
    "plot.add(res2.F, facecolor=\"none\", edgecolor=\"blue\")\n",
    "plot.show()"
   ]
  },
  {
   "cell_type": "code",
   "execution_count": null,
   "metadata": {},
   "outputs": [],
   "source": [
    "from visualization.scatter import Scatter\n",
    "\n",
    "plot = Scatter()\n",
    "plot.add(res1.F, facecolor=\"none\", edgecolor=\"red\")\n",
    "# plot.add(res2.F, facecolor=\"none\", edgecolor=\"blue\")\n",
    "plot.show()"
   ]
  },
  {
   "cell_type": "code",
   "execution_count": null,
   "metadata": {},
   "outputs": [],
   "source": [
    "from pymoo.factory import get_performance_indicator\n",
    "\n",
    "# Assuming 'result' is the output of your optimization algorithm\n",
    "hv = get_performance_indicator(\"hv\", ref_point=np.array(\n",
    "    [1.1, 1.1]))  # Adjust ref_point as needed\n",
    "hypervolume = hv.calc(res1.F)\n",
    "\n",
    "print(\"Hypervolume:\", hypervolume)"
   ]
  },
  {
   "cell_type": "code",
   "execution_count": null,
   "metadata": {},
   "outputs": [],
   "source": [
    "from visualization.scatter import Scatter\n",
    "from annoy import AnnoyIndex\n",
    "import numpy as np\n",
    "\n",
    "\n",
    "class DiversityEnhancedProblem2(Problem):\n",
    "    def __init__(self, problem, neighbors=5, trees=10, update_interval=5, change_threshold=0.2):\n",
    "        super().__init__(n_var=problem.n_var,\n",
    "                         n_obj=problem.n_obj + 1,\n",
    "                         n_constr=problem.n_constr,\n",
    "                         xl=problem.xl,\n",
    "                         xu=problem.xu)\n",
    "        self.base_problem = problem\n",
    "        self.neighbors = neighbors\n",
    "        self.population = []\n",
    "        self.tree = AnnoyIndex(self.n_var, 'euclidean')\n",
    "        self.trees = trees\n",
    "        self.update_interval = update_interval\n",
    "        self.change_threshold = change_threshold\n",
    "        self.generation_count = 0\n",
    "        self.last_population = None\n",
    "\n",
    "    def update_population(self, pop):\n",
    "        self.population = pop.get(\"X\")\n",
    "        self.generation_count += 1\n",
    "\n",
    "        # Determine if the tree needs updating\n",
    "        if self.last_population is None or self.generation_count % self.update_interval == 0 or self.population_has_changed():\n",
    "            self.rebuild_tree()\n",
    "            self.last_population = np.array(self.population.copy())\n",
    "            print(\"Tree rebuilt.\")\n",
    "\n",
    "    def population_has_changed(self):\n",
    "        \"\"\" Checks if significant changes have occurred in the population \"\"\"\n",
    "        if self.last_population is not None:\n",
    "            dists = np.linalg.norm(\n",
    "                self.last_population - self.population, axis=1)\n",
    "            significant_changes = np.mean(dists > self.change_threshold)\n",
    "            # More than 10% of the population has significantly changed\n",
    "            return significant_changes > 0.1\n",
    "        return False\n",
    "\n",
    "    def rebuild_tree(self):\n",
    "        \"\"\" Rebuilds the Annoy index \"\"\"\n",
    "        self.tree.unbuild()\n",
    "        for i, x in enumerate(self.population):\n",
    "            self.tree.add_item(i, x.tolist())\n",
    "        self.tree.build(self.trees)\n",
    "\n",
    "    def calculate_diversity(self, x):\n",
    "        if len(self.population) > 1:\n",
    "            distances = self.tree.get_nns_by_vector(\n",
    "                x, self.neighbors, include_distances=True)[1]\n",
    "            return 1.0 / np.mean(distances)\n",
    "        return 0\n",
    "\n",
    "    def _evaluate(self, x, out, *args, **kwargs):\n",
    "        base_out = {}\n",
    "        self.base_problem._evaluate(x, base_out, *args, **kwargs)\n",
    "        f = base_out[\"F\"]\n",
    "        x = np.atleast_2d(x)\n",
    "\n",
    "        # Calculate diversity\n",
    "        diversity = np.array([self.calculate_diversity(xi) for xi in x])\n",
    "        out[\"F\"] = np.column_stack([f, diversity])\n",
    "\n",
    "\n",
    "# Original problem from pymoo\n",
    "original_problem = get_problem(\"zdt2\")\n",
    "\n",
    "# Enhanced problem with diversity objective\n",
    "problem2 = DiversityEnhancedProblem2(original_problem, neighbors=10)\n",
    "\n",
    "# Setup the algorithm\n",
    "algorithm = NSGA2(\n",
    "    pop_size=100,\n",
    "    n_offsprings=10,\n",
    "    sampling=FloatRandomSampling(),\n",
    "    crossover=SBX(prob=0.9, eta=15),\n",
    "    mutation=PM(eta=20),\n",
    "    eliminate_duplicates=True\n",
    ")\n",
    "\n",
    "# Execute the optimization\n",
    "res1 = minimize(\n",
    "    problem2,\n",
    "    algorithm,\n",
    "    ('n_gen', 5000),\n",
    "    verbose=True,\n",
    "    seed=1,\n",
    "    callback=DiversityCallback(problem)\n",
    ")\n",
    "\n",
    "res2 = minimize(\n",
    "    original_problem,\n",
    "    algorithm,\n",
    "    ('n_gen', 2000),\n",
    "    verbose=False,\n",
    "    seed=0,\n",
    ")\n",
    "\n",
    "\n",
    "plot = Scatter()\n",
    "plot.add(res1.F[:, 1:], facecolor=\"none\", edgecolor=\"red\")\n",
    "plot.add(res2.F, facecolor=\"none\", edgecolor=\"blue\")\n",
    "plot.show()"
   ]
  },
  {
   "cell_type": "code",
   "execution_count": null,
   "metadata": {},
   "outputs": [],
   "source": [
    "from pymoo.core.problem import Problem\n",
    "import numpy as np\n",
    "\n",
    "\n",
    "class ConstraintAsObjectiveProblem(Problem):\n",
    "    def __init__(self, problem):\n",
    "        super().__init__(n_var=problem.n_var,\n",
    "                         n_obj=problem.n_obj + problem.n_constr,\n",
    "                         n_constr=0,  # No explicit constraints as they are now objectives\n",
    "                         xl=problem.xl,\n",
    "                         xu=problem.xu)\n",
    "        self.problem = problem\n",
    "\n",
    "    def _evaluate(self, x, out, *args, **kwargs):\n",
    "        # Evaluate the original problem\n",
    "        res = {}\n",
    "        self.problem._evaluate(x, res)\n",
    "\n",
    "        # Combine original objectives with constraints as new objectives\n",
    "        f = res[\"F\"]\n",
    "        # Constraint violation for g(x) > 0\n",
    "        g = np.where(res[\"G\"] > 0, res[\"G\"], 0)\n",
    "        h = np.abs(res[\"H\"])  # Absolute value for equality constraints\n",
    "\n",
    "        # Combine into a single objective array\n",
    "        out[\"F\"] = np.column_stack([f, g, h])"
   ]
  },
  {
   "cell_type": "code",
   "execution_count": null,
   "metadata": {},
   "outputs": [],
   "source": [
    "from pymoo.algorithms.moo.nsga2 import NSGA2\n",
    "from pymoo.operators.selection.tournament import compare\n",
    "from pymoo.optimize import minimize\n",
    "from pymoo.problems import get_problem\n",
    "\n",
    "\n",
    "class FeasibilityFirstNSGA2(NSGA2):\n",
    "    def __init__(self, **kwargs):\n",
    "        super().__init__(**kwargs)\n",
    "\n",
    "    def _next(self):\n",
    "        # Overriding the selection process to prioritize feasibility\n",
    "        def feasibility_first(a, b):\n",
    "            # Check if either solution is feasible\n",
    "            is_feasible_a = np.all(self.pop[a].get(\"F\")[self.problem.n_obj :] <= 0)\n",
    "            is_feasible_b = np.all(self.pop[b].get(\"F\")[self.problem.n_obj :] <= 0)\n",
    "\n",
    "            if is_feasible_a and not is_feasible_b:\n",
    "                return a\n",
    "            elif not is_feasible_a and is_feasible_b:\n",
    "                return b\n",
    "            else:\n",
    "                # If both are feasible or infeasible, fall back to regular comparison\n",
    "                return compare(\n",
    "                    a, b, self.pop, self.n_survive, self.rank_key, self.crowding_key\n",
    "                )\n",
    "\n",
    "        # Tournament selection modified for feasibility\n",
    "        mating_pool = self.selection(self.pop, self.n_offsprings, feasibility_first)\n",
    "        off = self.crossover.do(self.problem, self.pop, mating_pool)\n",
    "        off = self.mutation.do(self.problem, off)\n",
    "        self.evaluator.eval(self.problem, off)\n",
    "        self.pop = self.survival.do(\n",
    "            self.problem, self.pop, off, n_survive=self.pop_size\n",
    "        )\n",
    "\n",
    "\n",
    "problem = get_problem(\"zdt1\")\n",
    "wrapped_problem = ConstraintAsObjectiveProblem(problem)\n",
    "\n",
    "algorithm = FeasibilityFirstNSGA2(pop_size=100)\n",
    "\n",
    "res = minimize(wrapped_problem, algorithm, (\"n_gen\", 100), verbose=True)"
   ]
  }
 ],
 "metadata": {
  "kernelspec": {
   "display_name": "Python 3",
   "language": "python",
   "name": "python3"
  },
  "language_info": {
   "codemirror_mode": {
    "name": "ipython",
    "version": 3
   },
   "file_extension": ".py",
   "mimetype": "text/x-python",
   "name": "python",
   "nbconvert_exporter": "python",
   "pygments_lexer": "ipython3",
   "version": "3.9.6"
  }
 },
 "nbformat": 4,
 "nbformat_minor": 2
}

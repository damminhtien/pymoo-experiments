{
 "cells": [
  {
   "cell_type": "code",
   "execution_count": 1,
   "metadata": {},
   "outputs": [],
   "source": [
    "import numpy as np\n",
    "import matplotlib.pyplot as plt"
   ]
  },
  {
   "cell_type": "code",
   "execution_count": 2,
   "metadata": {},
   "outputs": [],
   "source": [
    "import matplotlib as mpl\n",
    "\n",
    "mpl.rcParams[\"figure.dpi\"] = 1000\n",
    "# mpl.rcParams['legend.fontsize'] = 15\n",
    "# params = {'legend.fontsize': 20,\n",
    "#           'legend.handlelength': 2}\n",
    "# plot.rcParams.update(params)"
   ]
  },
  {
   "cell_type": "code",
   "execution_count": 3,
   "metadata": {},
   "outputs": [],
   "source": [
    "from algorithms.moo.nsga2 import NSGA2\n",
    "from constraints.as_obj import ConstraintsAsObjective\n",
    "from operators.survival.rank_and_crowding.classes import (\n",
    "    RankAndCrowding,\n",
    "    MyConstrRankAndCrowding,\n",
    "    ParallelConstrRankAndCrowding,\n",
    "    MyConstrRankAndCrowding2,\n",
    ")\n",
    "from optimize import minimize\n",
    "from visualization.scatter import Scatter\n",
    "from pymoo.problems import get_problem"
   ]
  },
  {
   "cell_type": "code",
   "execution_count": 4,
   "metadata": {
    "metadata": {}
   },
   "outputs": [],
   "source": [
    "core_moea1 = NSGA2(pop_size=300, survival=RankAndCrowding(crowding_func=\"cd\"),\n",
    "                   eliminate_duplicates=True)\n",
    "core_moea2 = NSGA2(\n",
    "    pop_size=300, survival=MyConstrRankAndCrowding(crowding_func=\"cd\"), eliminate_duplicates=True)\n",
    "core_moea3 = NSGA2(\n",
    "    pop_size=300, survival=ParallelConstrRankAndCrowding(), eliminate_duplicates=True)\n",
    "core_moea4 = NSGA2(\n",
    "    pop_size=300, survival=MyConstrRankAndCrowding2(), eliminate_duplicates=True)"
   ]
  },
  {
   "cell_type": "code",
   "execution_count": 5,
   "metadata": {
    "metadata": {}
   },
   "outputs": [],
   "source": [
    "import time\n",
    "\n",
    "\n",
    "def performance_timer(func):\n",
    "    \"\"\"\n",
    "    A decorator to measure and print the execution time of a function.\n",
    "    \"\"\"\n",
    "\n",
    "    def wrapper(*args, **kwargs):\n",
    "        start_time = time.time()  # Capture the start time\n",
    "        result = func(*args, **kwargs)  # Execute the function\n",
    "        end_time = time.time()  # Capture the end time\n",
    "        duration = end_time - start_time  # Calculate duration\n",
    "        # print(f\"{func.__name__} executed in {duration:.6f} seconds\")\n",
    "        return result\n",
    "\n",
    "    return wrapper\n",
    "\n",
    "\n",
    "@performance_timer\n",
    "def minimize_(*args, **kwargs):\n",
    "    return minimize(*args, **kwargs)"
   ]
  },
  {
   "cell_type": "code",
   "execution_count": 6,
   "metadata": {
    "metadata": {}
   },
   "outputs": [],
   "source": [
    "from pymoo.indicators.gd import GD\n",
    "from pymoo.indicators.gd_plus import GDPlus\n",
    "from pymoo.indicators.igd import IGD\n",
    "from pymoo.indicators.igd_plus import IGDPlus\n",
    "from pymoo.indicators.hv import HV\n",
    "\n",
    "metric_classes = {\n",
    "    \"Generational Distance (GD)\": GD,\n",
    "    \"Generational Distance Plus (GD+)\": GDPlus,\n",
    "    \"Inverted Generational Distance (IGD)\": IGD,\n",
    "    \"Inverted Generational Distance Plus (IGD+)\": IGDPlus,\n",
    "    # \"Hypervolume\": HV,\n",
    "}\n",
    "\n",
    "\n",
    "def performance_indicators(pf, results):\n",
    "    # Pre-configuration for each metric, handle special cases like HV here.\n",
    "    pf_calculators = [\n",
    "        (\n",
    "            metric_class(ref_point=np.array([0, 0]))\n",
    "            if metric_name == \"Hypervolume\"\n",
    "            else metric_class(pf)\n",
    "        )\n",
    "        for metric_name, metric_class in metric_classes.items()\n",
    "    ]\n",
    "\n",
    "    def cal_acc_metric(sols):\n",
    "        results_matrix = np.empty(\n",
    "            (len(sols), len(metric_classes)), dtype=object)\n",
    "\n",
    "        for idx, sol in enumerate(sols):\n",
    "            # Ensure `sol` is a 2D array with the correct shape [n_samples, n_features]\n",
    "            sol = np.atleast_2d(sol)\n",
    "            if sol.shape[0] == 1 and sol.shape[1] != len(pf):\n",
    "                # This implies sol is a single sample with multiple features, which is the correct format\n",
    "                pass\n",
    "            elif sol.shape[1] == 1 and sol.shape[0] != len(pf):\n",
    "                # This implies sol has the wrong orientation; it's many samples of a single feature\n",
    "                sol = sol.T\n",
    "\n",
    "            for metric_idx, calculator in enumerate(pf_calculators):\n",
    "                try:\n",
    "                    results_matrix[idx, metric_idx] = calculator(sol)\n",
    "                except Exception as e:\n",
    "                    # print(\n",
    "                    #     f\"Error calculating {list(metric_classes.keys())[metric_idx]}: {e}\")\n",
    "                    results_matrix[idx, metric_idx] = np.nan\n",
    "\n",
    "        return [\n",
    "            (np.mean(results_matrix[:, i]), np.median(results_matrix[:, i]))\n",
    "            for i in range(len(pf_calculators))\n",
    "        ]\n",
    "\n",
    "    return [cal_acc_metric(rs) for rs in results]"
   ]
  },
  {
   "cell_type": "code",
   "execution_count": 7,
   "metadata": {
    "metadata": {}
   },
   "outputs": [],
   "source": [
    "from constraints.as_obj import CVRAsObjective, CDFAsObjective, CVRAsObjective2, CDFAsObjective2\n",
    "\n",
    "\n",
    "@performance_timer\n",
    "def compare_on(problem, n_gen=300):\n",
    "    # Configuration for each optimization strategy\n",
    "    configurations = [\n",
    "        # (problem, core_moea1, (\"n_gen\", n_gen), {\"seed\": 1, \"verbose\": False}),\n",
    "        # (ConstraintsAsObjective(problem),\n",
    "        #  core_moea1, (\"n_gen\", n_gen), {\"seed\": 1}),\n",
    "        # (CVRAsObjective(problem),\n",
    "        #  core_moea1, (\"n_gen\", n_gen), {\"seed\": 1}),\n",
    "        (CVRAsObjective(problem, weighted_constraint_vector=[ 2, 60,   1, 5,  3, 4]),\n",
    "         core_moea2, (\"n_gen\", n_gen), {\"seed\": 1}),\n",
    "        # (CVRAsObjective(problem, weighted_constraint_vector=3),\n",
    "        #  core_moea1, (\"n_gen\", n_gen), {\"seed\": 1}),\n",
    "        # (CVRAsObjective(problem, weighted_constraint_vector=3),\n",
    "        #  core_moea1, (\"n_gen\", n_gen), {\"seed\": 1}),\n",
    "        # (CVRAsObjective(problem, weighted_constraint_vector=3),\n",
    "        #  core_moea1, (\"n_gen\", n_gen), {\"seed\": 1}),\n",
    "        # (CVRAsObjective(problem, weighted_constraint_vector=1),\n",
    "        #  core_moea1, (\"n_gen\", n_gen), {\"seed\": 1}),\n",
    "        # (CVRAsObjective(problem, weighted_constraint_vector=1.5),\n",
    "        #  core_moea1, (\"n_gen\", n_gen), {\"seed\": 1}),\n",
    "        # (CVRAsObjective(problem, weighted_constraint_vector=2),\n",
    "        #  core_moea1, (\"n_gen\", n_gen), {\"seed\": 1}),\n",
    "        # (CDFAsObjective(problem),\n",
    "        #  core_moea1, (\"n_gen\", n_gen), {\"seed\": 1}),\n",
    "        # (\n",
    "        #     CVRAsObjective2(problem),\n",
    "        #     core_moea1,\n",
    "        #     (\"n_gen\", n_gen),\n",
    "        #     {\"seed\": 1, \"verbose\": False},\n",
    "        # ),\n",
    "        # (\n",
    "        #     CDFAsObjective2(problem),\n",
    "        #     core_moea1,\n",
    "        #     (\"n_gen\", n_gen),\n",
    "        #     {\"seed\": 1, \"verbose\": False},\n",
    "        # ),\n",
    "        # (ConstraintsAsObjective(problem),\n",
    "        #  core_moea2, (\"n_gen\", n_gen), {\"seed\": 1}),\n",
    "        # (\n",
    "        #     CVRAsObjective(problem),\n",
    "        #     core_moea2,\n",
    "        #     (\"n_gen\", n_gen),\n",
    "        #     {\"seed\": 1, \"verbose\": False},\n",
    "        # ),\n",
    "        # (\n",
    "        #     CVRAsObjective2(problem),\n",
    "        #     core_moea4,\n",
    "        #     (\"n_gen\", n_gen),\n",
    "        #     {\"seed\": 1, \"verbose\": False},\n",
    "        # ),\n",
    "        # (\n",
    "        #     CDFAsObjective(problem),\n",
    "        #     core_moea2,\n",
    "        #     (\"n_gen\", n_gen),\n",
    "        #     {\"seed\": 1, \"verbose\": False},\n",
    "        # ),\n",
    "        # (\n",
    "        #     CDFAsObjective2(problem),\n",
    "        #     core_moea4,\n",
    "        #     (\"n_gen\", n_gen),\n",
    "        #     {\"seed\": 1, \"verbose\": False},\n",
    "        # ),\n",
    "    ]\n",
    "\n",
    "    results = []\n",
    "    for config in configurations:\n",
    "        result = minimize_(*config[:-1], **config[-1])\n",
    "        results.append(result)\n",
    "    return results\n",
    "\n",
    "\n",
    "def test(problem_name, n_gen=300, *args):\n",
    "    if \"dascmop\" in problem_name:\n",
    "        problem = get_problem(problem_name, args[0])\n",
    "    elif \"modact\" in problem_name:\n",
    "        problem = get_problem(problem_name, args[0])\n",
    "    else:\n",
    "        problem = get_problem(problem_name)\n",
    "    pf = problem.pareto_front()\n",
    "    # print(\n",
    "    #     f\"Problem {problem.name}: n_var={problem.n_var} n_obj={problem.n_obj} n_ieq_constr={problem.n_ieq_constr} n_eq_constr={problem.n_eq_constr}\"\n",
    "    # )\n",
    "\n",
    "    results = compare_on(problem, n_gen=n_gen)\n",
    "\n",
    "    # Check if any of the results is None\n",
    "    if any(result is None for result in results):\n",
    "        print(\"One or more optimization runs failed to return a result.\")\n",
    "        # Return None in place of results to indicate failure\n",
    "        return pf, [None] * len(results)\n",
    "\n",
    "    # Prepare data for performance indicators, safely handling cases where result.F might be None or incorrectly shaped\n",
    "    prepared_data = []\n",
    "    for i, result in enumerate(results):\n",
    "        if result and hasattr(result, \"F\") and result.F is not None:\n",
    "            # i == 0 this NGSA without additional objective\n",
    "            if i in [0, 1, 2]:\n",
    "                # if i == 1 or i == 3:\n",
    "                # if True:\n",
    "                prepared_data.append(result.F[:, :-1])\n",
    "            else:\n",
    "                # prepared_data.append(result.F[:, :-1])\n",
    "                prepared_data.append(result.F[:, :-2])\n",
    "        else:\n",
    "            # Use None or an appropriate placeholder if result is invalid\n",
    "            print(f'algo {i} not converge')\n",
    "            prepared_data.append(None)\n",
    "\n",
    "    # Ensure all data is valid before calculating performance indicators\n",
    "    if all(data is not None for data in prepared_data):\n",
    "        performance_results = performance_indicators(pf, prepared_data)\n",
    "        for i, metric in enumerate(metric_classes.keys()):\n",
    "            pass\n",
    "            # print(\n",
    "            #     f\"{metric}: \" +\n",
    "            #     \" | \".join(f\"{perf[i]}\" for perf in performance_results)\n",
    "            # )\n",
    "    else:\n",
    "        print(\"Performance indicators could not be calculated due to invalid data.\")\n",
    "\n",
    "    return pf, *results"
   ]
  },
  {
   "cell_type": "markdown",
   "metadata": {},
   "source": [
    "# BNH\n"
   ]
  },
  {
   "cell_type": "code",
   "execution_count": 8,
   "metadata": {},
   "outputs": [
    {
     "name": "stdout",
     "output_type": "stream",
     "text": [
      "CVRAsObjective: weighted_constraint_vector=[2, 60, 1, 5, 3, 4]\n"
     ]
    },
    {
     "ename": "ValueError",
     "evalue": "operands could not be broadcast together with shapes (300,2) (6,) ",
     "output_type": "error",
     "traceback": [
      "\u001b[0;31m---------------------------------------------------------------------------\u001b[0m",
      "\u001b[0;31mValueError\u001b[0m                                Traceback (most recent call last)",
      "Cell \u001b[0;32mIn[8], line 1\u001b[0m\n\u001b[0;32m----> 1\u001b[0m pf, \u001b[38;5;241m*\u001b[39mresults \u001b[38;5;241m=\u001b[39m \u001b[43mtest\u001b[49m\u001b[43m(\u001b[49m\u001b[38;5;124;43m\"\u001b[39;49m\u001b[38;5;124;43mbnh\u001b[39;49m\u001b[38;5;124;43m\"\u001b[39;49m\u001b[43m,\u001b[49m\u001b[43m \u001b[49m\u001b[43mn_gen\u001b[49m\u001b[38;5;241;43m=\u001b[39;49m\u001b[38;5;241;43m100\u001b[39;49m\u001b[43m)\u001b[49m\n\u001b[1;32m      2\u001b[0m \u001b[38;5;28mprint\u001b[39m(\u001b[38;5;28mlen\u001b[39m(results[\u001b[38;5;241m0\u001b[39m]\u001b[38;5;241m.\u001b[39mF[results[\u001b[38;5;241m0\u001b[39m]\u001b[38;5;241m.\u001b[39mF[:, \u001b[38;5;241m-\u001b[39m\u001b[38;5;241m1\u001b[39m] \u001b[38;5;241m==\u001b[39m \u001b[38;5;241m0\u001b[39m]),\n\u001b[1;32m      3\u001b[0m         \u001b[38;5;66;03m# len(results[1].F[results[1].F[:, -1] == 0]),\u001b[39;00m\n\u001b[1;32m      4\u001b[0m         \u001b[38;5;66;03m# len(results[2].F[results[2].F[:, -1] == 0]),\u001b[39;00m\n\u001b[1;32m      5\u001b[0m         \u001b[38;5;66;03m# len(results[3].F[results[3].F[:, -1] == 0]),\u001b[39;00m\n\u001b[1;32m      6\u001b[0m         \u001b[38;5;66;03m# len(results[4].F[results[4].F[:, -1] == 0])\u001b[39;00m\n\u001b[1;32m      7\u001b[0m         )\n",
      "Cell \u001b[0;32mIn[7], line 88\u001b[0m, in \u001b[0;36mtest\u001b[0;34m(problem_name, n_gen, *args)\u001b[0m\n\u001b[1;32m     83\u001b[0m pf \u001b[38;5;241m=\u001b[39m problem\u001b[38;5;241m.\u001b[39mpareto_front()\n\u001b[1;32m     84\u001b[0m \u001b[38;5;66;03m# print(\u001b[39;00m\n\u001b[1;32m     85\u001b[0m \u001b[38;5;66;03m#     f\"Problem {problem.name}: n_var={problem.n_var} n_obj={problem.n_obj} n_ieq_constr={problem.n_ieq_constr} n_eq_constr={problem.n_eq_constr}\"\u001b[39;00m\n\u001b[1;32m     86\u001b[0m \u001b[38;5;66;03m# )\u001b[39;00m\n\u001b[0;32m---> 88\u001b[0m results \u001b[38;5;241m=\u001b[39m \u001b[43mcompare_on\u001b[49m\u001b[43m(\u001b[49m\u001b[43mproblem\u001b[49m\u001b[43m,\u001b[49m\u001b[43m \u001b[49m\u001b[43mn_gen\u001b[49m\u001b[38;5;241;43m=\u001b[39;49m\u001b[43mn_gen\u001b[49m\u001b[43m)\u001b[49m\n\u001b[1;32m     90\u001b[0m \u001b[38;5;66;03m# Check if any of the results is None\u001b[39;00m\n\u001b[1;32m     91\u001b[0m \u001b[38;5;28;01mif\u001b[39;00m \u001b[38;5;28many\u001b[39m(result \u001b[38;5;129;01mis\u001b[39;00m \u001b[38;5;28;01mNone\u001b[39;00m \u001b[38;5;28;01mfor\u001b[39;00m result \u001b[38;5;129;01min\u001b[39;00m results):\n",
      "Cell \u001b[0;32mIn[5], line 11\u001b[0m, in \u001b[0;36mperformance_timer.<locals>.wrapper\u001b[0;34m(*args, **kwargs)\u001b[0m\n\u001b[1;32m      9\u001b[0m \u001b[38;5;28;01mdef\u001b[39;00m \u001b[38;5;21mwrapper\u001b[39m(\u001b[38;5;241m*\u001b[39margs, \u001b[38;5;241m*\u001b[39m\u001b[38;5;241m*\u001b[39mkwargs):\n\u001b[1;32m     10\u001b[0m     start_time \u001b[38;5;241m=\u001b[39m time\u001b[38;5;241m.\u001b[39mtime()  \u001b[38;5;66;03m# Capture the start time\u001b[39;00m\n\u001b[0;32m---> 11\u001b[0m     result \u001b[38;5;241m=\u001b[39m \u001b[43mfunc\u001b[49m\u001b[43m(\u001b[49m\u001b[38;5;241;43m*\u001b[39;49m\u001b[43margs\u001b[49m\u001b[43m,\u001b[49m\u001b[43m \u001b[49m\u001b[38;5;241;43m*\u001b[39;49m\u001b[38;5;241;43m*\u001b[39;49m\u001b[43mkwargs\u001b[49m\u001b[43m)\u001b[49m  \u001b[38;5;66;03m# Execute the function\u001b[39;00m\n\u001b[1;32m     12\u001b[0m     end_time \u001b[38;5;241m=\u001b[39m time\u001b[38;5;241m.\u001b[39mtime()  \u001b[38;5;66;03m# Capture the end time\u001b[39;00m\n\u001b[1;32m     13\u001b[0m     duration \u001b[38;5;241m=\u001b[39m end_time \u001b[38;5;241m-\u001b[39m start_time  \u001b[38;5;66;03m# Calculate duration\u001b[39;00m\n",
      "Cell \u001b[0;32mIn[7], line 71\u001b[0m, in \u001b[0;36mcompare_on\u001b[0;34m(problem, n_gen)\u001b[0m\n\u001b[1;32m     69\u001b[0m results \u001b[38;5;241m=\u001b[39m []\n\u001b[1;32m     70\u001b[0m \u001b[38;5;28;01mfor\u001b[39;00m config \u001b[38;5;129;01min\u001b[39;00m configurations:\n\u001b[0;32m---> 71\u001b[0m     result \u001b[38;5;241m=\u001b[39m \u001b[43mminimize_\u001b[49m\u001b[43m(\u001b[49m\u001b[38;5;241;43m*\u001b[39;49m\u001b[43mconfig\u001b[49m\u001b[43m[\u001b[49m\u001b[43m:\u001b[49m\u001b[38;5;241;43m-\u001b[39;49m\u001b[38;5;241;43m1\u001b[39;49m\u001b[43m]\u001b[49m\u001b[43m,\u001b[49m\u001b[43m \u001b[49m\u001b[38;5;241;43m*\u001b[39;49m\u001b[38;5;241;43m*\u001b[39;49m\u001b[43mconfig\u001b[49m\u001b[43m[\u001b[49m\u001b[38;5;241;43m-\u001b[39;49m\u001b[38;5;241;43m1\u001b[39;49m\u001b[43m]\u001b[49m\u001b[43m)\u001b[49m\n\u001b[1;32m     72\u001b[0m     results\u001b[38;5;241m.\u001b[39mappend(result)\n\u001b[1;32m     73\u001b[0m \u001b[38;5;28;01mreturn\u001b[39;00m results\n",
      "Cell \u001b[0;32mIn[5], line 11\u001b[0m, in \u001b[0;36mperformance_timer.<locals>.wrapper\u001b[0;34m(*args, **kwargs)\u001b[0m\n\u001b[1;32m      9\u001b[0m \u001b[38;5;28;01mdef\u001b[39;00m \u001b[38;5;21mwrapper\u001b[39m(\u001b[38;5;241m*\u001b[39margs, \u001b[38;5;241m*\u001b[39m\u001b[38;5;241m*\u001b[39mkwargs):\n\u001b[1;32m     10\u001b[0m     start_time \u001b[38;5;241m=\u001b[39m time\u001b[38;5;241m.\u001b[39mtime()  \u001b[38;5;66;03m# Capture the start time\u001b[39;00m\n\u001b[0;32m---> 11\u001b[0m     result \u001b[38;5;241m=\u001b[39m \u001b[43mfunc\u001b[49m\u001b[43m(\u001b[49m\u001b[38;5;241;43m*\u001b[39;49m\u001b[43margs\u001b[49m\u001b[43m,\u001b[49m\u001b[43m \u001b[49m\u001b[38;5;241;43m*\u001b[39;49m\u001b[38;5;241;43m*\u001b[39;49m\u001b[43mkwargs\u001b[49m\u001b[43m)\u001b[49m  \u001b[38;5;66;03m# Execute the function\u001b[39;00m\n\u001b[1;32m     12\u001b[0m     end_time \u001b[38;5;241m=\u001b[39m time\u001b[38;5;241m.\u001b[39mtime()  \u001b[38;5;66;03m# Capture the end time\u001b[39;00m\n\u001b[1;32m     13\u001b[0m     duration \u001b[38;5;241m=\u001b[39m end_time \u001b[38;5;241m-\u001b[39m start_time  \u001b[38;5;66;03m# Calculate duration\u001b[39;00m\n",
      "Cell \u001b[0;32mIn[5], line 22\u001b[0m, in \u001b[0;36mminimize_\u001b[0;34m(*args, **kwargs)\u001b[0m\n\u001b[1;32m     20\u001b[0m \u001b[38;5;129m@performance_timer\u001b[39m\n\u001b[1;32m     21\u001b[0m \u001b[38;5;28;01mdef\u001b[39;00m \u001b[38;5;21mminimize_\u001b[39m(\u001b[38;5;241m*\u001b[39margs, \u001b[38;5;241m*\u001b[39m\u001b[38;5;241m*\u001b[39mkwargs):\n\u001b[0;32m---> 22\u001b[0m     \u001b[38;5;28;01mreturn\u001b[39;00m \u001b[43mminimize\u001b[49m\u001b[43m(\u001b[49m\u001b[38;5;241;43m*\u001b[39;49m\u001b[43margs\u001b[49m\u001b[43m,\u001b[49m\u001b[43m \u001b[49m\u001b[38;5;241;43m*\u001b[39;49m\u001b[38;5;241;43m*\u001b[39;49m\u001b[43mkwargs\u001b[49m\u001b[43m)\u001b[49m\n",
      "File \u001b[0;32m~/Desktop/pymoo/pymoo/optimize.py:67\u001b[0m, in \u001b[0;36mminimize\u001b[0;34m(problem, algorithm, termination, copy_algorithm, copy_termination, **kwargs)\u001b[0m\n\u001b[1;32m     64\u001b[0m     algorithm\u001b[38;5;241m.\u001b[39msetup(problem, \u001b[38;5;241m*\u001b[39m\u001b[38;5;241m*\u001b[39mkwargs)\n\u001b[1;32m     66\u001b[0m \u001b[38;5;66;03m# actually execute the algorithm\u001b[39;00m\n\u001b[0;32m---> 67\u001b[0m res \u001b[38;5;241m=\u001b[39m \u001b[43malgorithm\u001b[49m\u001b[38;5;241;43m.\u001b[39;49m\u001b[43mrun\u001b[49m\u001b[43m(\u001b[49m\u001b[43m)\u001b[49m\n\u001b[1;32m     69\u001b[0m \u001b[38;5;66;03m# store the deep copied algorithm in the result object\u001b[39;00m\n\u001b[1;32m     70\u001b[0m res\u001b[38;5;241m.\u001b[39malgorithm \u001b[38;5;241m=\u001b[39m algorithm\n",
      "File \u001b[0;32m~/.local/lib/python3.10/site-packages/pymoo/core/algorithm.py:138\u001b[0m, in \u001b[0;36mAlgorithm.run\u001b[0;34m(self)\u001b[0m\n\u001b[1;32m    136\u001b[0m \u001b[38;5;28;01mdef\u001b[39;00m \u001b[38;5;21mrun\u001b[39m(\u001b[38;5;28mself\u001b[39m):\n\u001b[1;32m    137\u001b[0m     \u001b[38;5;28;01mwhile\u001b[39;00m \u001b[38;5;28mself\u001b[39m\u001b[38;5;241m.\u001b[39mhas_next():\n\u001b[0;32m--> 138\u001b[0m         \u001b[38;5;28;43mself\u001b[39;49m\u001b[38;5;241;43m.\u001b[39;49m\u001b[43mnext\u001b[49m\u001b[43m(\u001b[49m\u001b[43m)\u001b[49m\n\u001b[1;32m    139\u001b[0m     \u001b[38;5;28;01mreturn\u001b[39;00m \u001b[38;5;28mself\u001b[39m\u001b[38;5;241m.\u001b[39mresult()\n",
      "File \u001b[0;32m~/.local/lib/python3.10/site-packages/pymoo/core/algorithm.py:158\u001b[0m, in \u001b[0;36mAlgorithm.next\u001b[0;34m(self)\u001b[0m\n\u001b[1;32m    156\u001b[0m \u001b[38;5;66;03m# call the advance with them after evaluation\u001b[39;00m\n\u001b[1;32m    157\u001b[0m \u001b[38;5;28;01mif\u001b[39;00m infills \u001b[38;5;129;01mis\u001b[39;00m \u001b[38;5;129;01mnot\u001b[39;00m \u001b[38;5;28;01mNone\u001b[39;00m:\n\u001b[0;32m--> 158\u001b[0m     \u001b[38;5;28;43mself\u001b[39;49m\u001b[38;5;241;43m.\u001b[39;49m\u001b[43mevaluator\u001b[49m\u001b[38;5;241;43m.\u001b[39;49m\u001b[43meval\u001b[49m\u001b[43m(\u001b[49m\u001b[38;5;28;43mself\u001b[39;49m\u001b[38;5;241;43m.\u001b[39;49m\u001b[43mproblem\u001b[49m\u001b[43m,\u001b[49m\u001b[43m \u001b[49m\u001b[43minfills\u001b[49m\u001b[43m,\u001b[49m\u001b[43m \u001b[49m\u001b[43malgorithm\u001b[49m\u001b[38;5;241;43m=\u001b[39;49m\u001b[38;5;28;43mself\u001b[39;49m\u001b[43m)\u001b[49m\n\u001b[1;32m    159\u001b[0m     \u001b[38;5;28mself\u001b[39m\u001b[38;5;241m.\u001b[39madvance(infills\u001b[38;5;241m=\u001b[39minfills)\n\u001b[1;32m    161\u001b[0m \u001b[38;5;66;03m# if the algorithm does not follow the infill-advance scheme just call advance\u001b[39;00m\n\u001b[1;32m    162\u001b[0m \u001b[38;5;28;01melse\u001b[39;00m:\n",
      "File \u001b[0;32m~/.local/lib/python3.10/site-packages/pymoo/core/evaluator.py:69\u001b[0m, in \u001b[0;36mEvaluator.eval\u001b[0;34m(self, problem, pop, skip_already_evaluated, evaluate_values_of, count_evals, **kwargs)\u001b[0m\n\u001b[1;32m     65\u001b[0m \u001b[38;5;66;03m# evaluate the solutions (if there are any)\u001b[39;00m\n\u001b[1;32m     66\u001b[0m \u001b[38;5;28;01mif\u001b[39;00m \u001b[38;5;28mlen\u001b[39m(I) \u001b[38;5;241m>\u001b[39m \u001b[38;5;241m0\u001b[39m:\n\u001b[1;32m     67\u001b[0m \n\u001b[1;32m     68\u001b[0m     \u001b[38;5;66;03m# do the actual evaluation - call the sub-function to set the corresponding values to the population\u001b[39;00m\n\u001b[0;32m---> 69\u001b[0m     \u001b[38;5;28;43mself\u001b[39;49m\u001b[38;5;241;43m.\u001b[39;49m\u001b[43m_eval\u001b[49m\u001b[43m(\u001b[49m\u001b[43mproblem\u001b[49m\u001b[43m,\u001b[49m\u001b[43m \u001b[49m\u001b[43mpop\u001b[49m\u001b[43m[\u001b[49m\u001b[43mI\u001b[49m\u001b[43m]\u001b[49m\u001b[43m,\u001b[49m\u001b[43m \u001b[49m\u001b[43mevaluate_values_of\u001b[49m\u001b[43m,\u001b[49m\u001b[43m \u001b[49m\u001b[38;5;241;43m*\u001b[39;49m\u001b[38;5;241;43m*\u001b[39;49m\u001b[43mkwargs\u001b[49m\u001b[43m)\u001b[49m\n\u001b[1;32m     71\u001b[0m \u001b[38;5;66;03m# update the function evaluation counter\u001b[39;00m\n\u001b[1;32m     72\u001b[0m \u001b[38;5;28;01mif\u001b[39;00m count_evals:\n",
      "File \u001b[0;32m~/.local/lib/python3.10/site-packages/pymoo/core/evaluator.py:90\u001b[0m, in \u001b[0;36mEvaluator._eval\u001b[0;34m(self, problem, pop, evaluate_values_of, **kwargs)\u001b[0m\n\u001b[1;32m     87\u001b[0m X \u001b[38;5;241m=\u001b[39m pop\u001b[38;5;241m.\u001b[39mget(\u001b[38;5;124m\"\u001b[39m\u001b[38;5;124mX\u001b[39m\u001b[38;5;124m\"\u001b[39m)\n\u001b[1;32m     89\u001b[0m \u001b[38;5;66;03m# call the problem to evaluate the solutions\u001b[39;00m\n\u001b[0;32m---> 90\u001b[0m out \u001b[38;5;241m=\u001b[39m \u001b[43mproblem\u001b[49m\u001b[38;5;241;43m.\u001b[39;49m\u001b[43mevaluate\u001b[49m\u001b[43m(\u001b[49m\u001b[43mX\u001b[49m\u001b[43m,\u001b[49m\u001b[43m \u001b[49m\u001b[43mreturn_values_of\u001b[49m\u001b[38;5;241;43m=\u001b[39;49m\u001b[43mevaluate_values_of\u001b[49m\u001b[43m,\u001b[49m\u001b[43m \u001b[49m\u001b[43mreturn_as_dictionary\u001b[49m\u001b[38;5;241;43m=\u001b[39;49m\u001b[38;5;28;43;01mTrue\u001b[39;49;00m\u001b[43m,\u001b[49m\u001b[43m \u001b[49m\u001b[38;5;241;43m*\u001b[39;49m\u001b[38;5;241;43m*\u001b[39;49m\u001b[43mkwargs\u001b[49m\u001b[43m)\u001b[49m\n\u001b[1;32m     92\u001b[0m \u001b[38;5;66;03m# for each of the attributes set it to the problem\u001b[39;00m\n\u001b[1;32m     93\u001b[0m \u001b[38;5;28;01mfor\u001b[39;00m key, val \u001b[38;5;129;01min\u001b[39;00m out\u001b[38;5;241m.\u001b[39mitems():\n",
      "File \u001b[0;32m~/Desktop/pymoo/pymoo/core/problem.py:257\u001b[0m, in \u001b[0;36mProblem.evaluate\u001b[0;34m(self, X, return_values_of, return_as_dictionary, *args, **kwargs)\u001b[0m\n\u001b[1;32m    254\u001b[0m     only_single_value \u001b[38;5;241m=\u001b[39m \u001b[38;5;129;01mnot\u001b[39;00m (\u001b[38;5;28misinstance\u001b[39m(X, \u001b[38;5;28mlist\u001b[39m) \u001b[38;5;129;01mor\u001b[39;00m \u001b[38;5;28misinstance\u001b[39m(X, np\u001b[38;5;241m.\u001b[39mndarray))\n\u001b[1;32m    256\u001b[0m \u001b[38;5;66;03m# this is where the actual evaluation takes place\u001b[39;00m\n\u001b[0;32m--> 257\u001b[0m _out \u001b[38;5;241m=\u001b[39m \u001b[38;5;28;43mself\u001b[39;49m\u001b[38;5;241;43m.\u001b[39;49m\u001b[43mdo\u001b[49m\u001b[43m(\u001b[49m\u001b[43mX\u001b[49m\u001b[43m,\u001b[49m\u001b[43m \u001b[49m\u001b[43mreturn_values_of\u001b[49m\u001b[43m,\u001b[49m\u001b[43m \u001b[49m\u001b[38;5;241;43m*\u001b[39;49m\u001b[43margs\u001b[49m\u001b[43m,\u001b[49m\u001b[43m \u001b[49m\u001b[38;5;241;43m*\u001b[39;49m\u001b[38;5;241;43m*\u001b[39;49m\u001b[43mkwargs\u001b[49m\u001b[43m)\u001b[49m\n\u001b[1;32m    259\u001b[0m out \u001b[38;5;241m=\u001b[39m {}\n\u001b[1;32m    260\u001b[0m \u001b[38;5;28;01mfor\u001b[39;00m k, v \u001b[38;5;129;01min\u001b[39;00m _out\u001b[38;5;241m.\u001b[39mitems():\n\u001b[1;32m    261\u001b[0m \n\u001b[1;32m    262\u001b[0m     \u001b[38;5;66;03m# copy it to a numpy array (it might be one of jax at this point)\u001b[39;00m\n",
      "File \u001b[0;32m~/Desktop/pymoo/pymoo/constraints/as_obj.py:197\u001b[0m, in \u001b[0;36mCVRAsObjective.do\u001b[0;34m(self, X, return_values_of, *args, **kwargs)\u001b[0m\n\u001b[1;32m    194\u001b[0m \u001b[38;5;66;03m# store a backup of the values in out\u001b[39;00m\n\u001b[1;32m    195\u001b[0m out[\u001b[38;5;124m\"\u001b[39m\u001b[38;5;124m__F__\u001b[39m\u001b[38;5;124m\"\u001b[39m], out[\u001b[38;5;124m\"\u001b[39m\u001b[38;5;124m__G__\u001b[39m\u001b[38;5;124m\"\u001b[39m], out[\u001b[38;5;124m\"\u001b[39m\u001b[38;5;124m__H__\u001b[39m\u001b[38;5;124m\"\u001b[39m] \u001b[38;5;241m=\u001b[39m F, G, H\n\u001b[0;32m--> 197\u001b[0m cvr \u001b[38;5;241m=\u001b[39m \u001b[38;5;28;43mself\u001b[39;49m\u001b[38;5;241;43m.\u001b[39;49m\u001b[43mcalc_cvr\u001b[49m\u001b[43m(\u001b[49m\u001b[43mG\u001b[49m\u001b[43m,\u001b[49m\u001b[43m \u001b[49m\u001b[43mH\u001b[49m\u001b[43m)\u001b[49m\n\u001b[1;32m    199\u001b[0m \u001b[38;5;66;03m# append the constraint violation as objective\u001b[39;00m\n\u001b[1;32m    200\u001b[0m \u001b[38;5;28;01mif\u001b[39;00m \u001b[38;5;28mself\u001b[39m\u001b[38;5;241m.\u001b[39mappend:\n",
      "File \u001b[0;32m~/Desktop/pymoo/pymoo/constraints/as_obj.py:172\u001b[0m, in \u001b[0;36mCVRAsObjective.calc_cvr\u001b[0;34m(self, G, H)\u001b[0m\n\u001b[1;32m    168\u001b[0m constraint_violation_mask \u001b[38;5;241m=\u001b[39m np\u001b[38;5;241m.\u001b[39mhstack(\n\u001b[1;32m    169\u001b[0m     [constraint_violation_mask_G, constraint_violation_mask_H])\n\u001b[1;32m    171\u001b[0m \u001b[38;5;66;03m# Calculate the weighted constraint violation vector\u001b[39;00m\n\u001b[0;32m--> 172\u001b[0m cv_vector \u001b[38;5;241m=\u001b[39m \u001b[43mconstraint_violation_mask\u001b[49m\u001b[43m \u001b[49m\u001b[38;5;241;43m*\u001b[39;49m\u001b[43m \u001b[49m\u001b[38;5;28;43mself\u001b[39;49m\u001b[38;5;241;43m.\u001b[39;49m\u001b[43mweighted_constraint_vector\u001b[49m\n\u001b[1;32m    174\u001b[0m \u001b[38;5;66;03m# Summing up the weighted constraint violation frequencies per sample\u001b[39;00m\n\u001b[1;32m    175\u001b[0m cvr \u001b[38;5;241m=\u001b[39m np\u001b[38;5;241m.\u001b[39msum(cv_vector, axis\u001b[38;5;241m=\u001b[39m\u001b[38;5;241m1\u001b[39m)\u001b[38;5;241m.\u001b[39mreshape(\u001b[38;5;241m-\u001b[39m\u001b[38;5;241m1\u001b[39m, \u001b[38;5;241m1\u001b[39m)\n",
      "\u001b[0;31mValueError\u001b[0m: operands could not be broadcast together with shapes (300,2) (6,) "
     ]
    }
   ],
   "source": [
    "pf, *results = test(\"bnh\", n_gen=100)\n",
    "print(len(results[0].F[results[0].F[:, -1] == 0]),\n",
    "        # len(results[1].F[results[1].F[:, -1] == 0]),\n",
    "        # len(results[2].F[results[2].F[:, -1] == 0]),\n",
    "        # len(results[3].F[results[3].F[:, -1] == 0]),\n",
    "        # len(results[4].F[results[4].F[:, -1] == 0])\n",
    "        )"
   ]
  },
  {
   "cell_type": "code",
   "execution_count": null,
   "metadata": {},
   "outputs": [],
   "source": [
    "for i in range(1, 600, 200):\n",
    "    # print(f\"\\n I = {i}\")\n",
    "    pf, *results = test(\"carside\", n_gen=i)\n",
    "    print(len(results[0].F[results[0].F[:, -1] == 0]),\n",
    "          len(results[1].F[results[1].F[:, -1] == 0]),\n",
    "          len(results[2].F[results[2].F[:, -1] == 0]),\n",
    "          len(results[3].F[results[3].F[:, -1] == 0]),\n",
    "          len(results[4].F[results[4].F[:, -1] == 0])\n",
    "          )"
   ]
  },
  {
   "cell_type": "code",
   "execution_count": null,
   "metadata": {},
   "outputs": [],
   "source": [
    "for i in range(1, 600, 200):\n",
    "    # print(f\"\\n I = {i}\")\n",
    "    pf, *results = test(\"tnk\", n_gen=i)\n",
    "    print(len(results[0].F[results[0].F[:, -1] == 0]),\n",
    "          len(results[1].F[results[1].F[:, -1] == 0]),\n",
    "          len(results[2].F[results[2].F[:, -1] == 0]),\n",
    "          len(results[3].F[results[3].F[:, -1] == 0]),\n",
    "          len(results[4].F[results[4].F[:, -1] == 0])\n",
    "          )"
   ]
  },
  {
   "cell_type": "code",
   "execution_count": 9,
   "metadata": {},
   "outputs": [
    {
     "name": "stdout",
     "output_type": "stream",
     "text": [
      "CVRAsObjective: weighted_constraint_vector=[2, 60, 1, 5, 3, 4]\n",
      "Infeasible rate: 0.9733333333333334\n",
      "[  8 249 116  23 176  81]\n",
      "cvr mean: 53.46333333333333\n",
      "Infeasible rate: 0.97\n",
      "[  8 251 113  27 175  80]\n",
      "cvr mean: 53.89666666666667\n",
      "Infeasible rate: 0.94\n",
      "[ 14 209  81  23 125  46]\n",
      "cvr mean: 44.41\n",
      "Infeasible rate: 0.8833333333333333\n",
      "[ 28 133  69  22 102  65]\n",
      "cvr mean: 29.27\n",
      "Infeasible rate: 0.7333333333333333\n",
      "[ 56  15  81  10 106  60]\n",
      "cvr mean: 5.67\n",
      "Infeasible rate: 0.5366666666666666\n",
      "[57 16 55  4 37 14]\n",
      "cvr mean: 4.386666666666667\n",
      "Infeasible rate: 0.2\n",
      "[14 12  9  3  6 22]\n",
      "cvr mean: 2.9266666666666667\n",
      "Infeasible rate: 0.18666666666666668\n",
      "[11 11  1  3  7 26]\n",
      "cvr mean: 2.743333333333333\n",
      "Infeasible rate: 0.20666666666666667\n",
      "[17  9  1  8  8 24]\n",
      "cvr mean: 2.45\n",
      "Infeasible rate: 0.28\n",
      "[14 27  3 12 12 24]\n",
      "cvr mean: 6.1433333333333335\n",
      "Infeasible rate: 0.26\n",
      "[10 25  2  9  2 36]\n",
      "cvr mean: 5.723333333333334\n",
      "Infeasible rate: 0.27666666666666667\n",
      "[28 23  3  6  5 25]\n",
      "cvr mean: 5.28\n",
      "Infeasible rate: 0.29333333333333333\n",
      "[26 23  3 11  4 33]\n",
      "cvr mean: 5.446666666666666\n",
      "Infeasible rate: 0.29333333333333333\n",
      "[23 32  2  9  3 24]\n",
      "cvr mean: 7.06\n",
      "Infeasible rate: 0.3233333333333333\n",
      "[30 32  5 13  4 25]\n",
      "cvr mean: 7.206666666666667\n",
      "Infeasible rate: 0.3433333333333333\n",
      "[32 33  6 10  4 22]\n",
      "cvr mean: 7.333333333333333\n",
      "Infeasible rate: 0.2966666666666667\n",
      "[24 36  1  9  6 17]\n",
      "cvr mean: 7.8\n",
      "Infeasible rate: 0.38\n",
      "[33 47  4 14  6 23]\n",
      "cvr mean: 10.233333333333333\n",
      "Infeasible rate: 0.37666666666666665\n",
      "[30 45  5  7 11 24]\n",
      "cvr mean: 9.763333333333334\n",
      "Infeasible rate: 0.35\n",
      "[35 42  1 10  6 18]\n",
      "cvr mean: 9.103333333333333\n",
      "Infeasible rate: 0.38\n",
      "[37 47  6 13  5 21]\n",
      "cvr mean: 10.213333333333333\n",
      "Infeasible rate: 0.30333333333333334\n",
      "[32 35  5  7  5 12]\n",
      "cvr mean: 7.556666666666667\n",
      "Infeasible rate: 0.43\n",
      "[45 51  9 10  9 20]\n",
      "cvr mean: 11.053333333333333\n",
      "Infeasible rate: 0.36666666666666664\n",
      "[35 43  7 13  3 18]\n",
      "cvr mean: 9.343333333333334\n",
      "Infeasible rate: 0.4033333333333333\n",
      "[42 46  6 14  1 19]\n",
      "cvr mean: 9.996666666666666\n",
      "Infeasible rate: 0.36\n",
      "[28 38  9 13  3 30]\n",
      "cvr mean: 8.463333333333333\n",
      "Infeasible rate: 0.4533333333333333\n",
      "[37 59  7 14  6 30]\n",
      "cvr mean: 12.763333333333334\n",
      "Infeasible rate: 0.4033333333333333\n",
      "[36 51  2 21  7 24]\n",
      "cvr mean: 11.186666666666667\n",
      "Infeasible rate: 0.37333333333333335\n",
      "[25 49  4 15  6 30]\n",
      "cvr mean: 10.69\n",
      "Infeasible rate: 0.36666666666666664\n",
      "[23 42  7 18 10 24]\n",
      "cvr mean: 9.296666666666667\n",
      "Infeasible rate: 0.47333333333333333\n",
      "[37 49 10 24  6 36]\n",
      "cvr mean: 11.02\n",
      "Infeasible rate: 0.44333333333333336\n",
      "[41 45  8 20 11 36]\n",
      "cvr mean: 10.223333333333333\n",
      "Infeasible rate: 0.43666666666666665\n",
      "[36 35  8 17 14 42]\n",
      "cvr mean: 8.25\n",
      "Infeasible rate: 0.41333333333333333\n",
      "[39 37  6 15 10 37]\n",
      "cvr mean: 8.523333333333333\n",
      "Infeasible rate: 0.42\n",
      "[35 36  5 16 13 41]\n",
      "cvr mean: 8.393333333333333\n",
      "Infeasible rate: 0.42\n",
      "[34 39  3 22 10 32]\n",
      "cvr mean: 8.93\n",
      "Infeasible rate: 0.41333333333333333\n",
      "[36 34  9 22 12 32]\n",
      "cvr mean: 7.983333333333333\n",
      "Infeasible rate: 0.4033333333333333\n",
      "[27 35  7 33 16 33]\n",
      "cvr mean: 8.353333333333333\n",
      "Infeasible rate: 0.43666666666666665\n",
      "[31 33  2 33 15 45]\n",
      "cvr mean: 8.113333333333333\n",
      "Infeasible rate: 0.4166666666666667\n",
      "[28 37  6 33 14 34]\n",
      "cvr mean: 8.75\n",
      "Infeasible rate: 0.4066666666666667\n",
      "[30 32  5 30 12 33]\n",
      "cvr mean: 7.676666666666667\n",
      "Infeasible rate: 0.43333333333333335\n",
      "[38 33  1 25 11 40]\n",
      "cvr mean: 7.916666666666667\n",
      "Infeasible rate: 0.4266666666666667\n",
      "[29 32  3 35 21 33]\n",
      "cvr mean: 7.836666666666667\n",
      "Infeasible rate: 0.4266666666666667\n",
      "[18 28  7 44 15 35]\n",
      "cvr mean: 7.093333333333334\n",
      "Infeasible rate: 0.42\n",
      "[25 35  4 37 16 36]\n",
      "cvr mean: 8.436666666666667\n",
      "Infeasible rate: 0.41333333333333333\n",
      "[25 25  4 35 22 39]\n",
      "cvr mean: 6.503333333333333\n",
      "Infeasible rate: 0.4266666666666667\n",
      "[37 28  4 31 23 34]\n",
      "cvr mean: 7.06\n",
      "Infeasible rate: 0.5033333333333333\n",
      "[33 29  6 45 21 43]\n",
      "cvr mean: 7.573333333333333\n",
      "Infeasible rate: 0.4533333333333333\n",
      "[36 32  2 36 23 36]\n",
      "cvr mean: 7.956666666666667\n",
      "Infeasible rate: 0.47333333333333333\n",
      "[21 30  6 59 16 34]\n",
      "cvr mean: 7.756666666666667\n",
      "Infeasible rate: 0.49666666666666665\n",
      "[31 35  6 47 19 43]\n",
      "cvr mean: 8.773333333333333\n",
      "Infeasible rate: 0.5066666666666667\n",
      "[29 39  6 48 29 44]\n",
      "cvr mean: 9.69\n",
      "Infeasible rate: 0.52\n",
      "[27 40  4 58 20 44]\n",
      "cvr mean: 9.946666666666667\n",
      "Infeasible rate: 0.4633333333333333\n",
      "[25 32  0 54 16 46]\n",
      "cvr mean: 8.24\n",
      "Infeasible rate: 0.4866666666666667\n",
      "[25 36  1 56 14 47]\n",
      "cvr mean: 9.07\n",
      "Infeasible rate: 0.42\n",
      "[28 30  3 38 18 38]\n",
      "cvr mean: 7.516666666666667\n",
      "Infeasible rate: 0.4666666666666667\n",
      "[28 27  3 56 16 36]\n",
      "cvr mean: 7.17\n",
      "Infeasible rate: 0.4533333333333333\n",
      "[24 36  1 52 16 32]\n",
      "cvr mean: 8.816666666666666\n",
      "Infeasible rate: 0.4666666666666667\n",
      "[20 25  1 53 18 53]\n",
      "cvr mean: 6.906666666666666\n",
      "Infeasible rate: 0.4266666666666667\n",
      "[16 30  2 59 18 40]\n",
      "cvr mean: 7.81\n",
      "Infeasible rate: 0.49666666666666665\n",
      "[18 29  3 70 21 39]\n",
      "cvr mean: 7.826666666666667\n",
      "Infeasible rate: 0.48\n",
      "[31 38  0 58 22 32]\n",
      "cvr mean: 9.42\n",
      "Infeasible rate: 0.48\n",
      "[20 29  1 69 11 47]\n",
      "cvr mean: 7.823333333333333\n",
      "Infeasible rate: 0.4533333333333333\n",
      "[18 35  3 53 15 40]\n",
      "cvr mean: 8.696666666666667\n",
      "Infeasible rate: 0.5133333333333333\n",
      "[41 37  3 53 16 38]\n",
      "cvr mean: 9.233333333333333\n",
      "Infeasible rate: 0.49666666666666665\n",
      "[27 30  2 56 24 37]\n",
      "cvr mean: 7.8533333333333335\n",
      "Infeasible rate: 0.5066666666666667\n",
      "[25 32  0 66 13 51]\n",
      "cvr mean: 8.476666666666667\n",
      "Infeasible rate: 0.49333333333333335\n",
      "[28 27  5 51 16 39]\n",
      "cvr mean: 7.133333333333334\n",
      "Infeasible rate: 0.42333333333333334\n",
      "[17 24  3 59 12 39]\n",
      "cvr mean: 6.546666666666667\n",
      "Infeasible rate: 0.46\n",
      "[24 27 10 54 20 39]\n",
      "cvr mean: 7.213333333333333\n",
      "Infeasible rate: 0.47333333333333333\n",
      "[22 27  1 63 17 37]\n",
      "cvr mean: 7.263333333333334\n",
      "Infeasible rate: 0.54\n",
      "[27 41  1 63 18 43]\n",
      "cvr mean: 10.186666666666667\n",
      "Infeasible rate: 0.5033333333333333\n",
      "[29 39  4 59 14 51]\n",
      "cvr mean: 9.81\n",
      "Infeasible rate: 0.49666666666666665\n",
      "[15 32  5 72 21 47]\n",
      "cvr mean: 8.553333333333333\n",
      "Infeasible rate: 0.5166666666666667\n",
      "[19 29  8 64 25 49]\n",
      "cvr mean: 7.923333333333333\n",
      "Infeasible rate: 0.51\n",
      "[20 29  7 58 27 49]\n",
      "cvr mean: 7.846666666666667\n",
      "Infeasible rate: 0.5133333333333333\n",
      "[17 36  6 70 19 41]\n",
      "cvr mean: 9.236666666666666\n",
      "Infeasible rate: 0.5033333333333333\n",
      "[27 41  1 58 27 43]\n",
      "cvr mean: 10.193333333333333\n",
      "Infeasible rate: 0.49333333333333335\n",
      "[26 35  5 60 21 49]\n",
      "cvr mean: 9.053333333333333\n",
      "Infeasible rate: 0.5333333333333333\n",
      "[32 30  5 60 20 51]\n",
      "cvr mean: 8.11\n",
      "Infeasible rate: 0.5066666666666667\n",
      "[16 38  9 63 19 43]\n",
      "cvr mean: 9.55\n",
      "Infeasible rate: 0.5366666666666666\n",
      "[26 27  7 61 16 49]\n",
      "cvr mean: 7.426666666666667\n",
      "Infeasible rate: 0.53\n",
      "[24 28 10 69 18 47]\n",
      "cvr mean: 7.75\n",
      "Infeasible rate: 0.5\n",
      "[22 35  4 57 18 45]\n",
      "cvr mean: 8.89\n",
      "Infeasible rate: 0.5\n",
      "[16 21  9 67 20 48]\n",
      "cvr mean: 6.293333333333333\n",
      "Infeasible rate: 0.55\n",
      "[21 35  3 60 18 61]\n",
      "cvr mean: 9.143333333333333\n",
      "Infeasible rate: 0.5033333333333333\n",
      "[21 32  4 59 17 51]\n",
      "cvr mean: 8.386666666666667\n",
      "Infeasible rate: 0.5066666666666667\n",
      "[31 38  4 48 16 44]\n",
      "cvr mean: 9.366666666666667\n",
      "Infeasible rate: 0.5033333333333333\n",
      "[24 36  5 52 19 49]\n",
      "cvr mean: 9.086666666666666\n",
      "Infeasible rate: 0.49333333333333335\n",
      "[30 23  2 57 12 51]\n",
      "cvr mean: 6.556666666666667\n",
      "Infeasible rate: 0.5333333333333333\n",
      "[27 31  6 53 18 58]\n",
      "cvr mean: 8.236666666666666\n",
      "Infeasible rate: 0.51\n",
      "[26 35  1 56 15 48]\n",
      "cvr mean: 8.9\n",
      "Infeasible rate: 0.49666666666666665\n",
      "[28 43  3 55 14 43]\n",
      "cvr mean: 10.426666666666666\n",
      "Infeasible rate: 0.55\n",
      "[30 35  5 56 23 56]\n",
      "cvr mean: 9.126666666666667\n",
      "Infeasible rate: 0.5433333333333333\n",
      "[27 32  5 60 24 54]\n",
      "cvr mean: 8.556666666666667\n",
      "Infeasible rate: 0.48333333333333334\n",
      "[21 24  7 64 21 49]\n",
      "cvr mean: 6.8933333333333335\n",
      "Infeasible rate: 0.5\n",
      "[27 36  2 54 20 54]\n",
      "cvr mean: 9.206666666666667\n",
      "Infeasible rate: 0.5833333333333334\n",
      "[33 45  4 64 20 51]\n",
      "cvr mean: 11.18\n",
      "Infeasible rate: 0.49666666666666665\n",
      "[20 28  8 56 20 39]\n",
      "cvr mean: 7.413333333333333\n",
      "Infeasible rate: 0.5666666666666667\n",
      "[26 45  7 71 17 46]\n",
      "cvr mean: 11.163333333333334\n",
      "Infeasible rate: 0.5166666666666667\n",
      "[25 34  5 60 15 49]\n",
      "cvr mean: 8.786666666666667\n",
      "Infeasible rate: 0.5066666666666667\n",
      "[29 35  3 56 10 45]\n",
      "cvr mean: 8.836666666666666\n",
      "Infeasible rate: 0.5366666666666666\n",
      "[34 32  9 53 17 43]\n",
      "cvr mean: 8.283333333333333\n",
      "Infeasible rate: 0.57\n",
      "[35 50  3 63 13 50]\n",
      "cvr mean: 12.09\n",
      "Infeasible rate: 0.5066666666666667\n",
      "[29 34  4 57 12 51]\n",
      "cvr mean: 8.756666666666666\n",
      "Infeasible rate: 0.5533333333333333\n",
      "[39 39  7 65 13 46]\n",
      "cvr mean: 9.91\n",
      "Infeasible rate: 0.5366666666666666\n",
      "[37 34  4 60 14 51]\n",
      "cvr mean: 8.88\n",
      "Infeasible rate: 0.52\n",
      "[37 39  5 50 14 41]\n",
      "cvr mean: 9.583333333333334\n",
      "Infeasible rate: 0.49666666666666665\n",
      "[30 40  2 54 15 51]\n",
      "cvr mean: 9.936666666666667\n",
      "Infeasible rate: 0.4766666666666667\n",
      "[21 31  3 65 15 44]\n",
      "cvr mean: 8.17\n",
      "Infeasible rate: 0.5433333333333333\n",
      "[28 41  4 60 10 45]\n",
      "cvr mean: 10.1\n",
      "Infeasible rate: 0.51\n",
      "[27 34  4 54 18 55]\n",
      "cvr mean: 8.806666666666667\n",
      "Infeasible rate: 0.54\n",
      "[25 36  3 80 15 37]\n",
      "cvr mean: 9.353333333333333\n",
      "Infeasible rate: 0.5266666666666666\n",
      "[26 34  8 66 17 49]\n",
      "cvr mean: 8.923333333333334\n",
      "Infeasible rate: 0.5566666666666666\n",
      "[34 39  4 62  8 55]\n",
      "cvr mean: 9.886666666666667\n",
      "Infeasible rate: 0.5966666666666667\n",
      "[35 56  6 64 14 51]\n",
      "cvr mean: 13.34\n",
      "Infeasible rate: 0.5233333333333333\n",
      "[23 38  4 68 11 56]\n",
      "cvr mean: 9.756666666666666\n",
      "Infeasible rate: 0.56\n",
      "[23 39  6 61 15 69]\n",
      "cvr mean: 10.06\n",
      "Infeasible rate: 0.5433333333333333\n",
      "[29 48  2 67 12 48]\n",
      "cvr mean: 11.676666666666666\n",
      "Infeasible rate: 0.5366666666666666\n",
      "[29 42  3 64 12 55]\n",
      "cvr mean: 10.523333333333333\n",
      "Infeasible rate: 0.54\n",
      "[26 39  7 62 13 53]\n",
      "cvr mean: 9.866666666666667\n",
      "Infeasible rate: 0.54\n",
      "[26 37  9 47 14 61]\n",
      "cvr mean: 9.34\n",
      "Infeasible rate: 0.5566666666666666\n",
      "[30 47  5 59 14 52]\n",
      "cvr mean: 11.433333333333334\n",
      "Infeasible rate: 0.5566666666666666\n",
      "[26 43  6 66 18 47]\n",
      "cvr mean: 10.7\n",
      "Infeasible rate: 0.5333333333333333\n",
      "[31 46  6 54 11 52]\n",
      "cvr mean: 11.13\n",
      "Infeasible rate: 0.51\n",
      "[13 39  5 66 18 57]\n",
      "cvr mean: 9.943333333333333\n",
      "Infeasible rate: 0.51\n",
      "[29 42  4 54  7 52]\n",
      "cvr mean: 10.27\n",
      "Infeasible rate: 0.5266666666666666\n",
      "[30 36  3 62  9 55]\n",
      "cvr mean: 9.266666666666667\n",
      "Infeasible rate: 0.52\n",
      "[23 43  0 67 13 65]\n",
      "cvr mean: 10.866666666666667\n",
      "Infeasible rate: 0.5066666666666667\n",
      "[23 40  6 56 11 45]\n",
      "cvr mean: 9.816666666666666\n",
      "Infeasible rate: 0.5266666666666666\n",
      "[24 46  1 54 13 49]\n",
      "cvr mean: 11.046666666666667\n",
      "Infeasible rate: 0.52\n",
      "[27 40  6 52 12 66]\n",
      "cvr mean: 10.066666666666666\n",
      "Infeasible rate: 0.5733333333333334\n",
      "[27 50  7 66  8 60]\n",
      "cvr mean: 12.183333333333334\n",
      "Infeasible rate: 0.5366666666666666\n",
      "[26 38  8 54 14 52]\n",
      "cvr mean: 9.533333333333333\n",
      "Infeasible rate: 0.5733333333333334\n",
      "[27 48  5 69 12 66]\n",
      "cvr mean: 11.946666666666667\n",
      "Infeasible rate: 0.5733333333333334\n",
      "[39 58  4 60  6 45]\n",
      "cvr mean: 13.533333333333333\n",
      "Infeasible rate: 0.5566666666666666\n",
      "[29 52  2 54  8 64]\n",
      "cvr mean: 12.433333333333334\n",
      "Infeasible rate: 0.53\n",
      "[21 49  6 66  5 62]\n",
      "cvr mean: 11.936666666666667\n",
      "Infeasible rate: 0.5333333333333333\n",
      "[20 41  6 63 14 60]\n",
      "cvr mean: 10.343333333333334\n",
      "Infeasible rate: 0.5666666666666667\n",
      "[21 54  9 62  7 63]\n",
      "cvr mean: 12.913333333333334\n",
      "Infeasible rate: 0.5633333333333334\n",
      "[29 51  5 60  7 64]\n",
      "cvr mean: 12.333333333333334\n",
      "Infeasible rate: 0.5566666666666666\n",
      "[30 54  6 65  9 57]\n",
      "cvr mean: 12.953333333333333\n",
      "Infeasible rate: 0.5933333333333334\n",
      "[29 64  3 72  8 66]\n",
      "cvr mean: 15.163333333333334\n",
      "Infeasible rate: 0.5833333333333334\n",
      "[30 45  5 61  8 73]\n",
      "cvr mean: 11.286666666666667\n",
      "Infeasible rate: 0.5933333333333334\n",
      "[30 56  1 64 18 63]\n",
      "cvr mean: 13.49\n",
      "Infeasible rate: 0.5666666666666667\n",
      "[22 43  8 54 11 70]\n",
      "cvr mean: 10.716666666666667\n",
      "Infeasible rate: 0.5766666666666667\n",
      "[27 48  2 59 13 75]\n",
      "cvr mean: 11.9\n",
      "Infeasible rate: 0.5833333333333334\n",
      "[23 42  7 67  5 77]\n",
      "cvr mean: 10.77\n"
     ]
    },
    {
     "ename": "KeyboardInterrupt",
     "evalue": "",
     "output_type": "error",
     "traceback": [
      "\u001b[0;31m---------------------------------------------------------------------------\u001b[0m",
      "\u001b[0;31mKeyboardInterrupt\u001b[0m                         Traceback (most recent call last)",
      "Cell \u001b[0;32mIn[9], line 1\u001b[0m\n\u001b[0;32m----> 1\u001b[0m pf, \u001b[38;5;241m*\u001b[39mresults \u001b[38;5;241m=\u001b[39m \u001b[43mtest\u001b[49m\u001b[43m(\u001b[49m\u001b[38;5;124;43m\"\u001b[39;49m\u001b[38;5;124;43mosy\u001b[39;49m\u001b[38;5;124;43m\"\u001b[39;49m\u001b[43m,\u001b[49m\u001b[43m \u001b[49m\u001b[43mn_gen\u001b[49m\u001b[38;5;241;43m=\u001b[39;49m\u001b[38;5;241;43m200\u001b[39;49m\u001b[43m)\u001b[49m\n\u001b[1;32m      2\u001b[0m \u001b[38;5;28mprint\u001b[39m(\u001b[38;5;28mlen\u001b[39m(results[\u001b[38;5;241m0\u001b[39m]\u001b[38;5;241m.\u001b[39mF[results[\u001b[38;5;241m0\u001b[39m]\u001b[38;5;241m.\u001b[39mF[:, \u001b[38;5;241m-\u001b[39m\u001b[38;5;241m1\u001b[39m] \u001b[38;5;241m==\u001b[39m \u001b[38;5;241m0\u001b[39m]),\n\u001b[1;32m      3\u001b[0m         \u001b[38;5;66;03m# len(results[1].F[results[1].F[:, -1] == 0]),\u001b[39;00m\n\u001b[1;32m      4\u001b[0m         \u001b[38;5;66;03m# len(results[2].F[results[2].F[:, -1] == 0]),\u001b[39;00m\n\u001b[1;32m      5\u001b[0m         \u001b[38;5;66;03m# len(results[3].F[results[3].F[:, -1] == 0]),\u001b[39;00m\n\u001b[1;32m      6\u001b[0m         \u001b[38;5;66;03m# len(results[4].F[results[4].F[:, -1] == 0])\u001b[39;00m\n\u001b[1;32m      7\u001b[0m         )\n",
      "Cell \u001b[0;32mIn[7], line 88\u001b[0m, in \u001b[0;36mtest\u001b[0;34m(problem_name, n_gen, *args)\u001b[0m\n\u001b[1;32m     83\u001b[0m pf \u001b[38;5;241m=\u001b[39m problem\u001b[38;5;241m.\u001b[39mpareto_front()\n\u001b[1;32m     84\u001b[0m \u001b[38;5;66;03m# print(\u001b[39;00m\n\u001b[1;32m     85\u001b[0m \u001b[38;5;66;03m#     f\"Problem {problem.name}: n_var={problem.n_var} n_obj={problem.n_obj} n_ieq_constr={problem.n_ieq_constr} n_eq_constr={problem.n_eq_constr}\"\u001b[39;00m\n\u001b[1;32m     86\u001b[0m \u001b[38;5;66;03m# )\u001b[39;00m\n\u001b[0;32m---> 88\u001b[0m results \u001b[38;5;241m=\u001b[39m \u001b[43mcompare_on\u001b[49m\u001b[43m(\u001b[49m\u001b[43mproblem\u001b[49m\u001b[43m,\u001b[49m\u001b[43m \u001b[49m\u001b[43mn_gen\u001b[49m\u001b[38;5;241;43m=\u001b[39;49m\u001b[43mn_gen\u001b[49m\u001b[43m)\u001b[49m\n\u001b[1;32m     90\u001b[0m \u001b[38;5;66;03m# Check if any of the results is None\u001b[39;00m\n\u001b[1;32m     91\u001b[0m \u001b[38;5;28;01mif\u001b[39;00m \u001b[38;5;28many\u001b[39m(result \u001b[38;5;129;01mis\u001b[39;00m \u001b[38;5;28;01mNone\u001b[39;00m \u001b[38;5;28;01mfor\u001b[39;00m result \u001b[38;5;129;01min\u001b[39;00m results):\n",
      "Cell \u001b[0;32mIn[5], line 11\u001b[0m, in \u001b[0;36mperformance_timer.<locals>.wrapper\u001b[0;34m(*args, **kwargs)\u001b[0m\n\u001b[1;32m      9\u001b[0m \u001b[38;5;28;01mdef\u001b[39;00m \u001b[38;5;21mwrapper\u001b[39m(\u001b[38;5;241m*\u001b[39margs, \u001b[38;5;241m*\u001b[39m\u001b[38;5;241m*\u001b[39mkwargs):\n\u001b[1;32m     10\u001b[0m     start_time \u001b[38;5;241m=\u001b[39m time\u001b[38;5;241m.\u001b[39mtime()  \u001b[38;5;66;03m# Capture the start time\u001b[39;00m\n\u001b[0;32m---> 11\u001b[0m     result \u001b[38;5;241m=\u001b[39m \u001b[43mfunc\u001b[49m\u001b[43m(\u001b[49m\u001b[38;5;241;43m*\u001b[39;49m\u001b[43margs\u001b[49m\u001b[43m,\u001b[49m\u001b[43m \u001b[49m\u001b[38;5;241;43m*\u001b[39;49m\u001b[38;5;241;43m*\u001b[39;49m\u001b[43mkwargs\u001b[49m\u001b[43m)\u001b[49m  \u001b[38;5;66;03m# Execute the function\u001b[39;00m\n\u001b[1;32m     12\u001b[0m     end_time \u001b[38;5;241m=\u001b[39m time\u001b[38;5;241m.\u001b[39mtime()  \u001b[38;5;66;03m# Capture the end time\u001b[39;00m\n\u001b[1;32m     13\u001b[0m     duration \u001b[38;5;241m=\u001b[39m end_time \u001b[38;5;241m-\u001b[39m start_time  \u001b[38;5;66;03m# Calculate duration\u001b[39;00m\n",
      "Cell \u001b[0;32mIn[7], line 71\u001b[0m, in \u001b[0;36mcompare_on\u001b[0;34m(problem, n_gen)\u001b[0m\n\u001b[1;32m     69\u001b[0m results \u001b[38;5;241m=\u001b[39m []\n\u001b[1;32m     70\u001b[0m \u001b[38;5;28;01mfor\u001b[39;00m config \u001b[38;5;129;01min\u001b[39;00m configurations:\n\u001b[0;32m---> 71\u001b[0m     result \u001b[38;5;241m=\u001b[39m \u001b[43mminimize_\u001b[49m\u001b[43m(\u001b[49m\u001b[38;5;241;43m*\u001b[39;49m\u001b[43mconfig\u001b[49m\u001b[43m[\u001b[49m\u001b[43m:\u001b[49m\u001b[38;5;241;43m-\u001b[39;49m\u001b[38;5;241;43m1\u001b[39;49m\u001b[43m]\u001b[49m\u001b[43m,\u001b[49m\u001b[43m \u001b[49m\u001b[38;5;241;43m*\u001b[39;49m\u001b[38;5;241;43m*\u001b[39;49m\u001b[43mconfig\u001b[49m\u001b[43m[\u001b[49m\u001b[38;5;241;43m-\u001b[39;49m\u001b[38;5;241;43m1\u001b[39;49m\u001b[43m]\u001b[49m\u001b[43m)\u001b[49m\n\u001b[1;32m     72\u001b[0m     results\u001b[38;5;241m.\u001b[39mappend(result)\n\u001b[1;32m     73\u001b[0m \u001b[38;5;28;01mreturn\u001b[39;00m results\n",
      "Cell \u001b[0;32mIn[5], line 11\u001b[0m, in \u001b[0;36mperformance_timer.<locals>.wrapper\u001b[0;34m(*args, **kwargs)\u001b[0m\n\u001b[1;32m      9\u001b[0m \u001b[38;5;28;01mdef\u001b[39;00m \u001b[38;5;21mwrapper\u001b[39m(\u001b[38;5;241m*\u001b[39margs, \u001b[38;5;241m*\u001b[39m\u001b[38;5;241m*\u001b[39mkwargs):\n\u001b[1;32m     10\u001b[0m     start_time \u001b[38;5;241m=\u001b[39m time\u001b[38;5;241m.\u001b[39mtime()  \u001b[38;5;66;03m# Capture the start time\u001b[39;00m\n\u001b[0;32m---> 11\u001b[0m     result \u001b[38;5;241m=\u001b[39m \u001b[43mfunc\u001b[49m\u001b[43m(\u001b[49m\u001b[38;5;241;43m*\u001b[39;49m\u001b[43margs\u001b[49m\u001b[43m,\u001b[49m\u001b[43m \u001b[49m\u001b[38;5;241;43m*\u001b[39;49m\u001b[38;5;241;43m*\u001b[39;49m\u001b[43mkwargs\u001b[49m\u001b[43m)\u001b[49m  \u001b[38;5;66;03m# Execute the function\u001b[39;00m\n\u001b[1;32m     12\u001b[0m     end_time \u001b[38;5;241m=\u001b[39m time\u001b[38;5;241m.\u001b[39mtime()  \u001b[38;5;66;03m# Capture the end time\u001b[39;00m\n\u001b[1;32m     13\u001b[0m     duration \u001b[38;5;241m=\u001b[39m end_time \u001b[38;5;241m-\u001b[39m start_time  \u001b[38;5;66;03m# Calculate duration\u001b[39;00m\n",
      "Cell \u001b[0;32mIn[5], line 22\u001b[0m, in \u001b[0;36mminimize_\u001b[0;34m(*args, **kwargs)\u001b[0m\n\u001b[1;32m     20\u001b[0m \u001b[38;5;129m@performance_timer\u001b[39m\n\u001b[1;32m     21\u001b[0m \u001b[38;5;28;01mdef\u001b[39;00m \u001b[38;5;21mminimize_\u001b[39m(\u001b[38;5;241m*\u001b[39margs, \u001b[38;5;241m*\u001b[39m\u001b[38;5;241m*\u001b[39mkwargs):\n\u001b[0;32m---> 22\u001b[0m     \u001b[38;5;28;01mreturn\u001b[39;00m \u001b[43mminimize\u001b[49m\u001b[43m(\u001b[49m\u001b[38;5;241;43m*\u001b[39;49m\u001b[43margs\u001b[49m\u001b[43m,\u001b[49m\u001b[43m \u001b[49m\u001b[38;5;241;43m*\u001b[39;49m\u001b[38;5;241;43m*\u001b[39;49m\u001b[43mkwargs\u001b[49m\u001b[43m)\u001b[49m\n",
      "File \u001b[0;32m~/Desktop/pymoo/pymoo/optimize.py:67\u001b[0m, in \u001b[0;36mminimize\u001b[0;34m(problem, algorithm, termination, copy_algorithm, copy_termination, **kwargs)\u001b[0m\n\u001b[1;32m     64\u001b[0m     algorithm\u001b[38;5;241m.\u001b[39msetup(problem, \u001b[38;5;241m*\u001b[39m\u001b[38;5;241m*\u001b[39mkwargs)\n\u001b[1;32m     66\u001b[0m \u001b[38;5;66;03m# actually execute the algorithm\u001b[39;00m\n\u001b[0;32m---> 67\u001b[0m res \u001b[38;5;241m=\u001b[39m \u001b[43malgorithm\u001b[49m\u001b[38;5;241;43m.\u001b[39;49m\u001b[43mrun\u001b[49m\u001b[43m(\u001b[49m\u001b[43m)\u001b[49m\n\u001b[1;32m     69\u001b[0m \u001b[38;5;66;03m# store the deep copied algorithm in the result object\u001b[39;00m\n\u001b[1;32m     70\u001b[0m res\u001b[38;5;241m.\u001b[39malgorithm \u001b[38;5;241m=\u001b[39m algorithm\n",
      "File \u001b[0;32m~/.local/lib/python3.10/site-packages/pymoo/core/algorithm.py:138\u001b[0m, in \u001b[0;36mAlgorithm.run\u001b[0;34m(self)\u001b[0m\n\u001b[1;32m    136\u001b[0m \u001b[38;5;28;01mdef\u001b[39;00m \u001b[38;5;21mrun\u001b[39m(\u001b[38;5;28mself\u001b[39m):\n\u001b[1;32m    137\u001b[0m     \u001b[38;5;28;01mwhile\u001b[39;00m \u001b[38;5;28mself\u001b[39m\u001b[38;5;241m.\u001b[39mhas_next():\n\u001b[0;32m--> 138\u001b[0m         \u001b[38;5;28;43mself\u001b[39;49m\u001b[38;5;241;43m.\u001b[39;49m\u001b[43mnext\u001b[49m\u001b[43m(\u001b[49m\u001b[43m)\u001b[49m\n\u001b[1;32m    139\u001b[0m     \u001b[38;5;28;01mreturn\u001b[39;00m \u001b[38;5;28mself\u001b[39m\u001b[38;5;241m.\u001b[39mresult()\n",
      "File \u001b[0;32m~/.local/lib/python3.10/site-packages/pymoo/core/algorithm.py:154\u001b[0m, in \u001b[0;36mAlgorithm.next\u001b[0;34m(self)\u001b[0m\n\u001b[1;32m    151\u001b[0m \u001b[38;5;28;01mdef\u001b[39;00m \u001b[38;5;21mnext\u001b[39m(\u001b[38;5;28mself\u001b[39m):\n\u001b[1;32m    152\u001b[0m \n\u001b[1;32m    153\u001b[0m     \u001b[38;5;66;03m# get the infill solutions\u001b[39;00m\n\u001b[0;32m--> 154\u001b[0m     infills \u001b[38;5;241m=\u001b[39m \u001b[38;5;28;43mself\u001b[39;49m\u001b[38;5;241;43m.\u001b[39;49m\u001b[43minfill\u001b[49m\u001b[43m(\u001b[49m\u001b[43m)\u001b[49m\n\u001b[1;32m    156\u001b[0m     \u001b[38;5;66;03m# call the advance with them after evaluation\u001b[39;00m\n\u001b[1;32m    157\u001b[0m     \u001b[38;5;28;01mif\u001b[39;00m infills \u001b[38;5;129;01mis\u001b[39;00m \u001b[38;5;129;01mnot\u001b[39;00m \u001b[38;5;28;01mNone\u001b[39;00m:\n",
      "File \u001b[0;32m~/.local/lib/python3.10/site-packages/pymoo/core/algorithm.py:190\u001b[0m, in \u001b[0;36mAlgorithm.infill\u001b[0;34m(self)\u001b[0m\n\u001b[1;32m    186\u001b[0m     infills \u001b[38;5;241m=\u001b[39m \u001b[38;5;28mself\u001b[39m\u001b[38;5;241m.\u001b[39m_initialize_infill()\n\u001b[1;32m    188\u001b[0m \u001b[38;5;28;01melse\u001b[39;00m:\n\u001b[1;32m    189\u001b[0m     \u001b[38;5;66;03m# request the infill solutions if the algorithm has implemented it\u001b[39;00m\n\u001b[0;32m--> 190\u001b[0m     infills \u001b[38;5;241m=\u001b[39m \u001b[38;5;28;43mself\u001b[39;49m\u001b[38;5;241;43m.\u001b[39;49m\u001b[43m_infill\u001b[49m\u001b[43m(\u001b[49m\u001b[43m)\u001b[49m\n\u001b[1;32m    192\u001b[0m \u001b[38;5;66;03m# set the current generation to the offsprings\u001b[39;00m\n\u001b[1;32m    193\u001b[0m \u001b[38;5;28;01mif\u001b[39;00m infills \u001b[38;5;129;01mis\u001b[39;00m \u001b[38;5;129;01mnot\u001b[39;00m \u001b[38;5;28;01mNone\u001b[39;00m:\n",
      "File \u001b[0;32m~/.local/lib/python3.10/site-packages/pymoo/algorithms/base/genetic.py:85\u001b[0m, in \u001b[0;36mGeneticAlgorithm._infill\u001b[0;34m(self)\u001b[0m\n\u001b[1;32m     82\u001b[0m \u001b[38;5;28;01mdef\u001b[39;00m \u001b[38;5;21m_infill\u001b[39m(\u001b[38;5;28mself\u001b[39m):\n\u001b[1;32m     83\u001b[0m \n\u001b[1;32m     84\u001b[0m     \u001b[38;5;66;03m# do the mating using the current population\u001b[39;00m\n\u001b[0;32m---> 85\u001b[0m     off \u001b[38;5;241m=\u001b[39m \u001b[38;5;28;43mself\u001b[39;49m\u001b[38;5;241;43m.\u001b[39;49m\u001b[43mmating\u001b[49m\u001b[38;5;241;43m.\u001b[39;49m\u001b[43mdo\u001b[49m\u001b[43m(\u001b[49m\u001b[38;5;28;43mself\u001b[39;49m\u001b[38;5;241;43m.\u001b[39;49m\u001b[43mproblem\u001b[49m\u001b[43m,\u001b[49m\u001b[43m \u001b[49m\u001b[38;5;28;43mself\u001b[39;49m\u001b[38;5;241;43m.\u001b[39;49m\u001b[43mpop\u001b[49m\u001b[43m,\u001b[49m\u001b[43m \u001b[49m\u001b[38;5;28;43mself\u001b[39;49m\u001b[38;5;241;43m.\u001b[39;49m\u001b[43mn_offsprings\u001b[49m\u001b[43m,\u001b[49m\u001b[43m \u001b[49m\u001b[43malgorithm\u001b[49m\u001b[38;5;241;43m=\u001b[39;49m\u001b[38;5;28;43mself\u001b[39;49m\u001b[43m)\u001b[49m\n\u001b[1;32m     87\u001b[0m     \u001b[38;5;66;03m# if the mating could not generate any new offspring (duplicate elimination might make that happen)\u001b[39;00m\n\u001b[1;32m     88\u001b[0m     \u001b[38;5;28;01mif\u001b[39;00m \u001b[38;5;28mlen\u001b[39m(off) \u001b[38;5;241m==\u001b[39m \u001b[38;5;241m0\u001b[39m:\n",
      "File \u001b[0;32m~/.local/lib/python3.10/site-packages/pymoo/core/infill.py:44\u001b[0m, in \u001b[0;36mInfillCriterion.do\u001b[0;34m(self, problem, pop, n_offsprings, **kwargs)\u001b[0m\n\u001b[1;32m     41\u001b[0m _off \u001b[38;5;241m=\u001b[39m \u001b[38;5;28mself\u001b[39m\u001b[38;5;241m.\u001b[39mrepair(problem, _off, \u001b[38;5;241m*\u001b[39m\u001b[38;5;241m*\u001b[39mkwargs)\n\u001b[1;32m     43\u001b[0m \u001b[38;5;66;03m# eliminate the duplicates\u001b[39;00m\n\u001b[0;32m---> 44\u001b[0m _off \u001b[38;5;241m=\u001b[39m \u001b[38;5;28;43mself\u001b[39;49m\u001b[38;5;241;43m.\u001b[39;49m\u001b[43meliminate_duplicates\u001b[49m\u001b[38;5;241;43m.\u001b[39;49m\u001b[43mdo\u001b[49m\u001b[43m(\u001b[49m\u001b[43m_off\u001b[49m\u001b[43m,\u001b[49m\u001b[43m \u001b[49m\u001b[43mpop\u001b[49m\u001b[43m,\u001b[49m\u001b[43m \u001b[49m\u001b[43moff\u001b[49m\u001b[43m)\u001b[49m\n\u001b[1;32m     46\u001b[0m \u001b[38;5;66;03m# if more offsprings than necessary - truncate them randomly\u001b[39;00m\n\u001b[1;32m     47\u001b[0m \u001b[38;5;28;01mif\u001b[39;00m \u001b[38;5;28mlen\u001b[39m(off) \u001b[38;5;241m+\u001b[39m \u001b[38;5;28mlen\u001b[39m(_off) \u001b[38;5;241m>\u001b[39m n_offsprings:\n\u001b[1;32m     48\u001b[0m \n\u001b[1;32m     49\u001b[0m     \u001b[38;5;66;03m# IMPORTANT: Interestingly, this makes a difference in performance for some algorithms\u001b[39;00m\n",
      "File \u001b[0;32m~/.local/lib/python3.10/site-packages/pymoo/core/duplicate.py:36\u001b[0m, in \u001b[0;36mDuplicateElimination.do\u001b[0;34m(self, pop, return_indices, to_itself, *args)\u001b[0m\n\u001b[1;32m     34\u001b[0m             \u001b[38;5;28;01mcontinue\u001b[39;00m\n\u001b[1;32m     35\u001b[0m         \u001b[38;5;28;01melse\u001b[39;00m:\n\u001b[0;32m---> 36\u001b[0m             pop \u001b[38;5;241m=\u001b[39m pop[\u001b[38;5;241m~\u001b[39m\u001b[38;5;28;43mself\u001b[39;49m\u001b[38;5;241;43m.\u001b[39;49m\u001b[43m_do\u001b[49m\u001b[43m(\u001b[49m\u001b[43mpop\u001b[49m\u001b[43m,\u001b[49m\u001b[43m \u001b[49m\u001b[43marg\u001b[49m\u001b[43m,\u001b[49m\u001b[43m \u001b[49m\u001b[43mnp\u001b[49m\u001b[38;5;241;43m.\u001b[39;49m\u001b[43mfull\u001b[49m\u001b[43m(\u001b[49m\u001b[38;5;28;43mlen\u001b[39;49m\u001b[43m(\u001b[49m\u001b[43mpop\u001b[49m\u001b[43m)\u001b[49m\u001b[43m,\u001b[49m\u001b[43m \u001b[49m\u001b[38;5;28;43;01mFalse\u001b[39;49;00m\u001b[43m)\u001b[49m\u001b[43m)\u001b[49m]\n\u001b[1;32m     38\u001b[0m \u001b[38;5;28;01mif\u001b[39;00m return_indices:\n\u001b[1;32m     39\u001b[0m     no_duplicate, is_duplicate \u001b[38;5;241m=\u001b[39m [], []\n",
      "File \u001b[0;32m~/.local/lib/python3.10/site-packages/pymoo/core/duplicate.py:75\u001b[0m, in \u001b[0;36mDefaultDuplicateElimination._do\u001b[0;34m(self, pop, other, is_duplicate)\u001b[0m\n\u001b[1;32m     74\u001b[0m \u001b[38;5;28;01mdef\u001b[39;00m \u001b[38;5;21m_do\u001b[39m(\u001b[38;5;28mself\u001b[39m, pop, other, is_duplicate):\n\u001b[0;32m---> 75\u001b[0m     D \u001b[38;5;241m=\u001b[39m \u001b[38;5;28;43mself\u001b[39;49m\u001b[38;5;241;43m.\u001b[39;49m\u001b[43mcalc_dist\u001b[49m\u001b[43m(\u001b[49m\u001b[43mpop\u001b[49m\u001b[43m,\u001b[49m\u001b[43m \u001b[49m\u001b[43mother\u001b[49m\u001b[43m)\u001b[49m\n\u001b[1;32m     76\u001b[0m     D[np\u001b[38;5;241m.\u001b[39misnan(D)] \u001b[38;5;241m=\u001b[39m np\u001b[38;5;241m.\u001b[39minf\n\u001b[1;32m     78\u001b[0m     is_duplicate[np\u001b[38;5;241m.\u001b[39many(D \u001b[38;5;241m<\u001b[39m\u001b[38;5;241m=\u001b[39m \u001b[38;5;28mself\u001b[39m\u001b[38;5;241m.\u001b[39mepsilon, axis\u001b[38;5;241m=\u001b[39m\u001b[38;5;241m1\u001b[39m)] \u001b[38;5;241m=\u001b[39m \u001b[38;5;28;01mTrue\u001b[39;00m\n",
      "File \u001b[0;32m~/.local/lib/python3.10/site-packages/pymoo/core/duplicate.py:63\u001b[0m, in \u001b[0;36mDefaultDuplicateElimination.calc_dist\u001b[0;34m(self, pop, other)\u001b[0m\n\u001b[1;32m     62\u001b[0m \u001b[38;5;28;01mdef\u001b[39;00m \u001b[38;5;21mcalc_dist\u001b[39m(\u001b[38;5;28mself\u001b[39m, pop, other\u001b[38;5;241m=\u001b[39m\u001b[38;5;28;01mNone\u001b[39;00m):\n\u001b[0;32m---> 63\u001b[0m     X \u001b[38;5;241m=\u001b[39m \u001b[38;5;28;43mself\u001b[39;49m\u001b[38;5;241;43m.\u001b[39;49m\u001b[43mfunc\u001b[49m\u001b[43m(\u001b[49m\u001b[43mpop\u001b[49m\u001b[43m)\u001b[49m\n\u001b[1;32m     65\u001b[0m     \u001b[38;5;28;01mif\u001b[39;00m other \u001b[38;5;129;01mis\u001b[39;00m \u001b[38;5;28;01mNone\u001b[39;00m:\n\u001b[1;32m     66\u001b[0m         D \u001b[38;5;241m=\u001b[39m cdist(X, X)\n",
      "File \u001b[0;32m~/.local/lib/python3.10/site-packages/pymoo/core/duplicate.py:7\u001b[0m, in \u001b[0;36mdefault_attr\u001b[0;34m(pop)\u001b[0m\n\u001b[1;32m      6\u001b[0m \u001b[38;5;28;01mdef\u001b[39;00m \u001b[38;5;21mdefault_attr\u001b[39m(pop):\n\u001b[0;32m----> 7\u001b[0m     \u001b[38;5;28;01mreturn\u001b[39;00m \u001b[43mpop\u001b[49m\u001b[38;5;241;43m.\u001b[39;49m\u001b[43mget\u001b[49m\u001b[43m(\u001b[49m\u001b[38;5;124;43m\"\u001b[39;49m\u001b[38;5;124;43mX\u001b[39;49m\u001b[38;5;124;43m\"\u001b[39;49m\u001b[43m)\u001b[49m\n",
      "File \u001b[0;32m~/.local/lib/python3.10/site-packages/pymoo/core/population.py:64\u001b[0m, in \u001b[0;36mPopulation.get\u001b[0;34m(self, to_numpy, *args, **kwargs)\u001b[0m\n\u001b[1;32m     60\u001b[0m \u001b[38;5;66;03m# for each individual\u001b[39;00m\n\u001b[1;32m     61\u001b[0m \u001b[38;5;28;01mfor\u001b[39;00m i \u001b[38;5;129;01min\u001b[39;00m \u001b[38;5;28mrange\u001b[39m(\u001b[38;5;28mlen\u001b[39m(\u001b[38;5;28mself\u001b[39m)):\n\u001b[1;32m     62\u001b[0m \n\u001b[1;32m     63\u001b[0m     \u001b[38;5;66;03m# for each argument\u001b[39;00m\n\u001b[0;32m---> 64\u001b[0m     \u001b[38;5;28;01mfor\u001b[39;00m c \u001b[38;5;129;01min\u001b[39;00m args:\n\u001b[1;32m     65\u001b[0m         val[c]\u001b[38;5;241m.\u001b[39mappend(\u001b[38;5;28mself\u001b[39m[i]\u001b[38;5;241m.\u001b[39mget(c, \u001b[38;5;241m*\u001b[39m\u001b[38;5;241m*\u001b[39mkwargs))\n\u001b[1;32m     67\u001b[0m \u001b[38;5;66;03m# convert the results to a list\u001b[39;00m\n",
      "\u001b[0;31mKeyboardInterrupt\u001b[0m: "
     ]
    }
   ],
   "source": [
    "pf, *results = test(\"osy\", n_gen=200)\n",
    "print(len(results[0].F[results[0].F[:, -1] == 0]),\n",
    "        # len(results[1].F[results[1].F[:, -1] == 0]),\n",
    "        # len(results[2].F[results[2].F[:, -1] == 0]),\n",
    "        # len(results[3].F[results[3].F[:, -1] == 0]),\n",
    "        # len(results[4].F[results[4].F[:, -1] == 0])\n",
    "        )"
   ]
  },
  {
   "cell_type": "code",
   "execution_count": null,
   "metadata": {},
   "outputs": [],
   "source": [
    "pf, *results = test(\"osy\", n_gen=200)\n",
    "print(len(results[0].F[results[0].F[:, -1] == 0]),\n",
    "        # len(results[1].F[results[1].F[:, -1] == 0]),\n",
    "        # len(results[2].F[results[2].F[:, -1] == 0]),\n",
    "        # len(results[3].F[results[3].F[:, -1] == 0]),\n",
    "        # len(results[4].F[results[4].F[:, -1] == 0])\n",
    "        )"
   ]
  },
  {
   "cell_type": "code",
   "execution_count": null,
   "metadata": {},
   "outputs": [],
   "source": [
    "plot = Scatter()\n",
    "plot.add(pf, marker=\"*\", color=\"orange\", label=\"Pareto front\")\n",
    "plot.add(results[0].F[:, :-1], marker=\"+\",\n",
    "         color=\"yellow\", label=\"UMOP + Baseline\")\n",
    "plot.show()"
   ]
  },
  {
   "cell_type": "code",
   "execution_count": null,
   "metadata": {},
   "outputs": [],
   "source": [
    "for j in range(10, 17):\n",
    "    print(f\"\\nLevel = {j}\")\n",
    "    # for i in range(1, 500, 10):\n",
    "        # print(f\"\\n I = {i}\")\n",
    "    pf, *results = test(\"dascmop1\", 200, j)\n",
    "    print(len(results[0].F[results[0].F[:, -1] == 0]),\n",
    "        len(results[1].F[results[1].F[:, -1] == 0]),\n",
    "        len(results[2].F[results[2].F[:, -1] == 0]),\n",
    "        # len(results[3].F[results[3].F[:, -1] == 0]),\n",
    "        # len(results[4].F[results[4].F[:, -1] == 0])\n",
    "        )"
   ]
  },
  {
   "cell_type": "code",
   "execution_count": null,
   "metadata": {},
   "outputs": [],
   "source": [
    "for i in range(1, 100, 10):\n",
    "    # print(f\"\\n I = {i}\")\n",
    "    pf, *results = test(\"dascmop1\", i, 16)\n",
    "    print(len(results[0].F[results[0].F[:, -1] == 0]),\n",
    "          len(results[1].F[results[1].F[:, -1] == 0]),\n",
    "          len(results[2].F[results[2].F[:, -1] == 0]),\n",
    "          len(results[3].F[results[3].F[:, -2] == 0]),\n",
    "          len(results[4].F[results[4].F[:, -2] == 0])\n",
    "          )"
   ]
  },
  {
   "cell_type": "code",
   "execution_count": null,
   "metadata": {},
   "outputs": [],
   "source": [
    "for i in range(1, 100, 10):\n",
    "    # print(f\"\\n I = {i}\")\n",
    "    pf, *results = test(\"dascmop1\", i, 1)\n",
    "    print(len(results[0].F[results[0].F[:, -1] == 0]),\n",
    "          len(results[1].F[results[1].F[:, -1] == 0]),\n",
    "          len(results[2].F[results[2].F[:, -1] == 0]),\n",
    "          len(results[3].F[results[3].F[:, -2] == 0]),\n",
    "          len(results[4].F[results[4].F[:, -2] == 0])\n",
    "          )"
   ]
  },
  {
   "cell_type": "code",
   "execution_count": null,
   "metadata": {},
   "outputs": [],
   "source": [
    "for i in range(1, 100, 10):\n",
    "    # print(f\"\\n I = {i}\")\n",
    "    pf, *results = test(\"dascmop1\", i, 16)\n",
    "    print(len(results[0].F[results[0].F[:, -1] == 0]),\n",
    "          len(results[1].F[results[1].F[:, -1] == 0]),\n",
    "          len(results[2].F[results[2].F[:, -1] == 0]),\n",
    "          len(results[3].F[results[3].F[:, -2] == 0]),\n",
    "          len(results[4].F[results[4].F[:, -2] == 0])\n",
    "          )"
   ]
  },
  {
   "cell_type": "code",
   "execution_count": null,
   "metadata": {},
   "outputs": [],
   "source": [
    "plot = Scatter()\n",
    "plot.add(pf, marker=\"*\", color=\"orange\", label=\"Pareto front\")\n",
    "plot.add(results[0].F[results[0].F[:, -1] == 0][:, :-1], marker=\"d\",\n",
    "         color=\"yellow\", label=\"UMOP + Baseline\")\n",
    "# plot.add(results[2].F[:, :-1], marker=\"+\",\n",
    "#  color=\"green\", label=\"UMOP + Baseline + Our CDP\")\n",
    "plot.add(\n",
    "    results[1].F[results[1].F[:, -1] == 0][:, :-1], marker=\"1\", color=\"blue\", label=\"UMOP + Our generalized framework\"\n",
    ")\n",
    "plot.add(results[2].F[results[2].F[:, -1] == 0][:, :-1], marker=\"2\",\n",
    "         color=\"purple\", label=\"UMOP + Our framework + CDF\")\n",
    "plot.add(results[3].F[results[3].F[:, -1] == 0][:, :-2], marker=\"2\",\n",
    "         color=\"green\", label=\"UMOP + Our framework + CDF\")\n",
    "plot.add(results[4].F[results[4].F[:, -1] == 0][:, :-2], marker=\"2\",\n",
    "         color=\"black\", label=\"UMOP + Our framework + CDF\")\n",
    "plot.show()"
   ]
  },
  {
   "cell_type": "code",
   "execution_count": null,
   "metadata": {},
   "outputs": [],
   "source": []
  },
  {
   "cell_type": "code",
   "execution_count": null,
   "metadata": {},
   "outputs": [],
   "source": []
  },
  {
   "cell_type": "code",
   "execution_count": null,
   "metadata": {},
   "outputs": [],
   "source": []
  },
  {
   "cell_type": "code",
   "execution_count": null,
   "metadata": {},
   "outputs": [],
   "source": []
  },
  {
   "cell_type": "code",
   "execution_count": null,
   "metadata": {},
   "outputs": [],
   "source": []
  },
  {
   "cell_type": "code",
   "execution_count": null,
   "metadata": {},
   "outputs": [],
   "source": [
    "results[4].F"
   ]
  },
  {
   "cell_type": "code",
   "execution_count": null,
   "metadata": {
    "metadata": {}
   },
   "outputs": [],
   "source": [
    "pf, *results = test(\"g12\", n_gen=100)\n",
    "pf, results[0].F, results[1].F, results[2].F"
   ]
  },
  {
   "cell_type": "code",
   "execution_count": null,
   "metadata": {},
   "outputs": [],
   "source": [
    "pf, *results = test(\"g13\", n_gen=100)\n",
    "pf, results[0].F, results[1].F, results[2].F"
   ]
  },
  {
   "cell_type": "code",
   "execution_count": null,
   "metadata": {},
   "outputs": [],
   "source": [
    "pf, *results = test(\"g14\", n_gen=1000)\n",
    "pf, results[0].F, results[1].F, results[2].F"
   ]
  },
  {
   "cell_type": "code",
   "execution_count": null,
   "metadata": {},
   "outputs": [],
   "source": [
    "pf, *results = test(\"g15\", n_gen=1000)\n",
    "pf, results[0].F, results[1].F, results[2].F"
   ]
  },
  {
   "cell_type": "code",
   "execution_count": null,
   "metadata": {},
   "outputs": [],
   "source": [
    "pf, *results = test(\"g16\", n_gen=1000)\n",
    "pf, results[0].F, results[1].F, results[2].F"
   ]
  },
  {
   "cell_type": "code",
   "execution_count": null,
   "metadata": {},
   "outputs": [],
   "source": [
    "pf, *results = test(\"g17\", n_gen=1000)\n",
    "pf, results[0].F, results[1].F, results[2].F"
   ]
  },
  {
   "cell_type": "code",
   "execution_count": null,
   "metadata": {},
   "outputs": [],
   "source": [
    "pf, *results = test(\"g18\", n_gen=200)\n",
    "pf, results[0].F, results[1].F, results[2].F"
   ]
  },
  {
   "cell_type": "code",
   "execution_count": null,
   "metadata": {},
   "outputs": [],
   "source": [
    "pf, *results = test(\"g19\", n_gen=1000)\n",
    "pf, results[0].F, results[1].F, results[2].F"
   ]
  },
  {
   "cell_type": "code",
   "execution_count": null,
   "metadata": {},
   "outputs": [],
   "source": [
    "pf, *results = test(\"g20\", n_gen=2000)\n",
    "pf, results[0].F, results[1].F, results[2].F"
   ]
  },
  {
   "cell_type": "code",
   "execution_count": null,
   "metadata": {},
   "outputs": [],
   "source": [
    "pf, *results = test(\"g21\", n_gen=2000)\n",
    "pf, results[0].F, results[1].F, results[2].F"
   ]
  },
  {
   "cell_type": "code",
   "execution_count": null,
   "metadata": {},
   "outputs": [],
   "source": [
    "pf, *results = test(\"g22\", n_gen=2000)\n",
    "pf, results[0].F, results[1].F, results[2].F"
   ]
  },
  {
   "cell_type": "code",
   "execution_count": null,
   "metadata": {},
   "outputs": [],
   "source": [
    "pf, *results = test(\"g23\", n_gen=1000)\n",
    "pf, results[0].F, results[1].F, results[2].F"
   ]
  },
  {
   "cell_type": "code",
   "execution_count": null,
   "metadata": {},
   "outputs": [],
   "source": [
    "pf, *results = test(\"g24\", n_gen=200)\n",
    "pf, results[0].F, results[1].F, results[2].F"
   ]
  },
  {
   "cell_type": "code",
   "execution_count": null,
   "metadata": {},
   "outputs": [],
   "source": [
    "pf, *results = test((\"dascmop9\", 1), n_gen=200)\n",
    "pf, results[0].F, results[1].F, results[2].F"
   ]
  },
  {
   "cell_type": "code",
   "execution_count": null,
   "metadata": {
    "metadata": {}
   },
   "outputs": [],
   "source": [
    "plot = Scatter()\n",
    "plot.add(pf, marker=\"*\", color=\"orange\", label=\"Pareto front\")\n",
    "# plot.add(results[0].F, marker=\"x\", color=\"red\", label=\"Original CMOP + NSGA-II\")\n",
    "plot.add(results[0].F[:, :-1], marker=\"d\",\n",
    "         color=\"yellow\", label=\"UMOP + Baseline\")\n",
    "# plot.add(results[2].F[:, :-1], marker=\"+\",\n",
    "#  color=\"green\", label=\"UMOP + Baseline + Our CDP\")\n",
    "plot.add(\n",
    "    results[1].F[:, :-1], marker=\"1\", color=\"blue\", label=\"UMOP + Our generalized framework\"\n",
    ")\n",
    "plot.add(results[2].F[:, :-1], marker=\"2\",\n",
    "         color=\"purple\", label=\"UMOP + Our framework + CDF\")\n",
    "plot.show()"
   ]
  },
  {
   "cell_type": "markdown",
   "metadata": {},
   "source": [
    "# SRN\n"
   ]
  },
  {
   "cell_type": "code",
   "execution_count": null,
   "metadata": {},
   "outputs": [],
   "source": [
    "pf, *results = test(\"srn\", n_gen=500)"
   ]
  },
  {
   "cell_type": "code",
   "execution_count": null,
   "metadata": {},
   "outputs": [],
   "source": [
    "plot = Scatter()\n",
    "plot.add(pf, marker=\"*\", color=\"orange\", label=\"Pareto front\")\n",
    "# plot.add(results[0].F, marker=\"x\", color=\"red\", label=\"Original CMOP + NSGA-II\")\n",
    "plot.add(results[0].F[:, :-1], marker=\"d\",\n",
    "         color=\"yellow\", label=\"UMOP + Baseline\")\n",
    "# plot.add(results[2].F[:, :-1], marker=\"+\",\n",
    "#  color=\"green\", label=\"UMOP + Baseline + Our CDP\")\n",
    "plot.add(\n",
    "    results[1].F[:, :-1], marker=\"1\", color=\"blue\", label=\"UMOP + Our generalized framework\"\n",
    ")\n",
    "plot.add(results[2].F[:, :-1], marker=\"2\",\n",
    "         color=\"purple\", label=\"UMOP + Our framework + CDF\")\n",
    "plot.show()"
   ]
  },
  {
   "cell_type": "code",
   "execution_count": null,
   "metadata": {},
   "outputs": [],
   "source": [
    "plot = Scatter()\n",
    "plot.add(pf, marker=\"*\", color=\"orange\")\n",
    "plot.add(results[0].F, marker=\"x\", color=\"red\")\n",
    "plot.add(results[1].F[results[1].F[:, -1] == 0]\n",
    "         [:, :-1], marker=\"d\", color=\"yellow\")\n",
    "plot.add(results[2].F[:, :-1], marker=\"+\",\n",
    "         color=\"green\")\n",
    "plot.add(\n",
    "    results[3].F[:, :-1], marker=\"1\", color=\"blue\"\n",
    ")\n",
    "plot.add(results[4].F[:, :-1], marker=\"2\",\n",
    "         color=\"purple\")\n",
    "plot.show()"
   ]
  },
  {
   "cell_type": "markdown",
   "metadata": {},
   "source": [
    "# ZDT\n"
   ]
  },
  {
   "cell_type": "code",
   "execution_count": null,
   "metadata": {
    "metadata": {}
   },
   "outputs": [],
   "source": [
    "# problem_zdt1 = get_problem(\"zdt1\")\n",
    "# problem = problem_zdt1\n",
    "# print(\n",
    "#     f\"Problem {problem.name}: n_var={problem.n_var} n_obj={problem.n_obj} n_ieq_constr={problem.n_ieq_constr} n_eq_constr={problem.n_eq_constr}\"\n",
    "# )\n",
    "\n",
    "# res0, res1, res2, res3 = compare_on(problem)\n",
    "# print(\n",
    "#     f\"F1-F2: {sum(res1.F - res2.F)}   F2-F3{sum(res2.F - res3.F)}   F1-F3{sum(res1.F - res3.F)}\"\n",
    "# )\n",
    "\n",
    "# plot = Scatter()\n",
    "# plot.add(problem.pareto_front(), marker=\"*\", color=\"orange\", label=\"Pareto front\")\n",
    "# plot.add(res0.F, marker=\"x\", color=\"red\", label=\"Death penalty\")\n",
    "# plot.add(res1.F[:, :-1], marker=\"+\", color=\"green\", label=\"Baseline CV_as_obj\")\n",
    "# plot.add(res2.F[:, :-1], marker=\"1\", color=\"blue\", label=\"Our CV_as_obj\")\n",
    "# plot.add(res3.F[:, :-1], marker=\"1\", color=\"purple\", label=\"Our CV_as_obj\")\n",
    "# plot.show()"
   ]
  },
  {
   "cell_type": "code",
   "execution_count": null,
   "metadata": {
    "metadata": {}
   },
   "outputs": [],
   "source": [
    "# problem_zdt2 = get_problem(\"zdt2\")\n",
    "\n",
    "# res0, res1, res2, res3 = compare_on(problem_zdt2)\n",
    "\n",
    "# plot = Scatter()\n",
    "# plot.add(problem_zdt2.pareto_front(), marker=\"*\", color=\"orange\", label=\"Pareto front\")\n",
    "# plot.add(res0.F, marker=\"x\", color=\"red\", label=\"Death penalty\")\n",
    "# plot.add(res1.F[:, :-1], marker=\"+\", color=\"green\", label=\"Baseline CV_as_obj\")\n",
    "# plot.add(res2.F[:, :-1], marker=\"1\", color=\"blue\", label=\"Our CV_as_obj\")\n",
    "# plot.add(res3.F[:, :-1], marker=\"1\", color=\"purple\", label=\"Our CV_as_obj\")\n",
    "# plot.show()"
   ]
  },
  {
   "cell_type": "code",
   "execution_count": null,
   "metadata": {
    "metadata": {}
   },
   "outputs": [],
   "source": [
    "# problem_zdt3 = get_problem(\"zdt3\")\n",
    "\n",
    "# res0, res1, res2, res3 = compare_on(problem_zdt3)\n",
    "\n",
    "# plot = Scatter()\n",
    "# plot.add(problem_zdt3.pareto_front(), marker=\"*\", color=\"orange\", label=\"Pareto front\")\n",
    "# plot.add(res0.Fa, marker=\"x\", color=\"red\", label=\"Death penalty\")\n",
    "# plot.add(res1.F[:, :-1], marker=\"+\", color=\"green\", label=\"Baseline CV_as_obj\")\n",
    "# plot.add(res2.F[:, :-1], marker=\"1\", color=\"blue\", label=\"Our CV_as_obj\")\n",
    "# plot.add(res3.F[:, :-1], marker=\"1\", color=\"purple\", label=\"Our CV_as_obj\")\n",
    "# plot.show()"
   ]
  },
  {
   "cell_type": "code",
   "execution_count": null,
   "metadata": {
    "metadata": {}
   },
   "outputs": [],
   "source": [
    "# problem_zdt4 = get_problem(\"zdt4\")\n",
    "\n",
    "# res0, res1, res2, res3 = compare_on(problem_zdt4)\n",
    "# print(\n",
    "#     f\"F1-F2: {sum(res1.F - res2.F)}   F2-F3{sum(res2.F - res3.F)}   F1-F3{sum(res1.F - res3.F)}\"\n",
    "# )\n",
    "\n",
    "# plot = Scatter()\n",
    "# plot.add(problem_zdt4.pareto_front(), marker=\"*\", color=\"orange\", label=\"Pareto front\")\n",
    "# plot.add(res0.F, marker=\"x\", color=\"red\", label=\"Death penalty\")\n",
    "# plot.add(res1.F[:, :-1], marker=\"+\", color=\"green\", label=\"Baseline CV_as_obj\")\n",
    "# plot.add(res2.F[:, :-1], marker=\"1\", color=\"blue\", label=\"Our CV_as_obj\")\n",
    "# plot.add(res3.F[:, :-1], marker=\"1\", color=\"purple\", label=\"Our CV_as_obj\")\n",
    "# plot.show()"
   ]
  },
  {
   "cell_type": "code",
   "execution_count": null,
   "metadata": {
    "metadata": {}
   },
   "outputs": [],
   "source": [
    "# problem_zdt5 = get_problem(\"zdt5\", normalize=False)\n",
    "\n",
    "# res0, res1, res2, res3 = compare_on(problem_zdt5, n_gen=3000)\n",
    "# print(\n",
    "#     f\"F1-F2: {sum(res1.F - res2.F)}   F2-F3{sum(res2.F - res3.F)}   F1-F3{sum(res1.F - res3.F)}\"\n",
    "# )\n",
    "\n",
    "# plot = Scatter()\n",
    "# plot.add(problem_zdt5.pareto_front(), marker=\"*\", color=\"orange\", label=\"Pareto front\")\n",
    "# plot.add(res0.F, marker=\"x\", color=\"red\", label=\"Death penalty\")\n",
    "# plot.add(res1.F[:, :-1], marker=\"+\", color=\"green\", label=\"Baseline CV_as_obj\")\n",
    "# plot.add(res2.F[:, :-1], marker=\"1\", color=\"blue\", label=\"Our CV_as_obj\")\n",
    "# plot.add(res3.F[:, :-1], marker=\"1\", color=\"purple\", label=\"Our CV_as_obj\")\n",
    "# plot.show()"
   ]
  },
  {
   "cell_type": "code",
   "execution_count": null,
   "metadata": {
    "metadata": {}
   },
   "outputs": [],
   "source": [
    "# problem_zdt6 = get_problem(\"zdt6\")\n",
    "\n",
    "# res0, res1, res2, res3 = compare_on(problem_zdt6)\n",
    "# print(\n",
    "#     f\"F1-F2: {sum(res1.F - res2.F)}   F2-F3{sum(res2.F - res3.F)}   F1-F3{sum(res1.F - res3.F)}\"\n",
    "# )\n",
    "\n",
    "# plot = Scatter()\n",
    "# plot.add(problem_zdt6.pareto_front(), marker=\"*\", color=\"orange\", label=\"Pareto front\")\n",
    "# plot.add(res0.F, marker=\"x\", color=\"red\", label=\"Death penalty\")\n",
    "# plot.add(res1.F[:, :-1], marker=\"+\", color=\"green\", label=\"Baseline CV_as_obj\")\n",
    "# plot.add(res2.F[:, :-1], marker=\"1\", color=\"blue\", label=\"Our CV_as_obj\")\n",
    "# plot.add(res3.F[:, :-1], marker=\"1\", color=\"purple\", label=\"Our CV_as_obj\")\n",
    "# plot.show()"
   ]
  },
  {
   "cell_type": "code",
   "execution_count": null,
   "metadata": {
    "metadata": {}
   },
   "outputs": [],
   "source": [
    "# cv = res3.F[:, 0]\n",
    "# least_infeas = cv.argmin()\n",
    "# x = res3.X[least_infeas]\n",
    "\n",
    "# sol = Individual(X=x)\n",
    "# Evaluator().eval(problem2, sol)\n",
    "\n",
    "# print(\"Best solution found: \\nX = %s\\nF = %s\\nCV = %s\" % (sol.X, sol.F, sol.CV))"
   ]
  },
  {
   "cell_type": "code",
   "execution_count": null,
   "metadata": {
    "metadata": {}
   },
   "outputs": [],
   "source": [
    "# plot = Scatter()\n",
    "# plot.add(problem2.pareto_front(), marker=\"*\", color=\"black\", alpha=0.7, s=100)\n",
    "# plot.add(res3.F[:,1:], facecolor=\"none\", edgecolor=\"red\")\n",
    "# plot.show()"
   ]
  },
  {
   "cell_type": "code",
   "execution_count": null,
   "metadata": {
    "metadata": {}
   },
   "outputs": [],
   "source": [
    "# X, F = res3.opt.get(\"X\", \"F\")\n",
    "# hist = res3.history\n",
    "# print(len(hist))"
   ]
  },
  {
   "cell_type": "code",
   "execution_count": null,
   "metadata": {
    "metadata": {}
   },
   "outputs": [],
   "source": [
    "# n_evals = []             # corresponding number of function evaluations\\\n",
    "# hist_F = []              # the objective space values in each generation\n",
    "# hist_cv = []             # constraint violation in each generation\n",
    "# hist_cv_avg = []         # average constraint violation in the whole population\n",
    "\n",
    "# for algo in hist:\n",
    "\n",
    "#     # store the number of function evaluations\n",
    "#     n_evals.append(algo.evaluator.n_eval)\n",
    "\n",
    "#     # retrieve the optimum from the algorithm\n",
    "#     opt = algo.opt\n",
    "\n",
    "#     # store the least contraint violation and the average in each population\n",
    "#     hist_cv.append(opt.get(\"CV\").min())\n",
    "#     hist_cv_avg.append(algo.pop.get(\"CV\").mean())\n",
    "\n",
    "#     # filter out only the feasible and append and objective space values\n",
    "#     feas = np.where(opt.get(\"feasible\"))[0]\n",
    "#     hist_F.append(opt.get(\"F\")[feas])"
   ]
  },
  {
   "cell_type": "code",
   "execution_count": null,
   "metadata": {
    "metadata": {}
   },
   "outputs": [],
   "source": [
    "# k = np.where(np.array(hist_cv) <= 0.0)[0].min()\n",
    "# print(f\"At least one feasible solution in Generation {k} after {n_evals[k]} evaluations.\")"
   ]
  },
  {
   "cell_type": "code",
   "execution_count": null,
   "metadata": {
    "metadata": {}
   },
   "outputs": [],
   "source": [
    "# # replace this line by `hist_cv` if you like to analyze the least feasible optimal solution and not the population\n",
    "# vals = hist_cv_avg\n",
    "\n",
    "# k = np.where(np.array(vals) <= 0.0)[0].min()\n",
    "# print(f\"Whole population feasible in Generation {k} after {n_evals[k]} evaluations.\")\n",
    "\n",
    "# plt.figure(figsize=(7, 5))\n",
    "# plt.plot(n_evals, vals,  color='black', lw=0.7, label=\"Avg. CV of Pop\")\n",
    "# plt.scatter(n_evals, vals,  facecolor=\"none\", edgecolor='black', marker=\"p\")\n",
    "# plt.axvline(n_evals[k], color=\"red\", label=\"All Feasible\", linestyle=\"--\")\n",
    "# plt.title(\"Convergence\")\n",
    "# plt.xlabel(\"Function Evaluations\")\n",
    "# plt.ylabel(\"Hypervolume\")\n",
    "# plt.legend()\n",
    "# plt.show()"
   ]
  },
  {
   "cell_type": "code",
   "execution_count": null,
   "metadata": {
    "metadata": {}
   },
   "outputs": [],
   "source": [
    "# approx_ideal = F[:,-2:].min(axis=0)\n",
    "# approx_nadir = F[:,-2:].max(axis=0)\n",
    "# approx_ideal, approx_nadir"
   ]
  },
  {
   "cell_type": "code",
   "execution_count": null,
   "metadata": {
    "metadata": {}
   },
   "outputs": [],
   "source": [
    "# from pymoo.indicators.hv import Hypervolume\n",
    "\n",
    "# metric = Hypervolume(ref_point=np.array([0.1, 0.1]),\n",
    "#                      norm_ref_point=False,\n",
    "#                      zero_to_one=True,\n",
    "#                      ideal=approx_ideal,\n",
    "#                      nadir=approx_nadir)\n",
    "\n",
    "# hv = [metric.do(_F[:, -2:]) for _F in hist_F]\n",
    "\n",
    "# plt.figure(figsize=(7, 5))\n",
    "# plt.plot(n_evals, hv, color='black', lw=0.7, label=\"Avg. CV of Pop\")\n",
    "# plt.scatter(n_evals, hv, facecolor=\"none\", edgecolor='black', marker=\"p\")\n",
    "# plt.title(\"Convergence\")\n",
    "# plt.xlabel(\"Function Evaluations\")\n",
    "# plt.ylabel(\"Hypervolume\")\n",
    "# plt.show()"
   ]
  },
  {
   "cell_type": "code",
   "execution_count": null,
   "metadata": {
    "metadata": {}
   },
   "outputs": [],
   "source": [
    "# from pymoo.util.running_metric import RunningMetricAnimation\n",
    "\n",
    "# running = RunningMetricAnimation(delta_gen=5,\n",
    "#                         n_plots=3,\n",
    "#                         key_press=False,\n",
    "#                         do_show=True)\n",
    "\n",
    "# for algorithm in res3.history[:50]:\n",
    "#     running.update(algorithm)"
   ]
  },
  {
   "cell_type": "code",
   "execution_count": null,
   "metadata": {
    "metadata": {}
   },
   "outputs": [],
   "source": [
    "# from pymoo.indicators.igd import IGD\n",
    "\n",
    "# metric = IGD(pf, zero_to_one=True)\n",
    "\n",
    "# igd = [metric.do(_F) for _F in hist_F]\n",
    "\n",
    "# plt.plot(n_evals, igd,  color='black', lw=0.7, label=\"Avg. CV of Pop\")\n",
    "# plt.scatter(n_evals, igd,  facecolor=\"none\", edgecolor='black', marker=\"p\")\n",
    "# plt.axhline(10**-2, color=\"red\", label=\"10^-2\", linestyle=\"--\")\n",
    "# plt.title(\"Convergence\")\n",
    "# plt.xlabel(\"Function Evaluations\")\n",
    "# plt.ylabel(\"IGD\")\n",
    "# plt.yscale(\"log\")\n",
    "# plt.legend()\n",
    "# plt.show()"
   ]
  },
  {
   "cell_type": "markdown",
   "metadata": {},
   "source": [
    "# OSY\n"
   ]
  },
  {
   "cell_type": "code",
   "execution_count": null,
   "metadata": {
    "metadata": {}
   },
   "outputs": [],
   "source": [
    "pf, *results = test(\"osy\", n_gen=500)"
   ]
  },
  {
   "cell_type": "code",
   "execution_count": null,
   "metadata": {
    "metadata": {}
   },
   "outputs": [],
   "source": [
    "plot = Scatter()\n",
    "plot.add(pf, marker=\"*\", color=\"orange\")\n",
    "plot.add(results[0].F, marker=\"x\", color=\"red\")\n",
    "plot.add(results[1].F[results[1].F[:, -1] == 0]\n",
    "         [:, :-1], marker=\"d\", color=\"yellow\")\n",
    "plot.add(results[2].F[:, :-1], marker=\"+\",\n",
    "         color=\"green\")\n",
    "plot.add(\n",
    "    results[3].F[:, :-1], marker=\"1\", color=\"blue\"\n",
    ")\n",
    "plot.add(results[4].F[:, :-1], marker=\"2\",\n",
    "         color=\"purple\")\n",
    "plot.show()"
   ]
  },
  {
   "cell_type": "markdown",
   "metadata": {},
   "source": [
    "# TNK\n"
   ]
  },
  {
   "cell_type": "code",
   "execution_count": null,
   "metadata": {
    "metadata": {}
   },
   "outputs": [],
   "source": [
    "pf, *results = test(\"tnk\", n_gen=500)"
   ]
  },
  {
   "cell_type": "code",
   "execution_count": null,
   "metadata": {},
   "outputs": [],
   "source": [
    "plot = Scatter()\n",
    "plot.add(pf, marker=\"*\", color=\"orange\", label=\"Pareto front\")\n",
    "# plot.add(results[0].F, marker=\"x\", color=\"red\", label=\"Original CMOP + NSGA-II\")\n",
    "plot.add(results[0].F[:, :-1], marker=\"d\",\n",
    "         color=\"yellow\", label=\"UMOP + Baseline\")\n",
    "# plot.add(results[2].F[:, :-1], marker=\"+\",\n",
    "#  color=\"green\", label=\"UMOP + Baseline + Our CDP\")\n",
    "plot.add(\n",
    "    results[1].F[:, :-1], marker=\"1\", color=\"blue\", label=\"UMOP + Our generalized framework\"\n",
    ")\n",
    "plot.add(results[2].F[:, :-1], marker=\"2\",\n",
    "         color=\"purple\", label=\"UMOP + Our framework + CDF\")\n",
    "plot.show()"
   ]
  },
  {
   "cell_type": "code",
   "execution_count": null,
   "metadata": {
    "metadata": {}
   },
   "outputs": [],
   "source": [
    "plot = Scatter()\n",
    "plot.add(pf, marker=\"*\", color=\"orange\")\n",
    "plot.add(results[0].F, marker=\"x\", color=\"red\")\n",
    "plot.add(results[1].F[results[1].F[:, -1] == 0]\n",
    "         [:, :-1], marker=\"d\", color=\"yellow\")\n",
    "plot.add(results[2].F[:, :-1], marker=\"+\",\n",
    "         color=\"green\")\n",
    "plot.add(\n",
    "    results[3].F[:, :-1], marker=\"1\", color=\"blue\"\n",
    ")\n",
    "plot.add(results[4].F[:, :-1], marker=\"2\",\n",
    "         color=\"purple\")\n",
    "plot.show()"
   ]
  },
  {
   "cell_type": "code",
   "execution_count": null,
   "metadata": {
    "metadata": {}
   },
   "outputs": [],
   "source": [
    "# plt.hist(res1.F[:, -1:], bins=30, color=\"green\", alpha=0.7, label=\"Sum CV_as_obj\")\n",
    "# plt.hist(res2.F[:, -1:], bins=30, color=\"blue\", alpha=0.7, label=\"Max CV_as_obj\")\n",
    "# plt.hist(res3.F[:, -1:], bins=30, color=\"purple\", alpha=0.7, label=\"Median CV_as_obj\")\n",
    "\n",
    "# Add labels and title\n",
    "# plt.xlabel(\"Values\")\n",
    "# plt.ylabel(\"Frequency\")\n",
    "# plt.title(\"Histogram of CV\")\n",
    "\n",
    "# Add a legend\n",
    "# plt.legend()\n",
    "\n",
    "# Show the plot\n",
    "# plt.show()"
   ]
  },
  {
   "cell_type": "markdown",
   "metadata": {},
   "source": [
    "# Carside\n"
   ]
  },
  {
   "cell_type": "code",
   "execution_count": null,
   "metadata": {
    "metadata": {}
   },
   "outputs": [],
   "source": [
    "pf, *results = test(\"Carside\", n_gen=500)"
   ]
  },
  {
   "cell_type": "code",
   "execution_count": null,
   "metadata": {},
   "outputs": [],
   "source": [
    "plot = Scatter()\n",
    "plot.add(pf, marker=\"*\", color=\"orange\", label=\"Pareto front\")\n",
    "# plot.add(results[0].F, marker=\"x\", color=\"red\", label=\"Original CMOP + NSGA-II\")\n",
    "plot.add(results[0].F[results[0].F[:, -1] == 0][:, :-1],\n",
    "         marker=\"d\", color=\"yellow\", label=\"UMOP + Baseline\")\n",
    "# plot.add(results[2].F[:, :-1], marker=\"+\",\n",
    "#  color=\"green\", label=\"UMOP + Baseline + Our CDP\")\n",
    "plot.add(\n",
    "    results[1].F[results[1].F[:, -1] == 0][:, :-1], marker=\"1\", color=\"blue\", label=\"UMOP + Our generalized framework\"\n",
    ")\n",
    "plot.add(results[2].F[results[2].F[:, -1] == 0][:, :-1], marker=\"2\",\n",
    "         color=\"purple\", label=\"UMOP + Our framework + CDF\")\n",
    "plot.show()"
   ]
  },
  {
   "cell_type": "code",
   "execution_count": null,
   "metadata": {
    "metadata": {}
   },
   "outputs": [],
   "source": [
    "plot = Scatter()\n",
    "plot.add(pf, marker=\"*\", color=\"orange\", label=\"Pareto front\")\n",
    "plot.add(results[0].F, marker=\"x\", color=\"red\",\n",
    "         label=\"Original CMOP + NSGA-II\")\n",
    "plot.add(results[1].F[results[1].F[:, -1] == 0][:, :-1],\n",
    "         marker=\"d\", color=\"yellow\", label=\"UMOP + Baseline\")\n",
    "plot.add(results[2].F[:, :-1], marker=\"+\",\n",
    "         color=\"green\", label=\"UMOP + Baseline + Our CDP\")\n",
    "plot.add(\n",
    "    results[3].F[:, :-1], marker=\"1\", color=\"blue\", label=\"UMOP + Our generalized framework\"\n",
    ")\n",
    "plot.add(results[4].F[:, :-1], marker=\"2\",\n",
    "         color=\"purple\", label=\"UMOP + Our framework + CDF\")\n",
    "plot.show()"
   ]
  },
  {
   "cell_type": "code",
   "execution_count": null,
   "metadata": {},
   "outputs": [],
   "source": [
    "plot = Scatter(tight_layout=True)\n",
    "# plot.add(results[1].F, marker=\"+\", color=\"green\", label=\"Baseline\")\n",
    "plot.add(results[2].F, marker=\".\", color=\"green\", label=\"Baseline + Our CDP\")\n",
    "plot.add(results[3].F, marker=\"1\", color=\"blue\", label=\"Our generalized framework\")\n",
    "plot.add(results[4].F, marker=\"1\", color=\"purple\", label=\"Our framework + CDF\")\n",
    "plot.show()"
   ]
  },
  {
   "cell_type": "markdown",
   "metadata": {},
   "source": [
    "# Pressure Vessel\n"
   ]
  },
  {
   "cell_type": "code",
   "execution_count": null,
   "metadata": {
    "metadata": {}
   },
   "outputs": [],
   "source": [
    "pf, *results = test(\"pressure_vessel\", n_gen=300)"
   ]
  },
  {
   "cell_type": "code",
   "execution_count": null,
   "metadata": {
    "metadata": {}
   },
   "outputs": [],
   "source": [
    "plot = Scatter()\n",
    "plot.add(pf, marker=\"*\", color=\"orange\", label=\"Pareto front\")\n",
    "plot.add(results[0].F, marker=\"x\", color=\"red\", label=\"Death penalty\")\n",
    "# plot.add(results[1].F[:, :-1], marker=\"+\", color=\"green\", label=\"Baseline\")\n",
    "plot.add(results[2].F[:, :-1], marker=\"+\", color=\"green\", label=\"Baseline + Our CDP\")\n",
    "plot.add(\n",
    "    results[3].F[:, :-1], marker=\"1\", color=\"blue\", label=\"Our generalized framework\"\n",
    ")\n",
    "plot.add(results[4].F[:, :-1], marker=\"1\", color=\"purple\", label=\"Our framework + CDF\")\n",
    "plot.show()"
   ]
  },
  {
   "cell_type": "markdown",
   "metadata": {},
   "source": [
    "# G\n"
   ]
  },
  {
   "cell_type": "markdown",
   "metadata": {},
   "source": [
    "## G1\n"
   ]
  },
  {
   "cell_type": "code",
   "execution_count": null,
   "metadata": {
    "metadata": {}
   },
   "outputs": [],
   "source": [
    "pf, *results = test(\"g1\", n_gen=500)"
   ]
  },
  {
   "cell_type": "code",
   "execution_count": null,
   "metadata": {
    "metadata": {}
   },
   "outputs": [],
   "source": [
    "plot = Scatter()\n",
    "plot.add(pf, marker=\"*\", color=\"orange\", label=\"Pareto front\")\n",
    "plot.add(results[0].F, marker=\"x\", color=\"red\", label=\"Death penalty\")\n",
    "plot.add(results[1].F[results[1].F[:, -1] == 0][:, :-1],\n",
    "         marker=\"D\", color=\"Yellow\", label=\"Baseline\")\n",
    "plot.add(results[2].F[:, :-1], marker=\"+\",\n",
    "         color=\"green\", label=\"Baseline + Our CDP\")\n",
    "plot.add(\n",
    "    results[3].F[:, :-1], marker=\"1\", color=\"blue\", label=\"Our generalized framework\"\n",
    ")\n",
    "plot.add(results[4].F[:, :-1], marker=\"1\",\n",
    "         color=\"purple\", label=\"Our framework + CDF\")\n",
    "plot.show()"
   ]
  },
  {
   "cell_type": "markdown",
   "metadata": {},
   "source": [
    "## G2\n"
   ]
  },
  {
   "cell_type": "code",
   "execution_count": null,
   "metadata": {
    "metadata": {}
   },
   "outputs": [],
   "source": [
    "pf, *results = test(\"g1\", n_gen=500)"
   ]
  },
  {
   "cell_type": "code",
   "execution_count": null,
   "metadata": {
    "metadata": {}
   },
   "outputs": [],
   "source": [
    "plot = Scatter()\n",
    "plot.add(pf, marker=\"*\", color=\"orange\")\n",
    "plot.add(results[0].F, marker=\"x\", color=\"red\")\n",
    "plot.add(results[1].F[results[1].F[:, -1] == 0]\n",
    "         [:, :-1], marker=\"D\", color=\"yellow\")\n",
    "plot.add(results[2].F[:, :-1], marker=\"+\",\n",
    "         color=\"green\")\n",
    "plot.add(\n",
    "    results[3].F[:, :-1], marker=\"1\", color=\"blue\"\n",
    ")\n",
    "plot.add(results[4].F[:, :-1], marker=\"1\",\n",
    "         color=\"purple\")\n",
    "plot.show()"
   ]
  },
  {
   "cell_type": "markdown",
   "metadata": {},
   "source": [
    "## G3 (1 Constraint)\n"
   ]
  },
  {
   "cell_type": "code",
   "execution_count": null,
   "metadata": {
    "metadata": {}
   },
   "outputs": [],
   "source": [
    "# pf, res0, res1, res2, res3 = test(\"g3\", n_gen=300)"
   ]
  },
  {
   "cell_type": "code",
   "execution_count": null,
   "metadata": {
    "metadata": {}
   },
   "outputs": [],
   "source": [
    "plot = Scatter()\n",
    "plot.add(pf, marker=\"*\", color=\"orange\", label=\"Pareto front\")\n",
    "plot.add(res0.F, marker=\"x\", color=\"red\", label=\"Death penalty\")\n",
    "# plot.add(res1.F[:, :-1], marker=\"+\", color=\"green\", label=\"Baseline\")\n",
    "plot.add(res2.F[:, :-1], marker=\"1\", color=\"blue\",\n",
    "         label=\"Our generalized framework\")\n",
    "plot.add(res3.F[:, :-1], marker=\"1\", color=\"purple\",\n",
    "         label=\"Our framework + CDF\")\n",
    "plot.show()"
   ]
  },
  {
   "cell_type": "markdown",
   "metadata": {},
   "source": [
    "## G4\n"
   ]
  },
  {
   "cell_type": "code",
   "execution_count": null,
   "metadata": {
    "metadata": {}
   },
   "outputs": [],
   "source": [
    "pf, res0, res1, res2, res3 = test(\"g4\", n_gen=300)"
   ]
  },
  {
   "cell_type": "code",
   "execution_count": null,
   "metadata": {
    "metadata": {}
   },
   "outputs": [],
   "source": [
    "plot = Scatter()\n",
    "plot.add(pf, marker=\"*\", color=\"orange\", label=\"Pareto front\")\n",
    "plot.add(res0.F, marker=\"x\", color=\"red\", label=\"Death penalty\")\n",
    "plot.add(res1.F[:, :-1], marker=\"+\", color=\"green\", label=\"Baseline\")\n",
    "plot.add(res2.F[:, :-1], marker=\"1\", color=\"blue\",\n",
    "         label=\"Our generalized framework\")\n",
    "plot.add(res3.F[:, :-1], marker=\"1\", color=\"purple\",\n",
    "         label=\"Our framework + CDF\")\n",
    "plot.show()"
   ]
  },
  {
   "cell_type": "markdown",
   "metadata": {},
   "source": [
    "## G5\n"
   ]
  },
  {
   "cell_type": "code",
   "execution_count": null,
   "metadata": {
    "metadata": {}
   },
   "outputs": [],
   "source": [
    "pf, res0, res1, res2, res3 = test(\"g5\", n_gen=300)"
   ]
  },
  {
   "cell_type": "code",
   "execution_count": null,
   "metadata": {
    "metadata": {}
   },
   "outputs": [],
   "source": [
    "pf"
   ]
  },
  {
   "cell_type": "code",
   "execution_count": null,
   "metadata": {
    "metadata": {}
   },
   "outputs": [],
   "source": [
    "res0.F"
   ]
  },
  {
   "cell_type": "code",
   "execution_count": null,
   "metadata": {
    "metadata": {}
   },
   "outputs": [],
   "source": [
    "res2.F"
   ]
  },
  {
   "cell_type": "code",
   "execution_count": null,
   "metadata": {
    "metadata": {}
   },
   "outputs": [],
   "source": [
    "res3.F"
   ]
  },
  {
   "cell_type": "code",
   "execution_count": null,
   "metadata": {
    "metadata": {}
   },
   "outputs": [],
   "source": [
    "plot = Scatter()\n",
    "plot.add(pf, marker=\"*\", color=\"orange\", label=\"Pareto front\")\n",
    "plot.add(res0.F, marker=\"x\", color=\"red\", label=\"Death penalty\")\n",
    "# plot.add(res1.F[:, :-1], marker=\"+\", color=\"green\", label=\"Baseline\")\n",
    "plot.add(res2.F[:, :-1], marker=\"1\", color=\"blue\",\n",
    "         label=\"Our generalized framework\")\n",
    "plot.add(res3.F[:, :-1], marker=\"1\", color=\"purple\",\n",
    "         label=\"Our framework + CDF\")\n",
    "plot.show()"
   ]
  },
  {
   "cell_type": "markdown",
   "metadata": {},
   "source": [
    "## G6\n"
   ]
  },
  {
   "cell_type": "code",
   "execution_count": null,
   "metadata": {
    "metadata": {}
   },
   "outputs": [],
   "source": [
    "pf, res0, res1, res2, res3 = test(\"g6\", n_gen=300)"
   ]
  },
  {
   "cell_type": "code",
   "execution_count": null,
   "metadata": {
    "metadata": {}
   },
   "outputs": [],
   "source": [
    "plot = Scatter()\n",
    "plot.add(pf, marker=\"*\", color=\"orange\", label=\"Pareto front\")\n",
    "plot.add(res0.F, marker=\"x\", color=\"red\", label=\"Death penalty\")\n",
    "# plot.add(res1.F[:, :-1], marker=\"+\", color=\"green\", label=\"Baseline\")\n",
    "plot.add(res2.F[:, :-1], marker=\"1\", color=\"blue\",\n",
    "         label=\"Our generalized framework\")\n",
    "plot.add(res3.F[:, :-1], marker=\"1\", color=\"purple\",\n",
    "         label=\"Our framework + CDF\")\n",
    "plot.show()"
   ]
  },
  {
   "cell_type": "markdown",
   "metadata": {},
   "source": [
    "## G7\n"
   ]
  },
  {
   "cell_type": "code",
   "execution_count": null,
   "metadata": {
    "metadata": {}
   },
   "outputs": [],
   "source": [
    "pf, res0, res1, res2, res3 = test(\"g7\", n_gen=300)"
   ]
  },
  {
   "cell_type": "code",
   "execution_count": null,
   "metadata": {
    "metadata": {}
   },
   "outputs": [],
   "source": [
    "plot = Scatter()\n",
    "plot.add(pf, marker=\"*\", color=\"orange\", label=\"Pareto front\")\n",
    "plot.add(res0.F, marker=\"x\", color=\"red\", label=\"Death penalty\")\n",
    "# plot.add(res1.F[:, :-1], marker=\"+\", color=\"green\", label=\"Baseline\")\n",
    "plot.add(res2.F[:, :-1], marker=\"1\", color=\"blue\",\n",
    "         label=\"Our generalized framework\")\n",
    "plot.add(res3.F[:, :-1], marker=\"1\", color=\"purple\",\n",
    "         label=\"Our framework + CDF\")\n",
    "plot.show()"
   ]
  },
  {
   "cell_type": "markdown",
   "metadata": {},
   "source": [
    "## G8\n"
   ]
  },
  {
   "cell_type": "code",
   "execution_count": null,
   "metadata": {
    "metadata": {}
   },
   "outputs": [],
   "source": [
    "pf, res0, res1, res2, res3 = test(\"g8\", n_gen=300)"
   ]
  },
  {
   "cell_type": "code",
   "execution_count": null,
   "metadata": {
    "metadata": {}
   },
   "outputs": [],
   "source": [
    "plot = Scatter()\n",
    "plot.add(pf, marker=\"*\", color=\"orange\", label=\"Pareto front\")\n",
    "plot.add(res0.F, marker=\"x\", color=\"red\", label=\"Death penalty\")\n",
    "# plot.add(res1.F[:, :-1], marker=\"+\", color=\"green\", label=\"Baseline\")\n",
    "plot.add(res2.F[:, :-1], marker=\"1\", color=\"blue\",\n",
    "         label=\"Our generalized framework\")\n",
    "plot.add(res3.F[:, :-1], marker=\"1\", color=\"purple\",\n",
    "         label=\"Our framework + CDF\")\n",
    "plot.show()"
   ]
  },
  {
   "cell_type": "markdown",
   "metadata": {},
   "source": [
    "## G9\n"
   ]
  },
  {
   "cell_type": "code",
   "execution_count": null,
   "metadata": {
    "metadata": {}
   },
   "outputs": [],
   "source": [
    "pf, res0, res1, res2, res3 = test(\"g9\", n_gen=300)"
   ]
  },
  {
   "cell_type": "code",
   "execution_count": null,
   "metadata": {
    "metadata": {}
   },
   "outputs": [],
   "source": [
    "plot = Scatter()\n",
    "plot.add(pf, marker=\"*\", color=\"orange\", label=\"Pareto front\")\n",
    "plot.add(res0.F, marker=\"x\", color=\"red\", label=\"Death penalty\")\n",
    "# plot.add(res1.F[:, :-1], marker=\"+\", color=\"green\", label=\"Baseline\")\n",
    "plot.add(res2.F[:, :-1], marker=\"1\", color=\"blue\",\n",
    "         label=\"Our generalized framework\")\n",
    "plot.add(res3.F[:, :-1], marker=\"1\", color=\"purple\",\n",
    "         label=\"Our framework + CDF\")\n",
    "plot.show()"
   ]
  },
  {
   "cell_type": "markdown",
   "metadata": {},
   "source": [
    "## G10\n"
   ]
  },
  {
   "cell_type": "code",
   "execution_count": null,
   "metadata": {
    "metadata": {}
   },
   "outputs": [],
   "source": [
    "pf, res0, res1, res2, res3 = test(\"g10\", n_gen=300)"
   ]
  },
  {
   "cell_type": "code",
   "execution_count": null,
   "metadata": {
    "metadata": {}
   },
   "outputs": [],
   "source": [
    "plot = Scatter()\n",
    "plot.add(pf, marker=\"*\", color=\"orange\", label=\"Pareto front\")\n",
    "plot.add(res0.F, marker=\"x\", color=\"red\", label=\"Death penalty\")\n",
    "# plot.add(res1.F[:, :-1], marker=\"+\", color=\"green\", label=\"Baseline\")\n",
    "plot.add(res2.F[:, :-1], marker=\"1\", color=\"blue\",\n",
    "         label=\"Our generalized framework\")\n",
    "plot.add(res3.F[:, :-1], marker=\"1\", color=\"purple\",\n",
    "         label=\"Our framework + CDF\")\n",
    "plot.show()"
   ]
  },
  {
   "cell_type": "markdown",
   "metadata": {},
   "source": [
    "## G11\n"
   ]
  },
  {
   "cell_type": "code",
   "execution_count": null,
   "metadata": {},
   "outputs": [],
   "source": [
    "pf, res0, res1, res2, res3 = test(\"g11\", n_gen=300)"
   ]
  },
  {
   "cell_type": "code",
   "execution_count": null,
   "metadata": {},
   "outputs": [],
   "source": [
    "plot = Scatter()\n",
    "plot.add(pf, marker=\"*\", color=\"orange\", label=\"Pareto front\")\n",
    "plot.add(res0.F, marker=\"x\", color=\"red\", label=\"Death penalty\")\n",
    "# plot.add(res1.F[:, :-1], marker=\"+\", color=\"green\", label=\"Baseline\")\n",
    "plot.add(res2.F[:, :-1], marker=\"1\", color=\"blue\",\n",
    "         label=\"Our generalized framework\")\n",
    "plot.add(res3.F[:, :-1], marker=\"1\", color=\"purple\",\n",
    "         label=\"Our framework + CDF\")\n",
    "plot.show()"
   ]
  },
  {
   "cell_type": "markdown",
   "metadata": {},
   "source": [
    "## G12\n"
   ]
  },
  {
   "cell_type": "code",
   "execution_count": null,
   "metadata": {},
   "outputs": [],
   "source": [
    "pf, res0, res1, res2, res3 = test(\"g12\", n_gen=300)"
   ]
  },
  {
   "cell_type": "code",
   "execution_count": null,
   "metadata": {},
   "outputs": [],
   "source": [
    "plot = Scatter()\n",
    "plot.add(pf, marker=\"*\", color=\"orange\", label=\"Pareto front\")\n",
    "plot.add(res0.F, marker=\"x\", color=\"red\", label=\"Death penalty\")\n",
    "# plot.add(res1.F[:, :-1], marker=\"+\", color=\"green\", label=\"Baseline\")\n",
    "plot.add(res2.F[:, :-1], marker=\"1\", color=\"blue\",\n",
    "         label=\"Our generalized framework\")\n",
    "plot.add(res3.F[:, :-1], marker=\"1\", color=\"purple\",\n",
    "         label=\"Our framework + CDF\")\n",
    "plot.show()"
   ]
  },
  {
   "cell_type": "markdown",
   "metadata": {},
   "source": [
    "## G13\n"
   ]
  },
  {
   "cell_type": "code",
   "execution_count": null,
   "metadata": {},
   "outputs": [],
   "source": [
    "pf, res0, res1, res2, res3 = test(\"g13\", n_gen=300)"
   ]
  },
  {
   "cell_type": "code",
   "execution_count": null,
   "metadata": {},
   "outputs": [],
   "source": [
    "plot = Scatter()\n",
    "plot.add(pf, marker=\"*\", color=\"orange\", label=\"Pareto front\")\n",
    "plot.add(res0.F, marker=\"x\", color=\"red\", label=\"Death penalty\")\n",
    "# plot.add(res1.F[:, :-1], marker=\"+\", color=\"green\", label=\"Baseline\")\n",
    "plot.add(res2.F[:, :-1], marker=\"1\", color=\"blue\",\n",
    "         label=\"Our generalized framework\")\n",
    "plot.add(res3.F[:, :-1], marker=\"1\", color=\"purple\",\n",
    "         label=\"Our framework + CDF\")\n",
    "plot.show()"
   ]
  },
  {
   "cell_type": "markdown",
   "metadata": {},
   "source": [
    "## G14\n"
   ]
  },
  {
   "cell_type": "code",
   "execution_count": null,
   "metadata": {},
   "outputs": [],
   "source": [
    "pf, res0, res1, res2, res3 = test(\"g14\", n_gen=300)"
   ]
  },
  {
   "cell_type": "code",
   "execution_count": null,
   "metadata": {},
   "outputs": [],
   "source": [
    "plot = Scatter()\n",
    "plot.add(pf, marker=\"*\", color=\"orange\", label=\"Pareto front\")\n",
    "plot.add(res0.F, marker=\"x\", color=\"red\", label=\"Death penalty\")\n",
    "# plot.add(res1.F[:, :-1], marker=\"+\", color=\"green\", label=\"Baseline\")\n",
    "plot.add(res2.F[:, :-1], marker=\"1\", color=\"blue\",\n",
    "         label=\"Our generalized framework\")\n",
    "plot.add(res3.F[:, :-1], marker=\"1\", color=\"purple\",\n",
    "         label=\"Our framework + CDF\")\n",
    "plot.show()"
   ]
  },
  {
   "cell_type": "markdown",
   "metadata": {},
   "source": [
    "# MW\n"
   ]
  },
  {
   "cell_type": "markdown",
   "metadata": {},
   "source": [
    "## MW1 (1 constraint)\n"
   ]
  },
  {
   "cell_type": "code",
   "execution_count": null,
   "metadata": {
    "metadata": {}
   },
   "outputs": [],
   "source": [
    "pf, *results = test(\"mw\", n_gen=300)"
   ]
  },
  {
   "cell_type": "code",
   "execution_count": null,
   "metadata": {
    "metadata": {}
   },
   "outputs": [],
   "source": [
    "plot = Scatter()\n",
    "plot.add(pf, marker=\"*\", color=\"orange\", label=\"Pareto front\")\n",
    "plot.add(results[0].F, marker=\"x\", color=\"red\", label=\"Death penalty\")\n",
    "# plot.add(results[1].F[:, :-1], marker=\"+\", color=\"green\", label=\"Baseline\")\n",
    "plot.add(results[2].F[:, :-1], marker=\"+\", color=\"green\", label=\"Baseline + Our CDP\")\n",
    "plot.add(\n",
    "    results[3].F[:, :-1], marker=\"1\", color=\"blue\", label=\"Our generalized framework\"\n",
    ")\n",
    "plot.add(results[4].F[:, :-1], marker=\"1\", color=\"purple\", label=\"Our framework + CDF\")\n",
    "plot.show()"
   ]
  },
  {
   "cell_type": "markdown",
   "metadata": {},
   "source": [
    "## MW2\n"
   ]
  },
  {
   "cell_type": "code",
   "execution_count": null,
   "metadata": {
    "metadata": {}
   },
   "outputs": [],
   "source": [
    "pf, *results = test(\"mw2\", n_gen=100)"
   ]
  },
  {
   "cell_type": "code",
   "execution_count": null,
   "metadata": {
    "metadata": {}
   },
   "outputs": [],
   "source": [
    "plot = Scatter()\n",
    "plot.add(pf, marker=\"*\", color=\"orange\", label=\"Pareto front\")\n",
    "plot.add(results[0].F, marker=\"x\", color=\"red\", label=\"Death penalty\")\n",
    "# plot.add(results[1].F[:, :-1], marker=\"+\", color=\"green\", label=\"Baseline\")\n",
    "plot.add(results[2].F[:, :-1], marker=\"+\", color=\"green\", label=\"Baseline + Our CDP\")\n",
    "plot.add(\n",
    "    results[3].F[:, :-1], marker=\"1\", color=\"blue\", label=\"Our generalized framework\"\n",
    ")\n",
    "plot.add(results[4].F[:, :-1], marker=\"1\", color=\"purple\", label=\"Our framework + CDF\")\n",
    "plot.show()"
   ]
  },
  {
   "cell_type": "markdown",
   "metadata": {},
   "source": [
    "## MW3\n"
   ]
  },
  {
   "cell_type": "code",
   "execution_count": null,
   "metadata": {
    "metadata": {}
   },
   "outputs": [],
   "source": [
    "pf, *results = test(\"mw3\", n_gen=500)"
   ]
  },
  {
   "cell_type": "code",
   "execution_count": null,
   "metadata": {
    "metadata": {}
   },
   "outputs": [],
   "source": [
    "plot = Scatter()\n",
    "plot.add(pf, marker=\"*\", color=\"orange\", label=\"Pareto front\")\n",
    "plot.add(results[0].F, marker=\"x\", color=\"red\", label=\"Death penalty\")\n",
    "# plot.add(results[1].F[:, :-1], marker=\"+\", color=\"green\", label=\"Baseline\")\n",
    "plot.add(results[2].F[:, :-1], marker=\"+\", color=\"green\", label=\"Baseline + Our CDP\")\n",
    "plot.add(\n",
    "    results[3].F[:, :-1], marker=\"1\", color=\"blue\", label=\"Our generalized framework\"\n",
    ")\n",
    "plot.add(results[4].F[:, :-1], marker=\"1\", color=\"purple\", label=\"Our framework + CDF\")\n",
    "plot.show()"
   ]
  },
  {
   "cell_type": "markdown",
   "metadata": {},
   "source": [
    "## MW4 (1 constraint)\n"
   ]
  },
  {
   "cell_type": "code",
   "execution_count": null,
   "metadata": {
    "metadata": {}
   },
   "outputs": [],
   "source": [
    "pf, *results = test(\"mw4\", n_gen=500)"
   ]
  },
  {
   "cell_type": "code",
   "execution_count": null,
   "metadata": {
    "metadata": {}
   },
   "outputs": [],
   "source": [
    "plot = Scatter()\n",
    "plot.add(pf, marker=\"*\", color=\"orange\", label=\"Pareto front\")\n",
    "plot.add(results[0].F, marker=\"x\", color=\"red\", label=\"Death penalty\")\n",
    "# plot.add(results[1].F[:, :-1], marker=\"+\", color=\"green\", label=\"Baseline\")\n",
    "plot.add(results[2].F[:, :-1], marker=\"+\", color=\"green\", label=\"Baseline + Our CDP\")\n",
    "plot.add(\n",
    "    results[3].F[:, :-1], marker=\"1\", color=\"blue\", label=\"Our generalized framework\"\n",
    ")\n",
    "plot.add(results[4].F[:, :-1], marker=\"1\", color=\"purple\", label=\"Our framework + CDF\")\n",
    "plot.show()"
   ]
  },
  {
   "cell_type": "markdown",
   "metadata": {},
   "source": [
    "## MW5\n"
   ]
  },
  {
   "cell_type": "code",
   "execution_count": null,
   "metadata": {
    "metadata": {}
   },
   "outputs": [],
   "source": [
    "pf, *results = test(\"mw5\", n_gen=500)"
   ]
  },
  {
   "cell_type": "code",
   "execution_count": null,
   "metadata": {
    "metadata": {}
   },
   "outputs": [],
   "source": [
    "plot = Scatter()\n",
    "plot.add(pf, marker=\"*\", color=\"orange\", label=\"Pareto front\")\n",
    "plot.add(results[0].F, marker=\"x\", color=\"red\", label=\"Death penalty\")\n",
    "# plot.add(results[1].F[:, :-1], marker=\"+\", color=\"green\", label=\"Baseline\")\n",
    "plot.add(results[2].F[:, :-1], marker=\"+\", color=\"green\", label=\"Baseline + Our CDP\")\n",
    "plot.add(\n",
    "    results[3].F[:, :-1], marker=\"1\", color=\"blue\", label=\"Our generalized framework\"\n",
    ")\n",
    "plot.add(results[4].F[:, :-1], marker=\"1\", color=\"purple\", label=\"Our framework + CDF\")\n",
    "plot.show()"
   ]
  },
  {
   "cell_type": "markdown",
   "metadata": {},
   "source": [
    "## MW6 (1 constraint)\n"
   ]
  },
  {
   "cell_type": "code",
   "execution_count": null,
   "metadata": {
    "metadata": {}
   },
   "outputs": [],
   "source": [
    "pf, *results = test(\"mw6\", n_gen=100)"
   ]
  },
  {
   "cell_type": "code",
   "execution_count": null,
   "metadata": {
    "metadata": {}
   },
   "outputs": [],
   "source": [
    "plot = Scatter()\n",
    "plot.add(pf, marker=\"*\", color=\"orange\", label=\"Pareto front\")\n",
    "plot.add(results[0].F, marker=\"x\", color=\"red\", label=\"Death penalty\")\n",
    "# plot.add(results[1].F[:, :-1], marker=\"+\", color=\"green\", label=\"Baseline\")\n",
    "plot.add(results[2].F[:, :-1], marker=\"+\", color=\"green\", label=\"Baseline + Our CDP\")\n",
    "plot.add(\n",
    "    results[3].F[:, :-1], marker=\"1\", color=\"blue\", label=\"Our generalized framework\"\n",
    ")\n",
    "plot.add(results[4].F[:, :-1], marker=\"1\", color=\"purple\", label=\"Our framework + CDF\")\n",
    "plot.show()"
   ]
  },
  {
   "cell_type": "markdown",
   "metadata": {},
   "source": [
    "## MW7\n"
   ]
  },
  {
   "cell_type": "code",
   "execution_count": null,
   "metadata": {
    "metadata": {}
   },
   "outputs": [],
   "source": [
    "pf, *results = test(\"mw7\", n_gen=100)"
   ]
  },
  {
   "cell_type": "code",
   "execution_count": null,
   "metadata": {
    "metadata": {}
   },
   "outputs": [],
   "source": [
    "plot = Scatter()\n",
    "plot.add(pf, marker=\"*\", color=\"orange\", label=\"Pareto front\")\n",
    "plot.add(results[0].F, marker=\"x\", color=\"red\", label=\"Death penalty\")\n",
    "# plot.add(results[1].F[:, :-1], marker=\"+\", color=\"green\", label=\"Baseline\")\n",
    "plot.add(results[2].F[:, :-1], marker=\"+\", color=\"green\", label=\"Baseline + Our CDP\")\n",
    "plot.add(\n",
    "    results[3].F[:, :-1], marker=\"1\", color=\"blue\", label=\"Our generalized framework\"\n",
    ")\n",
    "plot.add(results[4].F[:, :-1], marker=\"1\", color=\"purple\", label=\"Our framework + CDF\")\n",
    "plot.show()"
   ]
  },
  {
   "cell_type": "markdown",
   "metadata": {
    "metadata": {}
   },
   "source": [
    "## MW8 (1 constraint)\n"
   ]
  },
  {
   "cell_type": "code",
   "execution_count": null,
   "metadata": {
    "metadata": {}
   },
   "outputs": [],
   "source": [
    "pf, *results = test(\"mw8\", n_gen=100)"
   ]
  },
  {
   "cell_type": "code",
   "execution_count": null,
   "metadata": {
    "metadata": {}
   },
   "outputs": [],
   "source": [
    "plot = Scatter()\n",
    "plot.add(pf, marker=\"*\", color=\"orange\", label=\"Pareto front\")\n",
    "plot.add(results[0].F, marker=\"x\", color=\"red\", label=\"Death penalty\")\n",
    "# plot.add(results[1].F[:, :-1], marker=\"+\", color=\"green\", label=\"Baseline\")\n",
    "plot.add(results[2].F[:, :-1], marker=\"+\", color=\"green\", label=\"Baseline + Our CDP\")\n",
    "plot.add(\n",
    "    results[3].F[:, :-1], marker=\"1\", color=\"blue\", label=\"Our generalized framework\"\n",
    ")\n",
    "plot.add(results[4].F[:, :-1], marker=\"1\", color=\"purple\", label=\"Our framework + CDF\")\n",
    "plot.show()"
   ]
  },
  {
   "cell_type": "markdown",
   "metadata": {},
   "source": [
    "## MW9\n"
   ]
  },
  {
   "cell_type": "code",
   "execution_count": null,
   "metadata": {
    "metadata": {}
   },
   "outputs": [],
   "source": [
    "pf, *results = test(\"mw9\", n_gen=100)"
   ]
  },
  {
   "cell_type": "code",
   "execution_count": null,
   "metadata": {},
   "outputs": [],
   "source": [
    "plot = Scatter()\n",
    "plot.add(pf, marker=\"*\", color=\"orange\", label=\"Pareto front\")\n",
    "plot.add(results[0].F, marker=\"x\", color=\"red\", label=\"Death penalty\")\n",
    "# plot.add(results[1].F[:, :-1], marker=\"+\", color=\"green\", label=\"Baseline\")\n",
    "plot.add(results[2].F[:, :-1], marker=\"+\", color=\"green\", label=\"Baseline + Our CDP\")\n",
    "plot.add(\n",
    "    results[3].F[:, :-1], marker=\"1\", color=\"blue\", label=\"Our generalized framework\"\n",
    ")\n",
    "plot.add(results[4].F[:, :-1], marker=\"1\", color=\"purple\", label=\"Our framework + CDF\")\n",
    "plot.show()"
   ]
  },
  {
   "cell_type": "markdown",
   "metadata": {},
   "source": [
    "## MW10\n"
   ]
  },
  {
   "cell_type": "code",
   "execution_count": null,
   "metadata": {
    "metadata": {}
   },
   "outputs": [],
   "source": [
    "pf, *results = test(\"mw13\", n_gen=15)"
   ]
  },
  {
   "cell_type": "code",
   "execution_count": null,
   "metadata": {
    "metadata": {}
   },
   "outputs": [],
   "source": [
    "plot = Scatter()\n",
    "plot.add(pf, marker=\"*\", color=\"orange\", label=\"Pareto front\")\n",
    "plot.add(results[0].F, marker=\"x\", color=\"red\", label=\"Death penalty\")\n",
    "# plot.add(results[1].F[:, :-1], marker=\"+\", color=\"green\", label=\"Baseline\")\n",
    "plot.add(results[2].F[:, :-1], marker=\"+\", color=\"green\", label=\"Baseline + Our CDP\")\n",
    "plot.add(\n",
    "    results[3].F[:, :-1], marker=\"1\", color=\"blue\", label=\"Our generalized framework\"\n",
    ")\n",
    "plot.add(results[4].F[:, :-1], marker=\"1\", color=\"purple\", label=\"Our framework + CDF\")\n",
    "plot.show()"
   ]
  },
  {
   "cell_type": "markdown",
   "metadata": {},
   "source": [
    "## MW14 (1 constraint)\n"
   ]
  },
  {
   "cell_type": "code",
   "execution_count": null,
   "metadata": {
    "metadata": {}
   },
   "outputs": [],
   "source": [
    "pf, *results = test(\"mw14\", n_gen=100)"
   ]
  },
  {
   "cell_type": "code",
   "execution_count": null,
   "metadata": {
    "metadata": {}
   },
   "outputs": [],
   "source": [
    "plot = Scatter()\n",
    "plot.add(pf, marker=\"*\", color=\"orange\", label=\"Pareto front\")\n",
    "plot.add(results[0].F, marker=\"x\", color=\"red\", label=\"Death penalty\")\n",
    "# plot.add(results[1].F[:, :-1], marker=\"+\", color=\"green\", label=\"Baseline\")\n",
    "plot.add(results[2].F[:, :-1], marker=\"+\", color=\"green\", label=\"Baseline + Our CDP\")\n",
    "# plot.add(results[3].F[:, :-1], marker=\"1\", color=\"blue\",\n",
    "#          label=\"Our generalized framework\")\n",
    "plot.add(results[4].F[:, :-1], marker=\"1\", color=\"purple\", label=\"Our framework + CDF\")\n",
    "plot.show()"
   ]
  },
  {
   "cell_type": "markdown",
   "metadata": {},
   "source": [
    "# DAS-CMOP\n"
   ]
  },
  {
   "cell_type": "markdown",
   "metadata": {},
   "source": [
    "## DAS-CMOP-1\n"
   ]
  },
  {
   "cell_type": "code",
   "execution_count": null,
   "metadata": {
    "metadata": {}
   },
   "outputs": [],
   "source": [
    "pf, *results = test(\"dascmop1\", n_gen=500)"
   ]
  },
  {
   "cell_type": "code",
   "execution_count": null,
   "metadata": {
    "metadata": {}
   },
   "outputs": [],
   "source": [
    "plot = Scatter()\n",
    "plot.add(pf, marker=\"*\", color=\"orange\", label=\"Pareto front\")\n",
    "plot.add(results[0].F, marker=\"x\", color=\"red\", label=\"Death penalty\")\n",
    "# plot.add(results[1].F[:, :-1], marker=\"+\", color=\"green\", label=\"Baseline\")\n",
    "plot.add(results[2].F[:, :-1], marker=\"+\", color=\"green\", label=\"Baseline + Our CDP\")\n",
    "plot.add(\n",
    "    results[3].F[:, :-1], marker=\"1\", color=\"blue\", label=\"Our generalized framework\"\n",
    ")\n",
    "plot.add(results[4].F[:, :-1], marker=\"1\", color=\"purple\", label=\"Our framework + CDF\")\n",
    "plot.show()"
   ]
  },
  {
   "cell_type": "code",
   "execution_count": null,
   "metadata": {
    "metadata": {}
   },
   "outputs": [],
   "source": [
    "pf, *results = test(\"dascmop2\", n_gen=500)"
   ]
  },
  {
   "cell_type": "code",
   "execution_count": null,
   "metadata": {
    "metadata": {}
   },
   "outputs": [],
   "source": [
    "plot = Scatter()\n",
    "plot.add(pf, marker=\"*\", color=\"orange\", label=\"Pareto front\")\n",
    "plot.add(results[0].F, marker=\"x\", color=\"red\", label=\"Death penalty\")\n",
    "# plot.add(results[1].F[:, :-1], marker=\"+\", color=\"green\", label=\"Baseline\")\n",
    "plot.add(results[2].F[:, :-1], marker=\"+\", color=\"green\", label=\"Baseline + Our CDP\")\n",
    "plot.add(\n",
    "    results[3].F[:, :-1], marker=\"1\", color=\"blue\", label=\"Our generalized framework\"\n",
    ")\n",
    "plot.add(results[4].F[:, :-1], marker=\"1\", color=\"purple\", label=\"Our framework + CDF\")\n",
    "plot.show()"
   ]
  },
  {
   "cell_type": "code",
   "execution_count": null,
   "metadata": {
    "metadata": {}
   },
   "outputs": [],
   "source": [
    "pf, *results = test(\"dascmop3\", n_gen=500)"
   ]
  },
  {
   "cell_type": "code",
   "execution_count": null,
   "metadata": {
    "metadata": {}
   },
   "outputs": [],
   "source": [
    "plot = Scatter()\n",
    "plot.add(pf, marker=\"*\", color=\"orange\", label=\"Pareto front\")\n",
    "plot.add(results[0].F, marker=\"x\", color=\"red\", label=\"Death penalty\")\n",
    "# plot.add(results[1].F[:, :-1], marker=\"+\", color=\"green\", label=\"Baseline\")\n",
    "plot.add(results[2].F[:, :-1], marker=\"+\", color=\"green\", label=\"Baseline + Our CDP\")\n",
    "plot.add(\n",
    "    results[3].F[:, :-1], marker=\"1\", color=\"blue\", label=\"Our generalized framework\"\n",
    ")\n",
    "plot.add(results[4].F[:, :-1], marker=\"1\", color=\"purple\", label=\"Our framework + CDF\")\n",
    "plot.show()"
   ]
  },
  {
   "cell_type": "code",
   "execution_count": null,
   "metadata": {
    "metadata": {}
   },
   "outputs": [],
   "source": [
    "pf, *results = test(\"dascmop4\", n_gen=500)"
   ]
  },
  {
   "cell_type": "code",
   "execution_count": null,
   "metadata": {
    "metadata": {}
   },
   "outputs": [],
   "source": [
    "plot = Scatter()\n",
    "plot.add(pf, marker=\"*\", color=\"orange\", label=\"Pareto front\")\n",
    "plot.add(results[0].F, marker=\"x\", color=\"red\", label=\"Death penalty\")\n",
    "# plot.add(results[1].F[:, :-1], marker=\"+\", color=\"green\", label=\"Baseline\")\n",
    "plot.add(results[2].F[:, :-1], marker=\"+\", color=\"green\", label=\"Baseline + Our CDP\")\n",
    "plot.add(\n",
    "    results[3].F[:, :-1], marker=\"1\", color=\"blue\", label=\"Our generalized framework\"\n",
    ")\n",
    "plot.add(results[4].F[:, :-1], marker=\"1\", color=\"purple\", label=\"Our framework + CDF\")\n",
    "plot.show()"
   ]
  },
  {
   "cell_type": "code",
   "execution_count": null,
   "metadata": {
    "metadata": {}
   },
   "outputs": [],
   "source": [
    "pf, *results = test(\"dascmop5\", n_gen=500)"
   ]
  },
  {
   "cell_type": "code",
   "execution_count": null,
   "metadata": {
    "metadata": {}
   },
   "outputs": [],
   "source": [
    "plot = Scatter()\n",
    "plot.add(pf, marker=\"*\", color=\"orange\", label=\"Pareto front\")\n",
    "plot.add(results[0].F, marker=\"x\", color=\"red\", label=\"Death penalty\")\n",
    "# plot.add(results[1].F[:, :-1], marker=\"+\", color=\"green\", label=\"Baseline\")\n",
    "plot.add(results[2].F[:, :-1], marker=\"+\", color=\"green\", label=\"Baseline + Our CDP\")\n",
    "plot.add(\n",
    "    results[3].F[:, :-1], marker=\"1\", color=\"blue\", label=\"Our generalized framework\"\n",
    ")\n",
    "plot.add(results[4].F[:, :-1], marker=\"1\", color=\"purple\", label=\"Our framework + CDF\")\n",
    "plot.show()"
   ]
  },
  {
   "cell_type": "code",
   "execution_count": null,
   "metadata": {
    "metadata": {}
   },
   "outputs": [],
   "source": [
    "pf, *results = test(\"dascmop6\", n_gen=500)"
   ]
  },
  {
   "cell_type": "code",
   "execution_count": null,
   "metadata": {
    "metadata": {}
   },
   "outputs": [],
   "source": [
    "plot = Scatter()\n",
    "plot.add(pf, marker=\"*\", color=\"orange\", label=\"Pareto front\")\n",
    "plot.add(results[0].F, marker=\"x\", color=\"red\", label=\"Death penalty\")\n",
    "# plot.add(results[1].F[:, :-1], marker=\"+\", color=\"green\", label=\"Baseline\")\n",
    "plot.add(results[2].F[:, :-1], marker=\"+\", color=\"green\", label=\"Baseline + Our CDP\")\n",
    "plot.add(\n",
    "    results[3].F[:, :-1], marker=\"1\", color=\"blue\", label=\"Our generalized framework\"\n",
    ")\n",
    "plot.add(results[4].F[:, :-1], marker=\"1\", color=\"purple\", label=\"Our framework + CDF\")\n",
    "plot.show()"
   ]
  },
  {
   "cell_type": "code",
   "execution_count": null,
   "metadata": {
    "metadata": {}
   },
   "outputs": [],
   "source": [
    "pf, *results = test(\"dascmop7\", n_gen=500)"
   ]
  },
  {
   "cell_type": "code",
   "execution_count": null,
   "metadata": {
    "metadata": {}
   },
   "outputs": [],
   "source": [
    "plot = Scatter()\n",
    "plot.add(pf, marker=\"*\", color=\"orange\", label=\"Pareto front\")\n",
    "plot.add(results[0].F, marker=\"x\", color=\"red\", label=\"Death penalty\")\n",
    "# plot.add(results[1].F[:, :-1], marker=\"+\", color=\"green\", label=\"Baseline\")\n",
    "plot.add(results[2].F[:, :-1], marker=\"+\", color=\"green\", label=\"Baseline + Our CDP\")\n",
    "plot.add(\n",
    "    results[3].F[:, :-1], marker=\"1\", color=\"blue\", label=\"Our generalized framework\"\n",
    ")\n",
    "plot.add(results[4].F[:, :-1], marker=\"1\", color=\"purple\", label=\"Our framework + CDF\")\n",
    "plot.show()"
   ]
  },
  {
   "cell_type": "code",
   "execution_count": null,
   "metadata": {
    "metadata": {}
   },
   "outputs": [],
   "source": [
    "pf, *results = test(\"dascmop8\", n_gen=500)"
   ]
  },
  {
   "cell_type": "code",
   "execution_count": null,
   "metadata": {
    "metadata": {}
   },
   "outputs": [],
   "source": [
    "plot = Scatter()\n",
    "plot.add(pf, marker=\"*\", color=\"orange\", label=\"Pareto front\")\n",
    "plot.add(results[0].F, marker=\"x\", color=\"red\", label=\"Death penalty\")\n",
    "# plot.add(results[1].F[:, :-1], marker=\"+\", color=\"green\", label=\"Baseline\")\n",
    "plot.add(results[2].F[:, :-1], marker=\"+\", color=\"green\", label=\"Baseline + Our CDP\")\n",
    "plot.add(\n",
    "    results[3].F[:, :-1], marker=\"1\", color=\"blue\", label=\"Our generalized framework\"\n",
    ")\n",
    "plot.add(results[4].F[:, :-1], marker=\"1\", color=\"purple\", label=\"Our framework + CDF\")\n",
    "plot.show()"
   ]
  },
  {
   "cell_type": "code",
   "execution_count": null,
   "metadata": {
    "metadata": {}
   },
   "outputs": [],
   "source": [
    "pf, *results = test(\"dascmop9\", n_gen=500)"
   ]
  },
  {
   "cell_type": "code",
   "execution_count": null,
   "metadata": {
    "metadata": {}
   },
   "outputs": [],
   "source": [
    "plot = Scatter()\n",
    "plot.add(pf, marker=\"*\", color=\"orange\", label=\"Pareto front\")\n",
    "plot.add(results[0].F, marker=\"x\", color=\"red\", label=\"Death penalty\")\n",
    "# plot.add(results[1].F[:, :-1], marker=\"+\", color=\"green\", label=\"Baseline\")\n",
    "plot.add(results[2].F[:, :-1], marker=\"+\", color=\"green\", label=\"Baseline + Our CDP\")\n",
    "plot.add(\n",
    "    results[3].F[:, :-1], marker=\"1\", color=\"blue\", label=\"Our generalized framework\"\n",
    ")\n",
    "plot.add(results[4].F[:, :-1], marker=\"1\", color=\"purple\", label=\"Our framework + CDF\")\n",
    "plot.show()"
   ]
  },
  {
   "cell_type": "markdown",
   "metadata": {},
   "source": [
    "# MODAct\n"
   ]
  },
  {
   "cell_type": "code",
   "execution_count": null,
   "metadata": {},
   "outputs": [],
   "source": [
    "pf, *results = test(\"modact\", 10, \"cs1\")"
   ]
  },
  {
   "cell_type": "code",
   "execution_count": null,
   "metadata": {},
   "outputs": [],
   "source": [
    "plot = Scatter()\n",
    "plot.add(pf, marker=\"*\", color=\"orange\", label=\"Pareto front\")\n",
    "plot.add(results[0].F, marker=\"x\", color=\"red\", label=\"Death penalty\")\n",
    "# plot.add(results[1].F[:, :-1], marker=\"+\", color=\"green\", label=\"Baseline\")\n",
    "plot.add(results[2].F[:, :-1], marker=\"+\", color=\"green\", label=\"Baseline + Our CDP\")\n",
    "plot.add(\n",
    "    results[3].F[:, :-1], marker=\"1\", color=\"blue\", label=\"Our generalized framework\"\n",
    ")\n",
    "plot.add(results[4].F[:, :-1], marker=\"1\", color=\"purple\", label=\"Our framework + CDF\")\n",
    "plot.show()"
   ]
  },
  {
   "cell_type": "code",
   "execution_count": null,
   "metadata": {
    "metadata": {}
   },
   "outputs": [],
   "source": [
    "terminate_here"
   ]
  },
  {
   "cell_type": "markdown",
   "metadata": {},
   "source": [
    "# To_excel\n"
   ]
  },
  {
   "cell_type": "code",
   "execution_count": null,
   "metadata": {},
   "outputs": [],
   "source": [
    "import pandas as pd\n",
    "import numpy as np\n",
    "import matplotlib.pyplot as plt\n",
    "from datetime import datetime\n",
    "from constraints.as_obj import CVRAsObjective, CDFAsObjective\n",
    "\n",
    "POP_SIZE = 500\n",
    "N_GEN = 300\n",
    "\n",
    "core_moea1 = NSGA2(pop_size=POP_SIZE, survival=RankAndCrowding())\n",
    "core_moea2 = NSGA2(pop_size=POP_SIZE, survival=MyConstrRankAndCrowding())\n",
    "core_moea3 = NSGA2(pop_size=POP_SIZE, survival=ParallelConstrRankAndCrowding())\n",
    "\n",
    "\n",
    "@performance_timer\n",
    "def compare_on(problem, n_gen=300):\n",
    "    # Configuration for each optimization strategy\n",
    "    configurations = [\n",
    "        # (problem, core_moea1, (\"n_gen\", n_gen), {\"seed\": 1, \"verbose\": False}),\n",
    "        (ConstraintsAsObjective(problem),\n",
    "         core_moea1, (\"n_gen\", n_gen), {\"seed\": 1}),\n",
    "        (CVRAsObjective(problem),\n",
    "         core_moea1, (\"n_gen\", n_gen), {\"seed\": 1}),\n",
    "        (CDFAsObjective(problem),\n",
    "         core_moea1, (\"n_gen\", n_gen), {\"seed\": 1}),\n",
    "        # (ConstraintsAsObjective(problem),\n",
    "        #  core_moea2, (\"n_gen\", n_gen), {\"seed\": 1}),\n",
    "        # (\n",
    "        #     CVRAsObjective(problem),\n",
    "        #     core_moea2,\n",
    "        #     (\"n_gen\", n_gen),\n",
    "        #     {\"seed\": 1, \"verbose\": False},\n",
    "        # ),\n",
    "        # (\n",
    "        #     CDFAsObjective(problem),\n",
    "        #     core_moea2,\n",
    "        #     (\"n_gen\", n_gen),\n",
    "        #     {\"seed\": 1, \"verbose\": False},\n",
    "        # ),\n",
    "    ]\n",
    "\n",
    "    results = []\n",
    "    for config in configurations:\n",
    "        result = minimize_(*config[:-1], **config[-1])\n",
    "        results.append(result)\n",
    "    return results\n",
    "\n",
    "\n",
    "def test(problem_name, n_gen=300, **kwargs):\n",
    "    if \"dascmop\" in problem_name or \"modact\" in problem_name:\n",
    "        if 'additional_args' in kwargs:\n",
    "            problem = get_problem(problem_name, kwargs['additional_args'])\n",
    "        else:\n",
    "            raise ValueError(\n",
    "                f\"Additional arguments required for problem {problem_name}\")\n",
    "    else:\n",
    "        problem = get_problem(problem_name)\n",
    "    pf = problem.pareto_front()\n",
    "    print(f\"Problem {problem.name}: n_var={problem.n_var} n_obj={problem.n_obj} n_ieq_constr={problem.n_ieq_constr} n_eq_constr={problem.n_eq_constr}\")\n",
    "\n",
    "    results = compare_on(problem, n_gen=n_gen)\n",
    "\n",
    "    # Check if any of the results is None\n",
    "    if any(result is None for result in results):\n",
    "        print(\"One or more optimization runs failed to return a result.\")\n",
    "        return pf, [None]*len(results)\n",
    "\n",
    "    # Prepare data for performance indicators\n",
    "    prepared_data = []\n",
    "    for i, result in enumerate(results):\n",
    "        if result and hasattr(result, 'F') and result.F is not None:\n",
    "            # if i > 0:\n",
    "            if True:\n",
    "                prepared_data.append(result.F[:, :-1])\n",
    "            else:\n",
    "                prepared_data.append(result.F)\n",
    "        else:\n",
    "            prepared_data.append(None)\n",
    "\n",
    "    # Ensure all data is valid before calculating performance indicators\n",
    "    if all(data is not None for data in prepared_data):\n",
    "        performance_results = performance_indicators(pf, prepared_data)\n",
    "        for i, metric in enumerate(metric_classes.keys()):\n",
    "            print(f\"{metric}: \" +\n",
    "                  \" | \".join(f\"{perf[i]}\" for perf in performance_results))\n",
    "    else:\n",
    "        print(\"Performance indicators could not be calculated due to invalid data.\")\n",
    "\n",
    "    return pf, results\n",
    "\n",
    "\n",
    "def create_charts(df, output_dir='.'):\n",
    "    metrics = df['Metric'].unique()\n",
    "    problems = df['Problem'].unique()\n",
    "\n",
    "    for problem in problems:\n",
    "        problem_df = df[df['Problem'] == problem]\n",
    "        for metric in metrics:\n",
    "            metric_df = problem_df[problem_df['Metric'] == metric]\n",
    "            plt.figure(figsize=(10, 6))\n",
    "            plt.bar(metric_df['Algorithm'],\n",
    "                    metric_df['GD+ Mean'], yerr=metric_df['GD+ Median'])\n",
    "            plt.title(f'{metric} for {problem}')\n",
    "            plt.xlabel('Algorithm')\n",
    "            plt.ylabel(metric)\n",
    "            plt.savefig(f'{output_dir}/{problem}_{metric}.png')\n",
    "            plt.close()\n",
    "\n",
    "# Function to compare multiple problems and export results to Excel\n",
    "\n",
    "\n",
    "def compare_problems_to_excel(problem_configs, n_gen=300, output_file='results.xlsx'):\n",
    "    results_list = []\n",
    "    for problem_config in problem_configs:\n",
    "        additional_args = None\n",
    "        if isinstance(problem_config, tuple):\n",
    "            problem_name, additional_args = problem_config\n",
    "            pf, results = test(problem_name, n_gen=n_gen,\n",
    "                               additional_args=additional_args)\n",
    "        else:\n",
    "            problem_name = problem_config\n",
    "            pf, results = test(problem_name, n_gen=n_gen)\n",
    "\n",
    "        # Skip problems where results are None\n",
    "        if results[0] is None:\n",
    "            continue\n",
    "\n",
    "        # Compute performance indicators\n",
    "        prepared_data = []\n",
    "        for i, result in enumerate(results):\n",
    "            if result and hasattr(result, 'F') and result.F is not None:\n",
    "                # if i > 0:\n",
    "                if True:\n",
    "                    prepared_data.append(result.F[:, :-1])\n",
    "                else:\n",
    "                    prepared_data.append(result.F)\n",
    "            else:\n",
    "                prepared_data.append(None)\n",
    "\n",
    "        if all(data is not None for data in prepared_data):\n",
    "            performance_results = performance_indicators(pf, prepared_data)\n",
    "            for i, rs in enumerate(performance_results):\n",
    "                (gd_mean, gd_median), (gd_plus_mean, gd_plus_median), (igd_mean,\n",
    "                                                                       igd_median), (igd_plus_mean, igd_plus_median) = rs\n",
    "                result_row = {\n",
    "                    \"Problem\": problem_name if additional_args is None else f'{problem_name} {additional_args}',\n",
    "                    \"Algorithm\": f\"Algorithm {i+1}\",\n",
    "                    \"GD Mean\": gd_mean,\n",
    "                    \"GD Median\": gd_median,\n",
    "                    \"GD+ Mean\": gd_plus_mean,\n",
    "                    \"GD+ Median\": gd_plus_median,\n",
    "                    \"IGD Mean\": igd_mean,\n",
    "                    \"IGD Median\": igd_median,\n",
    "                    \"IGD+ Mean\": igd_plus_mean,\n",
    "                    \"IGD+ Median\": igd_plus_median,\n",
    "                    \"Time\": results[i].exec_time if hasattr(results[i], 'exec_time') else np.nan\n",
    "                }\n",
    "                results_list.append(result_row)\n",
    "\n",
    "    # Create DataFrame and export to Excel\n",
    "    df = pd.DataFrame(results_list)\n",
    "    df.to_excel(output_file, index=False)\n",
    "    print(f\"Results exported to {output_file}\")\n",
    "\n",
    "    # Create charts for visualizing the results\n",
    "    # create_charts(df)\n",
    "\n",
    "\n",
    "# Example usage\n",
    "problem_configs = [\n",
    "    # \"wrm\",\n",
    "    # \"srn\",\n",
    "    # \"clutch\"\n",
    "]\n",
    "\n",
    "problem_dascmop = [f'dascmop{i}' for i in range(1, 10)]\n",
    "for i in range(16, 17):\n",
    "    for p in problem_dascmop:\n",
    "        problem_configs.append((p, i))\n",
    "compare_problems_to_excel(problem_configs, n_gen=100,\n",
    "                          output_file=f'optimization_results_{datetime.now().timestamp()}.xlsx')"
   ]
  },
  {
   "cell_type": "code",
   "execution_count": null,
   "metadata": {},
   "outputs": [],
   "source": [
    "problem_configs = [\n",
    "    \"g7\",\n",
    "    \"g8\",\n",
    "    \"g9\",\n",
    "    # \"mw7\",\n",
    "    # \"mw7\",\n",
    "    # \"mw9\",\n",
    "    # \"mw10\",\n",
    "]\n",
    "# problem_configs += [f'g{i}' for i in range(1,25)]\n",
    "compare_problems_to_excel(\n",
    "    problem_configs,\n",
    "    n_gen=500,\n",
    "    output_file=f\"optimization_results_{datetime.now().timestamp()}.xlsx\",\n",
    ")"
   ]
  },
  {
   "cell_type": "markdown",
   "metadata": {},
   "source": [
    "# Diversity Factor\n"
   ]
  },
  {
   "cell_type": "code",
   "execution_count": null,
   "metadata": {},
   "outputs": [],
   "source": [
    "import numpy as np\n",
    "from pymoo.core.problem import Problem\n",
    "from pymoo.problems import get_problem\n",
    "from scipy.spatial import cKDTree\n",
    "from pymoo.algorithms.moo.nsga2 import NSGA2\n",
    "from pymoo.operators.crossover.sbx import SimulatedBinaryCrossover as SBX\n",
    "from pymoo.operators.mutation.pm import PolynomialMutation as PM\n",
    "from pymoo.operators.sampling.rnd import FloatRandomSampling\n",
    "from pymoo.optimize import minimize\n",
    "from pymoo.core.callback import Callback"
   ]
  },
  {
   "cell_type": "code",
   "execution_count": null,
   "metadata": {},
   "outputs": [],
   "source": [
    "from annoy import AnnoyIndex\n",
    "\n",
    "\n",
    "class DiversityEnhancedProblem(Problem):\n",
    "    def __init__(self, problem, neighbors=5, trees=10):\n",
    "        super().__init__(\n",
    "            n_var=problem.n_var,\n",
    "            n_obj=problem.n_obj + 1,\n",
    "            n_constr=problem.n_constr,\n",
    "            xl=problem.xl,\n",
    "            xu=problem.xu,\n",
    "        )\n",
    "        self.base_problem = problem\n",
    "        self.neighbors = neighbors\n",
    "        self.population = []\n",
    "        self.tree = AnnoyIndex(self.n_var, \"manhattan\")\n",
    "        self.tree_cache = {}  # To store diversity values\n",
    "        self.trees = trees  # Number of trees for Annoy\n",
    "\n",
    "    def update_population(self, pop):\n",
    "        self.population = pop.get(\"X\")\n",
    "        self.tree.unbuild()  # Clear the current tree\n",
    "        for i, x in enumerate(self.population):\n",
    "            self.tree.add_item(i, x.tolist())\n",
    "        self.tree.build(self.trees)\n",
    "        self.tree_cache = {}  # Clear cache after update\n",
    "\n",
    "    def calculate_diversity(self, x):\n",
    "        if len(self.population) > 1:\n",
    "            distances = self.tree.get_nns_by_vector(\n",
    "                x, self.neighbors, include_distances=True\n",
    "            )[1]\n",
    "            return 1.0 / np.mean(distances)\n",
    "        return 0\n",
    "\n",
    "    def _evaluate(self, x, out, *args, **kwargs):\n",
    "        base_out = {}\n",
    "        self.base_problem._evaluate(x, base_out, *args, **kwargs)\n",
    "        f = base_out[\"F\"]\n",
    "        x = np.atleast_2d(x)\n",
    "\n",
    "        # Calculate diversity, using cache if available\n",
    "        diversity = np.array(\n",
    "            [self.tree_cache.get(tuple(xi), self.calculate_diversity(xi)) for xi in x]\n",
    "        )\n",
    "        for xi, div in zip(x, diversity):\n",
    "            self.tree_cache[tuple(xi)] = div  # Update cache\n",
    "\n",
    "        out[\"F\"] = np.column_stack([f, diversity])\n",
    "\n",
    "\n",
    "class DiversityCallback(Callback):\n",
    "    def __init__(self, problem):\n",
    "        super().__init__()\n",
    "        self.problem = problem\n",
    "\n",
    "    def notify(self, algorithm):\n",
    "        self.problem.update_population(algorithm.pop)\n",
    "\n",
    "\n",
    "# Original problem from pymoo\n",
    "original_problem = get_problem(\"zdt2\")\n",
    "\n",
    "# Enhanced problem with diversity objective\n",
    "problem = DiversityEnhancedProblem(original_problem, neighbors=10)\n",
    "\n",
    "# Setup the algorithm\n",
    "algorithm = NSGA2(\n",
    "    pop_size=100,\n",
    "    n_offsprings=10,\n",
    "    sampling=FloatRandomSampling(),\n",
    "    crossover=SBX(prob=0.9, eta=15),\n",
    "    mutation=PM(eta=20),\n",
    "    eliminate_duplicates=True,\n",
    ")\n",
    "\n",
    "# Execute the optimization\n",
    "res1 = minimize(\n",
    "    problem,\n",
    "    algorithm,\n",
    "    (\"n_gen\", 10000),\n",
    "    verbose=True,\n",
    "    seed=1,\n",
    "    callback=DiversityCallback(problem),\n",
    ")\n",
    "\n",
    "res2 = minimize(\n",
    "    original_problem,\n",
    "    algorithm,\n",
    "    (\"n_gen\", 2000),\n",
    "    verbose=False,\n",
    "    seed=0,\n",
    "    # callback=DiversityCallback(problem)\n",
    ")"
   ]
  },
  {
   "cell_type": "code",
   "execution_count": null,
   "metadata": {},
   "outputs": [],
   "source": [
    "print(res1.F.shape, res2.F.shape)"
   ]
  },
  {
   "cell_type": "code",
   "execution_count": null,
   "metadata": {},
   "outputs": [],
   "source": [
    "from visualization.scatter import Scatter\n",
    "\n",
    "plot = Scatter()\n",
    "plot.add(res1.F[:, :-1], facecolor=\"none\", edgecolor=\"red\")\n",
    "plot.add(res2.F, facecolor=\"none\", edgecolor=\"blue\")\n",
    "plot.show()"
   ]
  },
  {
   "cell_type": "code",
   "execution_count": null,
   "metadata": {},
   "outputs": [],
   "source": [
    "from visualization.scatter import Scatter\n",
    "\n",
    "plot = Scatter()\n",
    "plot.add(res1.F, facecolor=\"none\", edgecolor=\"red\")\n",
    "# plot.add(res2.F, facecolor=\"none\", edgecolor=\"blue\")\n",
    "plot.show()"
   ]
  },
  {
   "cell_type": "code",
   "execution_count": null,
   "metadata": {},
   "outputs": [],
   "source": [
    "from pymoo.factory import get_performance_indicator\n",
    "\n",
    "# Assuming 'result' is the output of your optimization algorithm\n",
    "hv = get_performance_indicator(\n",
    "    \"hv\", ref_point=np.array([1.1, 1.1])\n",
    ")  # Adjust ref_point as needed\n",
    "hypervolume = hv.calc(res1.F)\n",
    "\n",
    "print(\"Hypervolume:\", hypervolume)"
   ]
  },
  {
   "cell_type": "code",
   "execution_count": null,
   "metadata": {},
   "outputs": [],
   "source": [
    "from visualization.scatter import Scatter\n",
    "from annoy import AnnoyIndex\n",
    "import numpy as np\n",
    "\n",
    "\n",
    "class DiversityEnhancedProblem2(Problem):\n",
    "    def __init__(\n",
    "        self, problem, neighbors=5, trees=10, update_interval=5, change_threshold=0.2\n",
    "    ):\n",
    "        super().__init__(\n",
    "            n_var=problem.n_var,\n",
    "            n_obj=problem.n_obj + 1,\n",
    "            n_constr=problem.n_constr,\n",
    "            xl=problem.xl,\n",
    "            xu=problem.xu,\n",
    "        )\n",
    "        self.base_problem = problem\n",
    "        self.neighbors = neighbors\n",
    "        self.population = []\n",
    "        self.tree = AnnoyIndex(self.n_var, \"euclidean\")\n",
    "        self.trees = trees\n",
    "        self.update_interval = update_interval\n",
    "        self.change_threshold = change_threshold\n",
    "        self.generation_count = 0\n",
    "        self.last_population = None\n",
    "\n",
    "    def update_population(self, pop):\n",
    "        self.population = pop.get(\"X\")\n",
    "        self.generation_count += 1\n",
    "\n",
    "        # Determine if the tree needs updating\n",
    "        if (\n",
    "            self.last_population is None\n",
    "            or self.generation_count % self.update_interval == 0\n",
    "            or self.population_has_changed()\n",
    "        ):\n",
    "            self.rebuild_tree()\n",
    "            self.last_population = np.array(self.population.copy())\n",
    "            print(\"Tree rebuilt.\")\n",
    "\n",
    "    def population_has_changed(self):\n",
    "        \"\"\"Checks if significant changes have occurred in the population\"\"\"\n",
    "        if self.last_population is not None:\n",
    "            dists = np.linalg.norm(\n",
    "                self.last_population - self.population, axis=1)\n",
    "            significant_changes = np.mean(dists > self.change_threshold)\n",
    "            # More than 10% of the population has significantly changed\n",
    "            return significant_changes > 0.1\n",
    "        return False\n",
    "\n",
    "    def rebuild_tree(self):\n",
    "        \"\"\"Rebuilds the Annoy index\"\"\"\n",
    "        self.tree.unbuild()\n",
    "        for i, x in enumerate(self.population):\n",
    "            self.tree.add_item(i, x.tolist())\n",
    "        self.tree.build(self.trees)\n",
    "\n",
    "    def calculate_diversity(self, x):\n",
    "        if len(self.population) > 1:\n",
    "            distances = self.tree.get_nns_by_vector(\n",
    "                x, self.neighbors, include_distances=True\n",
    "            )[1]\n",
    "            return 1.0 / np.mean(distances)\n",
    "        return 0\n",
    "\n",
    "    def _evaluate(self, x, out, *args, **kwargs):\n",
    "        base_out = {}\n",
    "        self.base_problem._evaluate(x, base_out, *args, **kwargs)\n",
    "        f = base_out[\"F\"]\n",
    "        x = np.atleast_2d(x)\n",
    "\n",
    "        # Calculate diversity\n",
    "        diversity = np.array([self.calculate_diversity(xi) for xi in x])\n",
    "        out[\"F\"] = np.column_stack([f, diversity])\n",
    "\n",
    "\n",
    "# Original problem from pymoo\n",
    "original_problem = get_problem(\"zdt2\")\n",
    "\n",
    "# Enhanced problem with diversity objective\n",
    "problem2 = DiversityEnhancedProblem2(original_problem, neighbors=10)\n",
    "\n",
    "# Setup the algorithm\n",
    "algorithm = NSGA2(\n",
    "    pop_size=100,\n",
    "    n_offsprings=10,\n",
    "    sampling=FloatRandomSampling(),\n",
    "    crossover=SBX(prob=0.9, eta=15),\n",
    "    mutation=PM(eta=20),\n",
    "    eliminate_duplicates=True,\n",
    ")\n",
    "\n",
    "# Execute the optimization\n",
    "res1 = minimize(\n",
    "    problem2,\n",
    "    algorithm,\n",
    "    (\"n_gen\", 5000),\n",
    "    verbose=True,\n",
    "    seed=1,\n",
    "    callback=DiversityCallback(problem),\n",
    ")\n",
    "\n",
    "res2 = minimize(\n",
    "    original_problem,\n",
    "    algorithm,\n",
    "    (\"n_gen\", 2000),\n",
    "    verbose=False,\n",
    "    seed=0,\n",
    ")\n",
    "\n",
    "\n",
    "plot = Scatter()\n",
    "plot.add(res1.F[:, 1:], facecolor=\"none\", edgecolor=\"red\")\n",
    "plot.add(res2.F, facecolor=\"none\", edgecolor=\"blue\")\n",
    "plot.show()"
   ]
  },
  {
   "cell_type": "code",
   "execution_count": null,
   "metadata": {},
   "outputs": [],
   "source": [
    "from pymoo.core.problem import Problem\n",
    "import numpy as np\n",
    "\n",
    "\n",
    "class ConstraintAsObjectiveProblem(Problem):\n",
    "    def __init__(self, problem):\n",
    "        super().__init__(\n",
    "            n_var=problem.n_var,\n",
    "            n_obj=problem.n_obj + problem.n_constr,\n",
    "            n_constr=0,  # No explicit constraints as they are now objectives\n",
    "            xl=problem.xl,\n",
    "            xu=problem.xu,\n",
    "        )\n",
    "        self.problem = problem\n",
    "\n",
    "    def _evaluate(self, x, out, *args, **kwargs):\n",
    "        # Evaluate the original problem\n",
    "        res = {}\n",
    "        self.problem._evaluate(x, res)\n",
    "\n",
    "        # Combine original objectives with constraints as new objectives\n",
    "        f = res[\"F\"]\n",
    "        # Constraint violation for g(x) > 0\n",
    "        g = np.where(res[\"G\"] > 0, res[\"G\"], 0)\n",
    "        h = np.abs(res[\"H\"])  # Absolute value for equality constraints\n",
    "\n",
    "        # Combine into a single objective array\n",
    "        out[\"F\"] = np.column_stack([f, g, h])"
   ]
  },
  {
   "cell_type": "code",
   "execution_count": null,
   "metadata": {},
   "outputs": [],
   "source": [
    "from pymoo.algorithms.moo.nsga2 import NSGA2\n",
    "from pymoo.operators.selection.tournament import compare\n",
    "from pymoo.optimize import minimize\n",
    "from pymoo.problems import get_problem\n",
    "\n",
    "\n",
    "class FeasibilityFirstNSGA2(NSGA2):\n",
    "    def __init__(self, **kwargs):\n",
    "        super().__init__(**kwargs)\n",
    "\n",
    "    def _next(self):\n",
    "        # Overriding the selection process to prioritize feasibility\n",
    "        def feasibility_first(a, b):\n",
    "            # Check if either solution is feasible\n",
    "            is_feasible_a = np.all(self.pop[a].get(\"F\")[self.problem.n_obj :] <= 0)\n",
    "            is_feasible_b = np.all(self.pop[b].get(\"F\")[self.problem.n_obj :] <= 0)\n",
    "\n",
    "            if is_feasible_a and not is_feasible_b:\n",
    "                return a\n",
    "            elif not is_feasible_a and is_feasible_b:\n",
    "                return b\n",
    "            else:\n",
    "                # If both are feasible or infeasible, fall back to regular comparison\n",
    "                return compare(\n",
    "                    a, b, self.pop, self.n_survive, self.rank_key, self.crowding_key\n",
    "                )\n",
    "\n",
    "        # Tournament selection modified for feasibility\n",
    "        mating_pool = self.selection(self.pop, self.n_offsprings, feasibility_first)\n",
    "        off = self.crossover.do(self.problem, self.pop, mating_pool)\n",
    "        off = self.mutation.do(self.problem, off)\n",
    "        self.evaluator.eval(self.problem, off)\n",
    "        self.pop = self.survival.do(\n",
    "            self.problem, self.pop, off, n_survive=self.pop_size\n",
    "        )\n",
    "\n",
    "\n",
    "problem = get_problem(\"zdt1\")\n",
    "wrapped_problem = ConstraintAsObjectiveProblem(problem)\n",
    "\n",
    "algorithm = FeasibilityFirstNSGA2(pop_size=100)\n",
    "\n",
    "res = minimize(wrapped_problem, algorithm, (\"n_gen\", 100), verbose=True)"
   ]
  }
 ],
 "metadata": {
  "kernelspec": {
   "display_name": "Python 3",
   "language": "python",
   "name": "python3"
  },
  "language_info": {
   "codemirror_mode": {
    "name": "ipython",
    "version": 3
   },
   "file_extension": ".py",
   "mimetype": "text/x-python",
   "name": "python",
   "nbconvert_exporter": "python",
   "pygments_lexer": "ipython3",
   "version": "3.10.12"
  }
 },
 "nbformat": 4,
 "nbformat_minor": 2
}

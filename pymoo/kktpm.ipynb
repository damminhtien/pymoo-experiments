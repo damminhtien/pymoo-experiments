{
 "cells": [
  {
   "cell_type": "markdown",
   "metadata": {
    "raw_mimetype": "text/restructuredtext"
   },
   "source": [
    ".. _nb_kktpm:"
   ]
  },
  {
   "cell_type": "markdown",
   "metadata": {},
   "source": [
    "## Karush Kuhn Tucker Proximity Measure (KKTPM)\n",
    "\n",
    "\n"
   ]
  },
  {
   "cell_type": "markdown",
   "metadata": {},
   "source": [
    "In 2016, Deb and Abouhawwash proposed Karush Kuhn Tucker Proximity Measure (KKTPM) <cite data-cite=\"kktpm1\"></cite>, a metric that can measure how close a point is from being “an optimum”. The smaller the metric, the closer the point. This does not require the Pareto front to be known, but the gradient information needs to be approximated.\n",
    "Their metric applies to both single objective and multi-objective optimization problems. \n",
    "\n",
    "In a single objective problem, the metric shows how close a point is from being a “local optimum”, while in multi-objective problems, the metric shows how close a point is from being a “local Pareto point”. Exact calculations of KKTPM for each point requires solving a whole optimization problem, which is extremely time-consuming. To avoid this problem, the authors of the original work again proposed several approximations to the true KKTPM, namely Direct KKTPM, Projected KKTPM, Adjusted KKTPM, and Approximate KKTPM. Approximate KKTPM is simply the average of the former three and is what we call simply “KKTPM”. Moreover, they were able to show that Approximate KKTPM is reliable and can be used in place of the exact one <cite data-cite=\"kktpm2\"></cite>."
   ]
  },
  {
   "cell_type": "markdown",
   "metadata": {},
   "source": [
    "<div style=\"text-align: center;\">\n",
    "    <img src=\"https://github.com/anyoptimization/pymoo-data/blob/main/docs/images/kktpm.png?raw=true\" width=\"350\">\n",
    "</div>"
   ]
  },
  {
   "cell_type": "markdown",
   "metadata": {},
   "source": [
    "Let us now see how to use pymoo to calculate the KKTPM for point:"
   ]
  },
  {
   "cell_type": "code",
   "execution_count": 1,
   "metadata": {
    "tags": []
   },
   "outputs": [],
   "source": [
    "from constraints.from_bounds import ConstraintsFromBounds\n",
    "from gradient.automatic import AutomaticDifferentiation\n",
    "from gradient.automatic import MyAutomaticDifferentiation\n",
    "from pymoo.problems import get_problem\n",
    "\n",
    "problem = MyAutomaticDifferentiation(ConstraintsFromBounds(get_problem(\"zdt1\", n_var=30)))"
   ]
  },
  {
   "cell_type": "markdown",
   "metadata": {},
   "source": [
    "For instance, the code below calculates the KKTPM metric for randomly sampled points for the given an example;"
   ]
  },
  {
   "cell_type": "code",
   "execution_count": 2,
   "metadata": {
    "tags": []
   },
   "outputs": [
    {
     "ename": "ValueError",
     "evalue": "operands could not be broadcast together with shapes (30,2) (3,) ",
     "output_type": "error",
     "traceback": [
      "\u001b[0;31m---------------------------------------------------------------------------\u001b[0m",
      "\u001b[0;31mValueError\u001b[0m                                Traceback (most recent call last)",
      "Cell \u001b[0;32mIn[2], line 5\u001b[0m\n\u001b[1;32m      2\u001b[0m \u001b[38;5;28;01mfrom\u001b[39;00m \u001b[38;5;21;01mpymoo\u001b[39;00m\u001b[38;5;21;01m.\u001b[39;00m\u001b[38;5;21;01moperators\u001b[39;00m\u001b[38;5;21;01m.\u001b[39;00m\u001b[38;5;21;01msampling\u001b[39;00m\u001b[38;5;21;01m.\u001b[39;00m\u001b[38;5;21;01mrnd\u001b[39;00m \u001b[38;5;28;01mimport\u001b[39;00m FloatRandomSampling\n\u001b[1;32m      4\u001b[0m X \u001b[38;5;241m=\u001b[39m FloatRandomSampling()\u001b[38;5;241m.\u001b[39mdo(problem, \u001b[38;5;241m100\u001b[39m)\u001b[38;5;241m.\u001b[39mget(\u001b[38;5;124m\"\u001b[39m\u001b[38;5;124mX\u001b[39m\u001b[38;5;124m\"\u001b[39m)\n\u001b[0;32m----> 5\u001b[0m kktpm \u001b[38;5;241m=\u001b[39m \u001b[43mKKTPM\u001b[49m\u001b[43m(\u001b[49m\u001b[43m)\u001b[49m\u001b[38;5;241;43m.\u001b[39;49m\u001b[43mcalc\u001b[49m\u001b[43m(\u001b[49m\u001b[43mX\u001b[49m\u001b[43m,\u001b[49m\u001b[43m \u001b[49m\u001b[43mproblem\u001b[49m\u001b[43m)\u001b[49m\n",
      "File \u001b[0;32m~/.local/lib/python3.10/site-packages/pymoo/indicators/kktpm.py:65\u001b[0m, in \u001b[0;36mKKTPM.calc\u001b[0;34m(self, X, problem, ideal, utopian_eps, rho)\u001b[0m\n\u001b[1;32m     62\u001b[0m \u001b[38;5;28;01melse\u001b[39;00m:\n\u001b[1;32m     64\u001b[0m     w \u001b[38;5;241m=\u001b[39m np\u001b[38;5;241m.\u001b[39msqrt(np\u001b[38;5;241m.\u001b[39msum(np\u001b[38;5;241m.\u001b[39mpower(f \u001b[38;5;241m-\u001b[39m z, \u001b[38;5;241m2\u001b[39m))) \u001b[38;5;241m/\u001b[39m (f \u001b[38;5;241m-\u001b[39m z)\n\u001b[0;32m---> 65\u001b[0m     a_m \u001b[38;5;241m=\u001b[39m (\u001b[43mdf\u001b[49m\u001b[43m \u001b[49m\u001b[38;5;241;43m*\u001b[39;49m\u001b[43m \u001b[49m\u001b[43mw\u001b[49m \u001b[38;5;241m+\u001b[39m (rho \u001b[38;5;241m*\u001b[39m np\u001b[38;5;241m.\u001b[39msum(df \u001b[38;5;241m*\u001b[39m w, axis\u001b[38;5;241m=\u001b[39m\u001b[38;5;241m1\u001b[39m))[:, \u001b[38;5;28;01mNone\u001b[39;00m])\u001b[38;5;241m.\u001b[39mT\n\u001b[1;32m     67\u001b[0m     A \u001b[38;5;241m=\u001b[39m np\u001b[38;5;241m.\u001b[39mones((problem\u001b[38;5;241m.\u001b[39mn_obj, problem\u001b[38;5;241m.\u001b[39mn_obj)) \u001b[38;5;241m+\u001b[39m a_m \u001b[38;5;241m@\u001b[39m a_m\u001b[38;5;241m.\u001b[39mT\n\u001b[1;32m     68\u001b[0m     b \u001b[38;5;241m=\u001b[39m np\u001b[38;5;241m.\u001b[39mones(problem\u001b[38;5;241m.\u001b[39mn_obj)\n",
      "\u001b[0;31mValueError\u001b[0m: operands could not be broadcast together with shapes (30,2) (3,) "
     ]
    }
   ],
   "source": [
    "from pymoo.indicators.kktpm import KKTPM\n",
    "from pymoo.operators.sampling.rnd import FloatRandomSampling\n",
    "\n",
    "X = FloatRandomSampling().do(problem, 100).get(\"X\")\n",
    "kktpm = KKTPM().calc(X, problem)"
   ]
  },
  {
   "cell_type": "markdown",
   "metadata": {},
   "source": [
    "Moreover, a whole run of a genetic algorithm can be analyzed by storing each generation's history and then calculating the KKTPM metric for each of the points:"
   ]
  },
  {
   "cell_type": "code",
   "execution_count": null,
   "metadata": {
    "tags": []
   },
   "outputs": [],
   "source": [
    "from pymoo.algorithms.moo.nsga2 import NSGA2\n",
    "from pymoo.problems import get_problem\n",
    "from pymoo.optimize import minimize\n",
    "from pymoo.visualization.scatter import Scatter\n",
    "from pymoo.core.evaluator import Evaluator\n",
    "\n",
    "\n",
    "algorithm = NSGA2(pop_size=100, eliminate_duplicates=True)\n",
    "\n",
    "# make sure each evaluation also has the derivatives - necessary for KKTPM\n",
    "evaluator = Evaluator(evaluate_values_of=[\"F\", \"G\", \"dF\", \"dG\"])\n",
    "\n",
    "res = minimize(problem,\n",
    "               algorithm,\n",
    "               ('n_gen', 100),\n",
    "               evaluator=evaluator,\n",
    "               seed=1,\n",
    "               save_history=True,\n",
    "               verbose=False)"
   ]
  },
  {
   "cell_type": "code",
   "execution_count": null,
   "metadata": {
    "tags": []
   },
   "outputs": [],
   "source": [
    "import numpy as np\n",
    "gen, _min, _median, _max = [], [], [], []\n",
    "\n",
    "for algorithm in res.history:\n",
    "    if algorithm.n_gen % 5 == 0:\n",
    "        X = algorithm.pop.get(\"X\")\n",
    "        kktpm = KKTPM().calc(X, problem)\n",
    "\n",
    "        gen.append(algorithm.n_gen)\n",
    "        _min.append(kktpm.min())\n",
    "        _median.append(np.median(kktpm))\n",
    "        _max.append(kktpm.max())"
   ]
  },
  {
   "cell_type": "code",
   "execution_count": null,
   "metadata": {
    "tags": []
   },
   "outputs": [],
   "source": [
    "import matplotlib.pyplot as plt\n",
    "\n",
    "plt.plot(gen, _min, label=\"Min\")\n",
    "plt.plot(gen, _median, label=\"Median\")\n",
    "plt.plot(gen, _max, label=\"Max\")\n",
    "plt.yscale(\"log\")\n",
    "plt.legend()\n",
    "plt.show()"
   ]
  }
 ],
 "metadata": {
  "kernelspec": {
   "display_name": "Python 3",
   "language": "python",
   "name": "python3"
  },
  "language_info": {
   "codemirror_mode": {
    "name": "ipython",
    "version": 3
   },
   "file_extension": ".py",
   "mimetype": "text/x-python",
   "name": "python",
   "nbconvert_exporter": "python",
   "pygments_lexer": "ipython3",
   "version": "3.10.12"
  }
 },
 "nbformat": 4,
 "nbformat_minor": 4
}
